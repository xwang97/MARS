{
 "cells": [
  {
   "cell_type": "code",
   "execution_count": 1,
   "id": "86bf7445-5549-49a8-bdf7-8042ff2aa8e5",
   "metadata": {},
   "outputs": [],
   "source": [
    "%load_ext autoreload\n",
    "%autoreload 2"
   ]
  },
  {
   "cell_type": "code",
   "execution_count": 13,
   "id": "9a1ced3e-dd32-43b8-8b3a-66902cbb097a",
   "metadata": {},
   "outputs": [
    {
     "name": "stderr",
     "output_type": "stream",
     "text": [
      "100%|██████████| 100/100 [07:31<00:00,  4.52s/it]\n"
     ]
    }
   ],
   "source": [
    "from evaluation import eval_marvel\n",
    "import numpy as np\n",
    "\n",
    "single_score, multi_score, wrong_ids, rectified_ids, avg_tokens, avg_time = eval_marvel(task=\"mmlu\", n_problems=100, selected=True, n_reviewers=2, verbosity=0)\n",
    "np.savetxt(\"data/mmlu/hard.txt\", wrong_ids)\n",
    "np.savetxt(\"data/mmlu/corrected.txt\", rectified_ids)"
   ]
  },
  {
   "cell_type": "code",
   "execution_count": 14,
   "id": "6f158c8c-1fee-40d1-82d3-f70ba9a8767e",
   "metadata": {},
   "outputs": [
    {
     "data": {
      "text/plain": [
       "(68, 67, [], 1619.1, 4.518335514068603)"
      ]
     },
     "execution_count": 14,
     "metadata": {},
     "output_type": "execute_result"
    }
   ],
   "source": [
    "single_score, multi_score, rectified_ids, avg_tokens, avg_time"
   ]
  },
  {
   "cell_type": "code",
   "execution_count": 13,
   "id": "abb6ed59-db05-478c-b8bb-c0382fe41a3a",
   "metadata": {},
   "outputs": [
    {
     "name": "stderr",
     "output_type": "stream",
     "text": [
      "100%|██████████| 100/100 [03:02<00:00,  1.83s/it]\n"
     ]
    }
   ],
   "source": [
    "from evaluation import eval_self_reflection\n",
    "\n",
    "single_score, score, wrong_ids, avg_tokens, avg_time = eval_self_reflection(task=\"mmlu\", verbosity=0)"
   ]
  },
  {
   "cell_type": "code",
   "execution_count": 14,
   "id": "228f5a0f-b10f-4b6f-aa2d-68f47744b518",
   "metadata": {},
   "outputs": [
    {
     "data": {
      "text/plain": [
       "(68, 67, 628.42, 1.826026906967163)"
      ]
     },
     "execution_count": 14,
     "metadata": {},
     "output_type": "execute_result"
    }
   ],
   "source": [
    "single_score, score, avg_tokens, avg_time"
   ]
  },
  {
   "cell_type": "code",
   "execution_count": 15,
   "id": "a33e4fe5-6969-4c6c-b2f5-25360e0a65e4",
   "metadata": {},
   "outputs": [
    {
     "name": "stderr",
     "output_type": "stream",
     "text": [
      "100%|██████████| 100/100 [13:44<00:00,  8.25s/it]\n"
     ]
    }
   ],
   "source": [
    "from evaluation import eval_debate\n",
    "\n",
    "score, wrong_ids, avg_tokens, avg_time = eval_debate(task=\"mmlu\", verbosity=0)"
   ]
  },
  {
   "cell_type": "code",
   "execution_count": 16,
   "id": "e6e50ed1-eff7-4e5d-b67a-05783bb96d87",
   "metadata": {},
   "outputs": [
    {
     "data": {
      "text/plain": [
       "(73, 3268.23, 8.247733538150788)"
      ]
     },
     "execution_count": 16,
     "metadata": {},
     "output_type": "execute_result"
    }
   ],
   "source": [
    "score, avg_tokens, avg_time"
   ]
  },
  {
   "cell_type": "code",
   "execution_count": null,
   "id": "61ad68c4-35b4-465e-bd33-4138120744c7",
   "metadata": {},
   "outputs": [],
   "source": []
  }
 ],
 "metadata": {
  "kernelspec": {
   "display_name": "Python 3 (ipykernel)",
   "language": "python",
   "name": "python3"
  },
  "language_info": {
   "codemirror_mode": {
    "name": "ipython",
    "version": 3
   },
   "file_extension": ".py",
   "mimetype": "text/x-python",
   "name": "python",
   "nbconvert_exporter": "python",
   "pygments_lexer": "ipython3",
   "version": "3.11.11"
  }
 },
 "nbformat": 4,
 "nbformat_minor": 5
}
