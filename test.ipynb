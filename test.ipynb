{
 "cells": [
  {
   "cell_type": "code",
   "execution_count": 1,
   "id": "86bf7445-5549-49a8-bdf7-8042ff2aa8e5",
   "metadata": {},
   "outputs": [],
   "source": [
    "%load_ext autoreload\n",
    "%autoreload 2"
   ]
  },
  {
   "cell_type": "code",
   "execution_count": 19,
   "id": "9a1ced3e-dd32-43b8-8b3a-66902cbb097a",
   "metadata": {},
   "outputs": [
    {
     "name": "stderr",
     "output_type": "stream",
     "text": [
      "100%|██████████| 48/48 [01:53<00:00,  2.36s/it]\n"
     ]
    }
   ],
   "source": [
    "from evaluation import eval_single_agent\n",
    "import numpy as np\n",
    "\n",
    "score, wrong_ids, avg_tokens, avg_time = eval_single_agent(task=\"gpqa\", n_problems=100, selected=True, verbosity=0)\n",
    "# np.savetxt(\"data/mmlu/hard.txt\", wrong_ids)\n",
    "# np.savetxt(\"data/mmlu/corrected.txt\", rectified_ids)"
   ]
  },
  {
   "cell_type": "code",
   "execution_count": 20,
   "id": "6f158c8c-1fee-40d1-82d3-f70ba9a8767e",
   "metadata": {},
   "outputs": [
    {
     "data": {
      "text/plain": [
       "(15, 360.0208333333333, 2.3628760427236557)"
      ]
     },
     "execution_count": 20,
     "metadata": {},
     "output_type": "execute_result"
    }
   ],
   "source": [
    "score, avg_tokens, avg_time"
   ]
  },
  {
   "cell_type": "code",
   "execution_count": 6,
   "id": "96dd30e8-3b9c-4765-acb3-3a06c0617a82",
   "metadata": {},
   "outputs": [
    {
     "name": "stderr",
     "output_type": "stream",
     "text": [
      "100%|██████████| 100/100 [22:38<00:00, 13.58s/it]\n"
     ]
    }
   ],
   "source": [
    "from evaluation import eval_marvel\n",
    "multi_score, corrected_ids, avg_tokens, avg_time = eval_marvel(task=\"gpqa\", n_problems=100, n_reviewers=2, selected=True, verbosity=0)"
   ]
  },
  {
   "cell_type": "code",
   "execution_count": 7,
   "id": "a4f77819-0563-4e91-91cd-2fae930e3d03",
   "metadata": {},
   "outputs": [
    {
     "data": {
      "text/plain": [
       "(42,\n",
       " [39, 80, 102, 115, 188, 206, 231, 263, 306, 330, 333, 359, 398, 415, 418],\n",
       " 4569.47,\n",
       " 13.583229103088378)"
      ]
     },
     "execution_count": 7,
     "metadata": {},
     "output_type": "execute_result"
    }
   ],
   "source": [
    "multi_score, corrected_ids, avg_tokens, avg_time"
   ]
  },
  {
   "cell_type": "code",
   "execution_count": null,
   "id": "abb6ed59-db05-478c-b8bb-c0382fe41a3a",
   "metadata": {},
   "outputs": [],
   "source": [
    "from evaluation import eval_self_reflection\n",
    "\n",
    "single_score, score, wrong_ids, avg_tokens, avg_time = eval_self_reflection(task=\"mmlu\", verbosity=0)"
   ]
  },
  {
   "cell_type": "code",
   "execution_count": 14,
   "id": "228f5a0f-b10f-4b6f-aa2d-68f47744b518",
   "metadata": {},
   "outputs": [
    {
     "data": {
      "text/plain": [
       "(68, 67, 628.42, 1.826026906967163)"
      ]
     },
     "execution_count": 14,
     "metadata": {},
     "output_type": "execute_result"
    }
   ],
   "source": [
    "single_score, score, avg_tokens, avg_time"
   ]
  },
  {
   "cell_type": "code",
   "execution_count": 35,
   "id": "a33e4fe5-6969-4c6c-b2f5-25360e0a65e4",
   "metadata": {},
   "outputs": [
    {
     "name": "stderr",
     "output_type": "stream",
     "text": [
      "100%|██████████| 100/100 [33:21<00:00, 20.02s/it]  \n"
     ]
    }
   ],
   "source": [
    "from evaluation import eval_debate\n",
    "\n",
    "score, wrong_ids, avg_tokens, avg_time = eval_debate(task=\"gpqa\", n_agents=3, verbosity=0)"
   ]
  },
  {
   "cell_type": "code",
   "execution_count": 36,
   "id": "e6e50ed1-eff7-4e5d-b67a-05783bb96d87",
   "metadata": {},
   "outputs": [
    {
     "data": {
      "text/plain": [
       "(39, 5037.62, 20.01512188434601)"
      ]
     },
     "execution_count": 36,
     "metadata": {},
     "output_type": "execute_result"
    }
   ],
   "source": [
    "score, avg_tokens, avg_time"
   ]
  },
  {
   "cell_type": "code",
   "execution_count": 1,
   "id": "c1dccc7b-4c68-4c47-b84f-35719acf1d54",
   "metadata": {
    "tags": []
   },
   "outputs": [
    {
     "name": "stdout",
     "output_type": "stream",
     "text": [
      "gpt-3.5-turbo ['gpt-3.5-turbo', 'gpt-3.5-turbo', 'gpt-3.5-turbo'] gpt-3.5-turbo\n"
     ]
    }
   ],
   "source": [
    "import yaml\n",
    "\n",
    "# Load the YAML config file\n",
    "with open(\"config.yml\", \"r\") as file:\n",
    "    config = yaml.safe_load(file)\n",
    "\n",
    "print(config['author_llm'], config['reviewer_llms'], config['meta_llm'])"
   ]
  },
  {
   "cell_type": "code",
   "execution_count": null,
   "id": "8a39ba41-d0ea-4059-809a-d347857a48e0",
   "metadata": {},
   "outputs": [],
   "source": []
  }
 ],
 "metadata": {
  "kernelspec": {
   "display_name": "Python 3 (ipykernel)",
   "language": "python",
   "name": "python3"
  },
  "language_info": {
   "codemirror_mode": {
    "name": "ipython",
    "version": 3
   },
   "file_extension": ".py",
   "mimetype": "text/x-python",
   "name": "python",
   "nbconvert_exporter": "python",
   "pygments_lexer": "ipython3",
   "version": "3.11.11"
  }
 },
 "nbformat": 4,
 "nbformat_minor": 5
}
