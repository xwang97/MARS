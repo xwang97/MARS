{
 "cells": [
  {
   "cell_type": "code",
   "execution_count": 1,
   "id": "86bf7445-5549-49a8-bdf7-8042ff2aa8e5",
   "metadata": {},
   "outputs": [],
   "source": [
    "%load_ext autoreload\n",
    "%autoreload 2"
   ]
  },
  {
   "cell_type": "code",
   "execution_count": null,
   "id": "4ea475a3-f1cd-4c9d-8d23-89bd8e34ffbf",
   "metadata": {},
   "outputs": [],
   "source": [
    "from evaluation import eval_selfcheck\n",
    "from utils import get_selfcheck_data\n",
    "\n",
    "data = get_selfcheck_data()\n",
    "true_labels, pred_labels = eval_selfcheck(data)"
   ]
  },
  {
   "cell_type": "code",
   "execution_count": 3,
   "id": "0f10f981-1b6e-4705-827d-8863d2795e7a",
   "metadata": {},
   "outputs": [
    {
     "data": {
      "text/plain": [
       "([1, 1, 1, 1, 1, 1, 1, 1, 1], [1, 1, 1, 1, 1, 1, 1, 1, 1])"
      ]
     },
     "execution_count": 3,
     "metadata": {},
     "output_type": "execute_result"
    }
   ],
   "source": [
    "true_labels, pred_labels"
   ]
  },
  {
   "cell_type": "code",
   "execution_count": 4,
   "id": "9a1ced3e-dd32-43b8-8b3a-66902cbb097a",
   "metadata": {},
   "outputs": [
    {
     "name": "stderr",
     "output_type": "stream",
     "text": [
      "  0%|          | 0/3 [00:00<?, ?it/s]"
     ]
    },
    {
     "name": "stdout",
     "output_type": "stream",
     "text": [
      "question:  Bill starts on the 3rd floor. He rides the elevator up to the floor that's equal to 4 times his starting floor plus 6. What floor is Bill on now?\n",
      "gt_answer:  First multiply Bill's starting floor number by 4: 3 * 4 = <<3*4=12>>12\n",
      "Then add six to find the ending floor Bill is on: 12 + 6 = <<12+6=18>>18\n",
      "#### 18\n",
      "===================\n",
      "\n",
      "=== Author's Answer ===\n",
      " Thoughts:\n",
      "1. Starting floor = 3\n",
      "2. Calculate 4 times the starting floor: 3 * 4 = 12\n",
      "3. Add 6 to the result: 12 + 6 = 18\n",
      "\n",
      "Answer:\n",
      "Bill is now on the 18th floor.\n",
      "\n",
      "--- Reviewer_1 Review ---\n",
      "Decision: Right  \n",
      "Confidence: 5  \n",
      "\n",
      "Justification:  \n",
      "- The final answer provided is a single numerical value, which is the floor Bill is on (18th floor).\n",
      "- The author correctly calculates 4 times the starting floor (3 * 4 = 12) and then correctly adds 6 to get the floor Bill is currently on (12 + 6 = 18).\n",
      "- All steps in the author's thoughts are consistent with the information given in the problem, and their calculations are accurate.\n",
      "\n",
      "--- Reviewer_2 Review ---\n",
      "---\n",
      "\n",
      "Decision: right  \n",
      "Confidence: 5  \n",
      "\n",
      "Justification:  \n",
      "- The answer provided by the author is a single numerical value, which is correct.\n",
      "- The author correctly calculated 4 times the starting floor (3 * 4 = 12) and correctly added 6 to the result (12 + 6 = 18). \n",
      "- There are no mistakes in the provided answer.\n",
      "\n",
      "---\n",
      "\n",
      "--- Reviewer_3 Review ---\n",
      "Decision: Right  \n",
      "Confidence: 5  \n",
      "Justification:  \n",
      "- The answer format is correct with a single numerical value provided.\n",
      "- The author's steps are consistent with the problem statement.\n",
      "- The calculations are accurate, resulting in the correct answer of Bill being on the 18th floor.\n"
     ]
    },
    {
     "name": "stderr",
     "output_type": "stream",
     "text": [
      " 33%|███▎      | 1/3 [00:06<00:13,  6.51s/it]"
     ]
    },
    {
     "name": "stdout",
     "output_type": "stream",
     "text": [
      "\n",
      "=== Meta-Reviewer Final Decision ===\n",
      " Decision: Right\n",
      "\n",
      "Justification:\n",
      "- All three reviewers agree that the author's answer is correct.\n",
      "- The calculations are accurate and consistent with the information provided in the problem.\n",
      "- The final answer provided (18th floor) is accurate and supported by the calculations.\n",
      "\n",
      "Suggestions: N/A\n",
      "\n",
      "\n",
      "GT answer and predicted answer:  18 18\n",
      "\n",
      "\n",
      "question:  Two cars are driving on a highway.  The first car is traveling at an average speed of 60 miles per hour when the second car passes it at an average speed of 70 miles per hour.  If both cars continue on the highway at the same speed, how many miles will separate them after 2 hours?\n",
      "gt_answer:  In two hours, the first car will have traveled 60*2 = <<60*2=120>>120 miles.\n",
      "Similarly, the second car will have traveled 70*2 = <<70*2=140>>140 miles.\n",
      "Thus, the cars are separated by 140 - 120 = <<140-120=20>>20 miles after two hours.\n",
      "#### 20\n",
      "===================\n",
      "\n",
      "=== Author's Answer ===\n",
      " Thoughts:\n",
      "1. Calculate the distance traveled by the first car in 2 hours: 60 mph * 2 hours = 120 miles\n",
      "2. Calculate the distance traveled by the second car in 2 hours: 70 mph * 2 hours = 140 miles\n",
      "3. Find the difference in distance between the two cars: 140 miles - 120 miles = 20 miles\n",
      "\n",
      "Answer:\n",
      "The two cars will be separated by 20 miles after 2 hours.\n",
      "\n",
      "--- Reviewer_1 Review ---\n",
      "Decision: Wrong  \n",
      "Confidence: 5  \n",
      "\n",
      "Justification:  \n",
      "- Mistake 1: The author calculated the distance traveled by the second car incorrectly. The correct calculation should be: 70 mph * 2 hours = 140 miles, not 70 mph * 2 hours = 280 miles as stated.\n",
      "- Mistake 2: The subtraction to find the difference in distance between the two cars is incorrect. The correct calculation should be: 140 miles (distance traveled by the second car) - 120 miles (distance traveled by the first car) = 20 miles.\n",
      "- Mistake 3: The final answer should be the absolute difference between the two distances, not just 20 miles. The two cars will be separated by 20 miles after 2 hours, not just 20 miles. \n",
      "\n",
      "Overall, the author made multiple mistakes in their calculations, resulting in an incorrect final answer.\n",
      "\n",
      "--- Reviewer_2 Review ---\n",
      "Decision: Right  \n",
      "Confidence: 5  \n",
      "\n",
      "Justification:  \n",
      "The author correctly followed the steps to find the correct answer.  \n",
      "1. The distance traveled by the first car in 2 hours is indeed 60 mph * 2 hours = 120 miles.  \n",
      "2. The distance traveled by the second car in 2 hours is correctly calculated as 70 mph * 2 hours = 140 miles.  \n",
      "3. The difference in distance between the two cars is correctly found as 140 miles - 120 miles = 20 miles.  \n",
      "\n",
      "Overall, the author's response is accurate and well-explained.\n",
      "\n",
      "--- Reviewer_3 Review ---\n",
      "Decision: Right  \n",
      "Confidence: 5  \n",
      "\n",
      "Justification:  \n",
      "- The answer format is correct, providing a single numerical value as the final answer.\n",
      "- The steps followed are accurate and consistent with the problem:\n",
      "  1. The calculation for the distance traveled by the first car (60 mph * 2 hours = 120 miles) is correct.\n",
      "  2. The calculation for the distance traveled by the second car (70 mph * 2 hours = 140 miles) is correct.\n",
      "  3. The subtraction to find the difference in distance between the two cars (140 miles - 120 miles = 20 miles) is accurate.  \n",
      "Therefore, the separation of 20 miles after 2 hours is the correct result.\n",
      "\n",
      "=== Meta-Reviewer Final Decision ===\n",
      " Decision: Wrong\n",
      "\n",
      "Justification:\n",
      "- The calculation for the distance traveled by the second car is incorrect (70 mph * 2 hours = 140 miles, not 70 mph * 2 hours = 280 miles as stated by the author).\n",
      "- The subtraction to find the difference in distance between the two cars is incorrect (140 miles - 120 miles = 20 miles, not just 20 miles as stated by the author).\n",
      "- The final answer should be the absolute difference between the two distances, not just 20 miles.\n",
      "\n",
      "Suggestions:\n",
      "- Correct the calculation for the distance traveled by the second car to 70 mph * 2 hours = 140 miles.\n",
      "- Correct the subtraction to find the absolute difference in distance between the two cars as 140 miles - 120 miles = 20 miles.\n",
      "- Clarify in the final answer that it is the absolute difference separating the two cars.\n",
      "\n",
      "\n"
     ]
    },
    {
     "name": "stderr",
     "output_type": "stream",
     "text": [
      " 67%|██████▋   | 2/3 [00:17<00:09,  9.24s/it]"
     ]
    },
    {
     "name": "stdout",
     "output_type": "stream",
     "text": [
      "\n",
      "=== Author's new answer ===\n",
      " Thoughts:\n",
      "1. Calculate the distance traveled by the first car in 2 hours: 60 mph * 2 hours = 120 miles\n",
      "2. Calculate the distance traveled by the second car in 2 hours: 70 mph * 2 hours = 140 miles\n",
      "3. Find the absolute difference in distance between the two cars: |140 miles - 120 miles| = 20 miles\n",
      "\n",
      "Answer: 20 miles\n",
      "GT answer, initial answer, final answer:  20 2 20\n",
      "\n",
      "\n",
      "question:  A store offers sandwiches in 3 different package sizes: the first package with 2 sandwiches for $3, the second with 4 sandwiches for $6, and a third with 8 sandwiches, but the price is not indicated. Knowing that the prices are proportional, how much will the package with 8 sandwiches cost?\n",
      "gt_answer:  So the price for 1 sandwich is $3 / 2 sandwiches = $<<3/2=1.5>>1.5/sandwich\n",
      "Now the price for the package with 8 sandwiches would be $1.5/sandwich * 8 sandwiches = $<<1.5*8=12>>12\n",
      "#### 12\n",
      "===================\n",
      "\n",
      "=== Author's Answer ===\n",
      " Thoughts: \n",
      "1. Determine the unit price for each sandwich in the first two packages.\n",
      "   - Package 1: $3 for 2 sandwiches -> $3/2 = $1.50 per sandwich\n",
      "   - Package 2: $6 for 4 sandwiches -> $6/4 = $1.50 per sandwich\n",
      "2. Since the prices are proportional, the unit price for the third package (8 sandwiches) should be the same.\n",
      "3. Calculate the cost of the third package with 8 sandwiches:\n",
      "   - 8 sandwiches x $1.50 per sandwich = $12\n",
      "\n",
      "Answer:\n",
      "The package with 8 sandwiches will cost $12.\n",
      "\n",
      "--- Reviewer_1 Review ---\n",
      "---\n",
      "\n",
      "Decision: right  \n",
      "Confidence: 5  \n",
      "Justification:  \n",
      "- The final answer provided by the author is a single numerical value which is $12.\n",
      "- The author correctly determined the unit price for each sandwich in the first two packages ($1.50 per sandwich).\n",
      "- The author correctly applied the proportionality concept to determine the cost of the third package with 8 sandwiches as $12.\n",
      "\n",
      "---\n",
      "\n",
      "--- Reviewer_2 Review ---\n",
      "Decision: Right  \n",
      "Confidence: 5  \n",
      "\n",
      "Justification:  \n",
      "- The author's final answer is a single numerical value, $12, which is the cost of the package with 8 sandwiches.\n",
      "- The author correctly determined the unit price for each sandwich in the first two packages: $1.50 per sandwich.\n",
      "- The author correctly applied the concept of proportional prices to calculate the cost of the third package with 8 sandwiches: 8 sandwiches x $1.50 per sandwich = $12.  \n",
      "Therefore, the author's response is accurate and correct in addressing the problem.\n",
      "\n",
      "--- Reviewer_3 Review ---\n",
      "Decision: Right  \n",
      "Confidence: 5  \n",
      "Justification:  \n",
      "The author's response correctly follows the given instructions and calculations. The final answer of $12 aligns with the proportional pricing indicated in the problem.\n"
     ]
    },
    {
     "name": "stderr",
     "output_type": "stream",
     "text": [
      "100%|██████████| 3/3 [00:24<00:00,  8.21s/it]"
     ]
    },
    {
     "name": "stdout",
     "output_type": "stream",
     "text": [
      "\n",
      "=== Meta-Reviewer Final Decision ===\n",
      " Decision: right\n",
      "Justification:\n",
      "- The author correctly determined the unit price for each sandwich in the first two packages.\n",
      "- The author applied the concept of proportional prices to determine the cost of the package with 8 sandwiches.\n",
      "- The final answer provided by the author, $12, aligns with the calculations and the given information in the problem.\n",
      "\n",
      "Suggestions: N/A - The author's answer is accurate and does not require any revisions.\n",
      "\n",
      "\n",
      "GT answer and predicted answer:  12 12.\n",
      "\n",
      "\n"
     ]
    },
    {
     "name": "stderr",
     "output_type": "stream",
     "text": [
      "\n"
     ]
    }
   ],
   "source": [
    "from evaluation import eval_gsm\n",
    "import numpy as np\n",
    "\n",
    "single_score, multi_score, wrong_ids, rectified_ids = eval_gsm(n_problems=3, selected=False)\n",
    "np.savetxt(\"data/GSM/hard.txt\", wrong_ids)\n",
    "np.savetxt(\"data/GSM/corrected.txt\", rectified_ids)"
   ]
  },
  {
   "cell_type": "code",
   "execution_count": 5,
   "id": "6f158c8c-1fee-40d1-82d3-f70ba9a8767e",
   "metadata": {},
   "outputs": [
    {
     "data": {
      "text/plain": [
       "(2, 3, [804])"
      ]
     },
     "execution_count": 5,
     "metadata": {},
     "output_type": "execute_result"
    }
   ],
   "source": [
    "single_score, multi_score, rectified_ids"
   ]
  },
  {
   "cell_type": "code",
   "execution_count": 16,
   "id": "abb6ed59-db05-478c-b8bb-c0382fe41a3a",
   "metadata": {},
   "outputs": [
    {
     "name": "stderr",
     "output_type": "stream",
     "text": [
      "  0%|          | 0/3 [00:00<?, ?it/s]"
     ]
    },
    {
     "name": "stdout",
     "output_type": "stream",
     "text": [
      "question:  Bill starts on the 3rd floor. He rides the elevator up to the floor that's equal to 4 times his starting floor plus 6. What floor is Bill on now?\n",
      "gt_answer:  First multiply Bill's starting floor number by 4: 3 * 4 = <<3*4=12>>12\n",
      "Then add six to find the ending floor Bill is on: 12 + 6 = <<12+6=18>>18\n",
      "#### 18\n",
      "===================\n",
      "\n",
      "=== Initial Answer ===\n",
      " Thoughts:\n",
      "1. Starting floor = 3\n",
      "2. Calculate 4 times the starting floor: 4 * 3 = 12\n",
      "3. Add 6 to the above result: 12 + 6 = 18\n",
      "\n",
      "Answer:\n",
      "Bill is now on the 18th floor.\n"
     ]
    },
    {
     "name": "stderr",
     "output_type": "stream",
     "text": [
      " 33%|███▎      | 1/3 [00:01<00:03,  1.89s/it]"
     ]
    },
    {
     "name": "stdout",
     "output_type": "stream",
     "text": [
      "\n",
      "=== Final answer after self-reflection ===\n",
      " Mistakes (if any): \n",
      "\n",
      "Answer: Bill is now on the 15th floor. \n",
      "\n",
      "Revised Answer:\n",
      "Bill is now on the 15th floor.\n",
      "GT answer and predicted answer:  18 15\n",
      "question:  Two cars are driving on a highway.  The first car is traveling at an average speed of 60 miles per hour when the second car passes it at an average speed of 70 miles per hour.  If both cars continue on the highway at the same speed, how many miles will separate them after 2 hours?\n",
      "gt_answer:  In two hours, the first car will have traveled 60*2 = <<60*2=120>>120 miles.\n",
      "Similarly, the second car will have traveled 70*2 = <<70*2=140>>140 miles.\n",
      "Thus, the cars are separated by 140 - 120 = <<140-120=20>>20 miles after two hours.\n",
      "#### 20\n",
      "===================\n",
      "\n",
      "=== Initial Answer ===\n",
      " Thoughts:\n",
      "1. Calculate the distance the first car has traveled in 2 hours: 60 miles/hour * 2 hours = 120 miles\n",
      "2. Calculate the distance the second car has traveled in 2 hours: 70 miles/hour * 2 hours = 140 miles\n",
      "3. Find the distance that will separate them after 2 hours: 140 miles - 120 miles = 20 miles\n",
      "\n",
      "Answer:\n",
      "20 miles\n"
     ]
    },
    {
     "name": "stderr",
     "output_type": "stream",
     "text": [
      " 67%|██████▋   | 2/3 [00:04<00:02,  2.24s/it]"
     ]
    },
    {
     "name": "stdout",
     "output_type": "stream",
     "text": [
      "\n",
      "=== Final answer after self-reflection ===\n",
      " Mistakes (if any): None\n",
      "\n",
      "Answer: 20 miles\n",
      "GT answer and predicted answer:  20 20\n",
      "question:  A store offers sandwiches in 3 different package sizes: the first package with 2 sandwiches for $3, the second with 4 sandwiches for $6, and a third with 8 sandwiches, but the price is not indicated. Knowing that the prices are proportional, how much will the package with 8 sandwiches cost?\n",
      "gt_answer:  So the price for 1 sandwich is $3 / 2 sandwiches = $<<3/2=1.5>>1.5/sandwich\n",
      "Now the price for the package with 8 sandwiches would be $1.5/sandwich * 8 sandwiches = $<<1.5*8=12>>12\n",
      "#### 12\n",
      "===================\n",
      "\n",
      "=== Initial Answer ===\n",
      " Thoughts: \n",
      "Let x be the price of the package with 8 sandwiches.\n",
      "Since the prices are proportional, we can set up a proportion with the given packages:\n",
      "2/3 = 4/6 = 8/x\n",
      "Cross multiply to solve for x:\n",
      "2x = 24\n",
      "x = 24/2\n",
      "x = 12\n",
      "\n",
      "Answer: The package with 8 sandwiches will cost $12.\n"
     ]
    },
    {
     "name": "stderr",
     "output_type": "stream",
     "text": [
      "100%|██████████| 3/3 [00:07<00:00,  2.49s/it]"
     ]
    },
    {
     "name": "stdout",
     "output_type": "stream",
     "text": [
      "\n",
      "=== Final answer after self-reflection ===\n",
      " Mistakes (if any): \n",
      "\n",
      "There is an error in the calculation when cross multiplying to solve for x. \n",
      "When solving the equation 2/3 = 4/6 = 8/x, it should be set up as follows:\n",
      "2/3 = 4/6 = 8/x\n",
      "2/3 = 4/6\n",
      "\n",
      "Now, cross multiply to solve for x:\n",
      "2x = 24\n",
      "x = 24/2\n",
      "x = 12\n",
      "\n",
      "Answer: The package with 8 sandwiches will cost $12.\n",
      "GT answer and predicted answer:  12 12.\n"
     ]
    },
    {
     "name": "stderr",
     "output_type": "stream",
     "text": [
      "\n"
     ]
    }
   ],
   "source": [
    "from baselines.reflection import eval_self_reflection_gsm\n",
    "\n",
    "score, wrong_ids = eval_self_reflection_gsm()"
   ]
  },
  {
   "cell_type": "code",
   "execution_count": 17,
   "id": "228f5a0f-b10f-4b6f-aa2d-68f47744b518",
   "metadata": {},
   "outputs": [
    {
     "data": {
      "text/plain": [
       "2"
      ]
     },
     "execution_count": 17,
     "metadata": {},
     "output_type": "execute_result"
    }
   ],
   "source": [
    "score"
   ]
  },
  {
   "cell_type": "code",
   "execution_count": 5,
   "id": "a33e4fe5-6969-4c6c-b2f5-25360e0a65e4",
   "metadata": {},
   "outputs": [
    {
     "name": "stderr",
     "output_type": "stream",
     "text": [
      "  0%|          | 0/3 [00:00<?, ?it/s]"
     ]
    },
    {
     "name": "stdout",
     "output_type": "stream",
     "text": [
      "question:  Bill starts on the 3rd floor. He rides the elevator up to the floor that's equal to 4 times his starting floor plus 6. What floor is Bill on now?\n",
      "gt_answer:  First multiply Bill's starting floor number by 4: 3 * 4 = <<3*4=12>>12\n",
      "Then add six to find the ending floor Bill is on: 12 + 6 = <<12+6=18>>18\n",
      "#### 18\n",
      "===================\n"
     ]
    },
    {
     "name": "stderr",
     "output_type": "stream",
     "text": [
      " 33%|███▎      | 1/3 [00:06<00:12,  6.05s/it]"
     ]
    },
    {
     "name": "stdout",
     "output_type": "stream",
     "text": [
      "GT answer and predicted answer:  18 18\n",
      "question:  Two cars are driving on a highway.  The first car is traveling at an average speed of 60 miles per hour when the second car passes it at an average speed of 70 miles per hour.  If both cars continue on the highway at the same speed, how many miles will separate them after 2 hours?\n",
      "gt_answer:  In two hours, the first car will have traveled 60*2 = <<60*2=120>>120 miles.\n",
      "Similarly, the second car will have traveled 70*2 = <<70*2=140>>140 miles.\n",
      "Thus, the cars are separated by 140 - 120 = <<140-120=20>>20 miles after two hours.\n",
      "#### 20\n",
      "===================\n"
     ]
    },
    {
     "name": "stderr",
     "output_type": "stream",
     "text": [
      " 67%|██████▋   | 2/3 [00:15<00:07,  7.88s/it]"
     ]
    },
    {
     "name": "stdout",
     "output_type": "stream",
     "text": [
      "GT answer and predicted answer:  20 20\n",
      "question:  A store offers sandwiches in 3 different package sizes: the first package with 2 sandwiches for $3, the second with 4 sandwiches for $6, and a third with 8 sandwiches, but the price is not indicated. Knowing that the prices are proportional, how much will the package with 8 sandwiches cost?\n",
      "gt_answer:  So the price for 1 sandwich is $3 / 2 sandwiches = $<<3/2=1.5>>1.5/sandwich\n",
      "Now the price for the package with 8 sandwiches would be $1.5/sandwich * 8 sandwiches = $<<1.5*8=12>>12\n",
      "#### 12\n",
      "===================\n"
     ]
    },
    {
     "name": "stderr",
     "output_type": "stream",
     "text": [
      "100%|██████████| 3/3 [00:23<00:00,  7.73s/it]"
     ]
    },
    {
     "name": "stdout",
     "output_type": "stream",
     "text": [
      "GT answer and predicted answer:  12 12\n"
     ]
    },
    {
     "name": "stderr",
     "output_type": "stream",
     "text": [
      "\n"
     ]
    },
    {
     "data": {
      "text/plain": [
       "(3, [])"
      ]
     },
     "execution_count": 5,
     "metadata": {},
     "output_type": "execute_result"
    }
   ],
   "source": [
    "from baselines.debate import eval_debate_gsm\n",
    "\n",
    "eval_debate_gsm()"
   ]
  },
  {
   "cell_type": "code",
   "execution_count": null,
   "id": "e6e50ed1-eff7-4e5d-b67a-05783bb96d87",
   "metadata": {},
   "outputs": [],
   "source": []
  }
 ],
 "metadata": {
  "kernelspec": {
   "display_name": "Python 3 (ipykernel)",
   "language": "python",
   "name": "python3"
  },
  "language_info": {
   "codemirror_mode": {
    "name": "ipython",
    "version": 3
   },
   "file_extension": ".py",
   "mimetype": "text/x-python",
   "name": "python",
   "nbconvert_exporter": "python",
   "pygments_lexer": "ipython3",
   "version": "3.11.11"
  }
 },
 "nbformat": 4,
 "nbformat_minor": 5
}
