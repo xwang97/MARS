{
 "cells": [
  {
   "cell_type": "code",
   "execution_count": 1,
   "id": "86bf7445-5549-49a8-bdf7-8042ff2aa8e5",
   "metadata": {},
   "outputs": [],
   "source": [
    "%load_ext autoreload\n",
    "%autoreload 2"
   ]
  },
  {
   "cell_type": "code",
   "execution_count": 17,
   "id": "9a1ced3e-dd32-43b8-8b3a-66902cbb097a",
   "metadata": {},
   "outputs": [
    {
     "name": "stderr",
     "output_type": "stream",
     "text": [
      "  0%|          | 0/3 [00:00<?, ?it/s]"
     ]
    },
    {
     "name": "stdout",
     "output_type": "stream",
     "text": [
      "question:  Errol bought a computer, 2 monitors, and a printer for $2,400. He paid $400 less for the printer than the computer. If the computer cost $1,100, how much did one monitor cost, in dollars?\n",
      "gt_answer:  He paid 1100-400=<<1100-400=700>>700 for the printer.\n",
      "He paid 2400-1100-700=<<2400-1100-700=600>>600 dollars for the monitors.\n",
      "Each monitor costs 600/2=<<600/2=300>>300 dollars.\n",
      "#### 300\n",
      "===================\n",
      "\n",
      "=== Author's Answer ===\n",
      " Thoughts: \n",
      "Let x be the cost of one monitor.\n",
      "The cost of the printer is $400 less than the computer, so the printer cost is $1,100 - $400 = $700.\n",
      "Since Errol bought a computer, 2 monitors, and a printer for $2,400, we can write the equation:\n",
      "1,100 + 2x + 700 = 2,400\n",
      "2x + 1,800 = 2,400\n",
      "2x = 600\n",
      "x = 300\n",
      "\n",
      "Answer:\n",
      "Each monitor costs $300.\n",
      "\n",
      "--- Reviewer_1 Review ---\n",
      "Decision: Right  \n",
      "Confidence: 5  \n",
      "Justification: The author correctly set up the equation based on the given information and solved for the cost of one monitor, which is $300. The steps are clear, and the final answer aligns with the problem statement.\n"
     ]
    },
    {
     "name": "stderr",
     "output_type": "stream",
     "text": [
      " 33%|███▎      | 1/3 [00:09<00:18,  9.49s/it]"
     ]
    },
    {
     "name": "stdout",
     "output_type": "stream",
     "text": [
      "\n",
      "=== Meta-Reviewer Final Decision ===\n",
      " Decision: Right\n",
      "Justification: The solution correctly sets up the equation, solves for the cost of one monitor, and provides the final answer of $300, which aligns with the problem.\n",
      "Suggestions: None, the answer is accurate and well-explained.\n",
      "\n",
      "\n",
      "GT answer and predicted answer:  300 300.\n",
      "\n",
      "\n",
      "question:  Jake's family wants to compare the cost of the two different amusement parks. The first amusement park has a $26 fee for each adult and a $12 fee for each child; while the second amusement park has a $14 fee for each adult and $10 for each child. If there are 2 adults and 2 children in their family, how much will they be able to save if they choose the second amusement park over the first?\n",
      "gt_answer:  The two adults pay $26 x 2 = $<<26*2=52>>52 for the first amusement park.\n",
      "While the two children's tickets cost $12 x 2 = $<<12*2=24>>24 for the first amusement park.\n",
      "So, they will pay a total of $52 + $24 = $<<52+24=76>>76 for the first amusement park.\n",
      "The two adults pay $14 x 2 = $<<14*2=28>>28 for the second amusement park.\n",
      "While the two children's tickets for the second amusement park cost $10 x 2 = $<<10*2=20>>20.\n",
      "So, they will pay a total of $28 + $20 = $<<28+20=48>>48 for the second amusement park.\n",
      "Thus, they will save $76 - $48 = $<<76-48=28>>28 if they choose the second amusement park over the first.\n",
      "#### 28\n",
      "===================\n",
      "\n",
      "=== Author's Answer ===\n",
      " Thoughts:\n",
      "1. Calculate the total cost for the first amusement park: (2 adults * $26) + (2 children * $12) = $52 + $24 = $76\n",
      "2. Calculate the total cost for the second amusement park: (2 adults * $14) + (2 children * $10) = $28 + $20 = $48\n",
      "3. Find the difference in cost between the two amusement parks: $76 - $48 = $28\n",
      "\n",
      "Answer:\n",
      "$28\n",
      "\n",
      "--- Reviewer_1 Review ---\n",
      "Decision: Right  \n",
      "Confidence: 5  \n",
      "Justification: The author correctly calculated the total cost for each amusement park as $76 for the first one and $48 for the second one. They also accurately found the difference in cost to be $28. The steps taken and the final answer are all correct.\n"
     ]
    },
    {
     "name": "stderr",
     "output_type": "stream",
     "text": [
      " 67%|██████▋   | 2/3 [00:12<00:05,  5.81s/it]"
     ]
    },
    {
     "name": "stdout",
     "output_type": "stream",
     "text": [
      "\n",
      "=== Meta-Reviewer Final Decision ===\n",
      " Decision: Right\n",
      "Justification: The reviewer correctly identified that the answer provided is accurate. The calculations for the total cost of each amusement park and the difference in cost between them are all correct.\n",
      "Suggestions: None, as the answer is accurate as it is.\n",
      "\n",
      "\n",
      "GT answer and predicted answer:  28 28\n",
      "\n",
      "\n",
      "question:  There are some oranges in a basket. Ana spends 3 minutes peeling an orange and Jane spends 4 minutes doing the same. If Ana and Jane start picking oranges from this basket to peel at the same time, how many more oranges will Ana have peeled than Jane after an hour?\n",
      "gt_answer:  There are 60 minutes in an hour. Ana peels an orange in 3 minutes so she will peel 60/3 = <<60/3=20>>20 oranges in an hour\n",
      "Jane peels an orange in 4 minutes so she will peel 60/4 = <<60/4=15>>15 oranges in an hour\n",
      "Ana will have peeled 20-15 = <<20-15=5>>5 more oranges\n",
      "#### 5\n",
      "===================\n",
      "\n",
      "=== Author's Answer ===\n",
      " Thoughts: \n",
      "1. Calculate how many oranges Ana peels in 1 minute: 1/3 = 1/3 orange per minute.\n",
      "2. Calculate how many oranges Jane peels in 1 minute: 1/4 = 1/4 orange per minute.\n",
      "3. Find the difference in oranges peeled per minute: 1/3 - 1/4 = 1/12 orange per minute.\n",
      "4. Multiply the difference by 60 minutes (1 hour): (1/12) * 60 = 5 oranges.\n",
      "\n",
      "Answer: 5\n",
      "\n",
      "Therefore, Ana will have peeled 5 more oranges than Jane after an hour.\n",
      "\n",
      "--- Reviewer_1 Review ---\n",
      "Decision: right  \n",
      "Confidence: 5  \n",
      "Justification: The author correctly calculated the rate at which Ana and Jane peel oranges per minute, found the difference, and multiplied that by 60 minutes to determine that Ana will have peeled 5 more oranges than Jane after an hour. The logic and calculations are all correct.\n"
     ]
    },
    {
     "name": "stderr",
     "output_type": "stream",
     "text": [
      "100%|██████████| 3/3 [00:20<00:00,  6.87s/it]"
     ]
    },
    {
     "name": "stdout",
     "output_type": "stream",
     "text": [
      "\n",
      "=== Meta-Reviewer Final Decision ===\n",
      " Decision: right\n",
      "Justification: The reviewer correctly analyzed the answer and found that the calculations and logic behind the answer are all correct.\n",
      "Suggestions: None, as the answer provided is accurate and well-supported.\n",
      "\n",
      "\n",
      "GT answer and predicted answer:  5 5\n",
      "\n",
      "\n"
     ]
    },
    {
     "name": "stderr",
     "output_type": "stream",
     "text": [
      "\n"
     ]
    }
   ],
   "source": [
    "from evaluation import eval_gsm\n",
    "import numpy as np\n",
    "\n",
    "single_score, multi_score, wrong_ids, rectified_ids, avg_tokens, avg_time = eval_gsm(n_problems=3, selected=False, n_reviewers=1, verbosity=1)\n",
    "np.savetxt(\"data/GSM/hard.txt\", wrong_ids)\n",
    "np.savetxt(\"data/GSM/corrected.txt\", rectified_ids)"
   ]
  },
  {
   "cell_type": "code",
   "execution_count": 18,
   "id": "6f158c8c-1fee-40d1-82d3-f70ba9a8767e",
   "metadata": {},
   "outputs": [
    {
     "data": {
      "text/plain": [
       "(3, 3, [], 1000.3333333333334, 6.873600403467814)"
      ]
     },
     "execution_count": 18,
     "metadata": {},
     "output_type": "execute_result"
    }
   ],
   "source": [
    "single_score, multi_score, rectified_ids, avg_tokens, avg_time"
   ]
  },
  {
   "cell_type": "code",
   "execution_count": 19,
   "id": "abb6ed59-db05-478c-b8bb-c0382fe41a3a",
   "metadata": {},
   "outputs": [
    {
     "name": "stderr",
     "output_type": "stream",
     "text": [
      "  0%|          | 0/3 [00:00<?, ?it/s]"
     ]
    },
    {
     "name": "stdout",
     "output_type": "stream",
     "text": [
      "question:  Errol bought a computer, 2 monitors, and a printer for $2,400. He paid $400 less for the printer than the computer. If the computer cost $1,100, how much did one monitor cost, in dollars?\n",
      "gt_answer:  He paid 1100-400=<<1100-400=700>>700 for the printer.\n",
      "He paid 2400-1100-700=<<2400-1100-700=600>>600 dollars for the monitors.\n",
      "Each monitor costs 600/2=<<600/2=300>>300 dollars.\n",
      "#### 300\n",
      "===================\n",
      "\n",
      "=== Initial Answer ===\n",
      " Thoughts:\n",
      "Let x be the cost of one monitor.\n",
      "The cost of the printer is $400 less than the computer, so it is $1,100 - $400 = $700.\n",
      "The total cost of the computer, two monitors, and the printer is $1,100 + 2x + $700 = $2,400.\n",
      "Combining like terms: $1,100 + 2x + $700 = $2,400\n",
      "$1,800 + 2x = $2,400\n",
      "2x = $600\n",
      "x = $300\n",
      "\n",
      "Answer:\n",
      "One monitor costs $300.\n"
     ]
    },
    {
     "name": "stderr",
     "output_type": "stream",
     "text": [
      " 33%|███▎      | 1/3 [00:04<00:09,  4.57s/it]"
     ]
    },
    {
     "name": "stdout",
     "output_type": "stream",
     "text": [
      "\n",
      "=== Final answer after self-reflection ===\n",
      " Mistakes (if any): \n",
      "\n",
      "Answer: $1,100 + 2x + $700 = $2,400\n",
      "$1,800 + 2x = $2,400\n",
      "2x = $600\n",
      "x = $300\n",
      "\n",
      "There are no mistakes in the calculation process. \n",
      "\n",
      "Answer: One monitor costs $300.\n",
      "GT answer and predicted answer:  300 300.\n",
      "question:  Jake's family wants to compare the cost of the two different amusement parks. The first amusement park has a $26 fee for each adult and a $12 fee for each child; while the second amusement park has a $14 fee for each adult and $10 for each child. If there are 2 adults and 2 children in their family, how much will they be able to save if they choose the second amusement park over the first?\n",
      "gt_answer:  The two adults pay $26 x 2 = $<<26*2=52>>52 for the first amusement park.\n",
      "While the two children's tickets cost $12 x 2 = $<<12*2=24>>24 for the first amusement park.\n",
      "So, they will pay a total of $52 + $24 = $<<52+24=76>>76 for the first amusement park.\n",
      "The two adults pay $14 x 2 = $<<14*2=28>>28 for the second amusement park.\n",
      "While the two children's tickets for the second amusement park cost $10 x 2 = $<<10*2=20>>20.\n",
      "So, they will pay a total of $28 + $20 = $<<28+20=48>>48 for the second amusement park.\n",
      "Thus, they will save $76 - $48 = $<<76-48=28>>28 if they choose the second amusement park over the first.\n",
      "#### 28\n",
      "===================\n",
      "\n",
      "=== Initial Answer ===\n",
      " Thoughts:\n",
      "1. Calculate the total cost for the first amusement park: \n",
      "(2 adults * $26) + (2 children * $12) = $52 + $24 = $76\n",
      "2. Calculate the total cost for the second amusement park:\n",
      "(2 adults * $14) + (2 children * $10) = $28 + $20 = $48\n",
      "3. Find the difference in cost between the two amusement parks:\n",
      "$76 - $48 = $28\n",
      "\n",
      "Answer:\n",
      "$28\n"
     ]
    },
    {
     "name": "stderr",
     "output_type": "stream",
     "text": [
      " 67%|██████▋   | 2/3 [00:08<00:04,  4.21s/it]"
     ]
    },
    {
     "name": "stdout",
     "output_type": "stream",
     "text": [
      "\n",
      "=== Final answer after self-reflection ===\n",
      " Mistakes (if any): None\n",
      "\n",
      "Answer: $28\n",
      "GT answer and predicted answer:  28 28\n",
      "question:  There are some oranges in a basket. Ana spends 3 minutes peeling an orange and Jane spends 4 minutes doing the same. If Ana and Jane start picking oranges from this basket to peel at the same time, how many more oranges will Ana have peeled than Jane after an hour?\n",
      "gt_answer:  There are 60 minutes in an hour. Ana peels an orange in 3 minutes so she will peel 60/3 = <<60/3=20>>20 oranges in an hour\n",
      "Jane peels an orange in 4 minutes so she will peel 60/4 = <<60/4=15>>15 oranges in an hour\n",
      "Ana will have peeled 20-15 = <<20-15=5>>5 more oranges\n",
      "#### 5\n",
      "===================\n",
      "\n",
      "=== Initial Answer ===\n",
      " Thoughts:\n",
      "1. Calculate how many oranges Ana peels in 1 minute: 1/3.\n",
      "2. Calculate how many oranges Jane peels in 1 minute: 1/4.\n",
      "3. Find the difference between the two rates: 1/3 - 1/4 = 1/12.\n",
      "4. Calculate how many more oranges Ana peels than Jane in 1 minute: 1/12.\n",
      "5. Calculate how many more oranges Ana peels than Jane in 60 minutes (1 hour): 1/12 * 60 = 5.\n",
      "\n",
      "Answer:\n",
      "Ana will have peeled 5 more oranges than Jane after an hour.\n"
     ]
    },
    {
     "name": "stderr",
     "output_type": "stream",
     "text": [
      "100%|██████████| 3/3 [00:14<00:00,  4.83s/it]"
     ]
    },
    {
     "name": "stdout",
     "output_type": "stream",
     "text": [
      "\n",
      "=== Final answer after self-reflection ===\n",
      " Mistakes (if any): \n",
      "\n",
      "1. The calculation for the difference between the two rates (1/3 - 1/4 = 1/12) is incorrect. The correct difference should be 1/3 - 1/4 = 1/12.\n",
      "2. In step 4, the calculation for how many more oranges Ana peels than Jane in 1 minute is incorrect. It should be 1/3 - 1/4 = 1/12.\n",
      "3. In step 5, the calculation for how many more oranges Ana peels than Jane in 60 minutes is incorrect. The correct calculation would be 1/12 * 60 = 5.\n",
      "\n",
      "Answer: 5\n",
      "GT answer and predicted answer:  5 5\n"
     ]
    },
    {
     "name": "stderr",
     "output_type": "stream",
     "text": [
      "\n"
     ]
    }
   ],
   "source": [
    "from baselines.reflection import eval_self_reflection_gsm\n",
    "\n",
    "score, wrong_ids, avg_tokens, avg_time = eval_self_reflection_gsm(verbosity=1)"
   ]
  },
  {
   "cell_type": "code",
   "execution_count": 20,
   "id": "228f5a0f-b10f-4b6f-aa2d-68f47744b518",
   "metadata": {},
   "outputs": [
    {
     "data": {
      "text/plain": [
       "(3, 615.0, 4.82701841990153)"
      ]
     },
     "execution_count": 20,
     "metadata": {},
     "output_type": "execute_result"
    }
   ],
   "source": [
    "score, avg_tokens, avg_time"
   ]
  },
  {
   "cell_type": "code",
   "execution_count": 22,
   "id": "a33e4fe5-6969-4c6c-b2f5-25360e0a65e4",
   "metadata": {},
   "outputs": [
    {
     "name": "stderr",
     "output_type": "stream",
     "text": [
      "  0%|          | 0/3 [00:00<?, ?it/s]"
     ]
    },
    {
     "name": "stdout",
     "output_type": "stream",
     "text": [
      "question:  Errol bought a computer, 2 monitors, and a printer for $2,400. He paid $400 less for the printer than the computer. If the computer cost $1,100, how much did one monitor cost, in dollars?\n",
      "gt_answer:  He paid 1100-400=<<1100-400=700>>700 for the printer.\n",
      "He paid 2400-1100-700=<<2400-1100-700=600>>600 dollars for the monitors.\n",
      "Each monitor costs 600/2=<<600/2=300>>300 dollars.\n",
      "#### 300\n",
      "===================\n",
      "\n",
      "=== Round 0 Agent 1 Answer ===\n",
      " Thoughts:\n",
      "Let x be the cost of one monitor.\n",
      "The cost of the printer = $1,100 - $400 = $700\n",
      "The total cost of all items can be expressed as: $1,100 + 2x + $700 = $2,400\n",
      "Simplify the equation: $1,800 + 2x = $2,400\n",
      "Subtract $1,800 from both sides to find the value of 2x: 2x = $600\n",
      "Divide by 2 to find the cost of one monitor: x = $300\n",
      "\n",
      "Answer:\n",
      "One monitor cost $300.\n",
      "\n",
      "=== Round 0 Agent 2 Answer ===\n",
      " Thoughts:\n",
      "Let x be the cost of one monitor.\n",
      "The cost of the printer is $400 less than the cost of the computer, so it is $1100 - $400 = $700.\n",
      "The total cost of the items is $2400, so we can set up the equation: $1100 + 2x + $700 = $2400.\n",
      "Solve for x:\n",
      "$1100 + 2x + $700 = $2400\n",
      "$1800 + 2x = $2400\n",
      "2x = $600\n",
      "x = $300\n",
      "\n",
      "Answer:\n",
      "One monitor cost $300.\n",
      "\n",
      "=== Round 0 Agent 3 Answer ===\n",
      " Thoughts: \n",
      "Let's denote the cost of the computer as C, the cost of one monitor as M, and the cost of the printer as P.\n",
      "\n",
      "Given:\n",
      "C = $1,100\n",
      "P = C - $400 = $1,100 - $400 = $700\n",
      "C + 2M + P = $2,400\n",
      "$1,100 + 2M + $700 = $2,400\n",
      "2M = $2,400 - $1,100 - $700\n",
      "2M = $600\n",
      "M = $600 / 2\n",
      "\n",
      "Answer:\n",
      "Each monitor costs $300.\n",
      "\n",
      "=== Round 1 Agent 1 Answer ===\n",
      " Thoughts:\n",
      "Following the information provided by other agents, I will also use the same approach to solve the problem. \n",
      "From the given equations and expressions:\n",
      "Let x be the cost of one monitor.\n",
      "The cost of the printer is $400 less than the cost of the computer, so it is $1,100 - $400 = $700.\n",
      "The total cost of the items is $2,400, so we can set up the equation: $1,100 + 2x + $700 = $2,400.\n",
      "Solving for x:\n",
      "$1,100 + 2x + $700 = $2,400\n",
      "$1,800 + 2x = $2,400\n",
      "2x = $600\n",
      "x = $600 / 2\n",
      "\n",
      "Answer:\n",
      "One monitor cost $300.\n",
      "\n",
      "=== Round 1 Agent 2 Answer ===\n",
      " Thoughts:\n",
      "Given C = $1,100, P = $700, C + 2M + P = $2,400\n",
      "Substitute values into the equation: $1,100 + 2M + $700 = $2,400\n",
      "Combine like terms: $1,800 + 2M = $2,400\n",
      "Subtract $1,800 from both sides: 2M = $600\n",
      "Divide by 2 to find the cost of one monitor: M = $300\n",
      "\n",
      "Answer:\n",
      "One monitor costs $300.\n"
     ]
    },
    {
     "name": "stderr",
     "output_type": "stream",
     "text": [
      " 33%|███▎      | 1/3 [00:15<00:30, 15.48s/it]"
     ]
    },
    {
     "name": "stdout",
     "output_type": "stream",
     "text": [
      "\n",
      "=== Round 1 Agent 3 Answer ===\n",
      " Thoughts:\n",
      "Given the cost of the computer, printer, and total purchase price, we can calculate the cost of one monitor using the information provided earlier. The cost of the computer is $1,100, the cost of the printer is $700, and the total cost of the purchase is $2,400. We know that the total cost is the sum of the computer, two monitors, and the printer, so we have the equation: $1,100 + 2M + $700 = $2,400. Solving for the cost of one monitor:\n",
      "$1,100 + 2M + $700 = $2,400\n",
      "$1,800 + 2M = $2,400\n",
      "2M = $600\n",
      "M = $300\n",
      "\n",
      "Answer:\n",
      "One monitor costs $300.\n",
      "GT answer and predicted answer:  300 300.\n",
      "question:  Jake's family wants to compare the cost of the two different amusement parks. The first amusement park has a $26 fee for each adult and a $12 fee for each child; while the second amusement park has a $14 fee for each adult and $10 for each child. If there are 2 adults and 2 children in their family, how much will they be able to save if they choose the second amusement park over the first?\n",
      "gt_answer:  The two adults pay $26 x 2 = $<<26*2=52>>52 for the first amusement park.\n",
      "While the two children's tickets cost $12 x 2 = $<<12*2=24>>24 for the first amusement park.\n",
      "So, they will pay a total of $52 + $24 = $<<52+24=76>>76 for the first amusement park.\n",
      "The two adults pay $14 x 2 = $<<14*2=28>>28 for the second amusement park.\n",
      "While the two children's tickets for the second amusement park cost $10 x 2 = $<<10*2=20>>20.\n",
      "So, they will pay a total of $28 + $20 = $<<28+20=48>>48 for the second amusement park.\n",
      "Thus, they will save $76 - $48 = $<<76-48=28>>28 if they choose the second amusement park over the first.\n",
      "#### 28\n",
      "===================\n",
      "\n",
      "=== Round 0 Agent 1 Answer ===\n",
      " Thoughts:\n",
      "1. Cost of first park for 2 adults: $26 x 2 = $52\n",
      "2. Cost of first park for 2 children: $12 x 2 = $24\n",
      "3. Total cost of first park: $52 + $24 = $76\n",
      "4. Cost of second park for 2 adults: $14 x 2 = $28\n",
      "5. Cost of second park for 2 children: $10 x 2 = $20\n",
      "6. Total cost of second park: $28 + $20 = $48\n",
      "7. Amount saved by choosing the second park over the first: $76 - $48 = $28\n",
      "\n",
      "Answer: $28\n",
      "\n",
      "=== Round 0 Agent 2 Answer ===\n",
      " Thoughts:\n",
      "1. Calculate the total cost for the first amusement park:\n",
      "   Total cost = (2 adults * $26) + (2 children * $12)\n",
      "              = ($52) + ($24)\n",
      "              = $76\n",
      "\n",
      "2. Calculate the total cost for the second amusement park:\n",
      "   Total cost = (2 adults * $14) + (2 children * $10)\n",
      "              = ($28) + ($20)\n",
      "              = $48\n",
      "\n",
      "3. Calculate the amount saved by choosing the second amusement park:\n",
      "   Savings = Total cost of first park - Total cost of second park\n",
      "           = $76 - $48\n",
      "           = $28\n",
      "\n",
      "Answer:\n",
      "The family will be able to save $28 if they choose the second amusement park over the first.\n",
      "\n",
      "=== Round 0 Agent 3 Answer ===\n",
      " Thoughts:\n",
      "1. Calculate the total cost for the first amusement park:\n",
      "Total cost = (2 adults * $26) + (2 children * $12)\n",
      "Total cost = $52 + $24\n",
      "Total cost = $76\n",
      "\n",
      "2. Calculate the total cost for the second amusement park:\n",
      "Total cost = (2 adults * $14) + (2 children * $10)\n",
      "Total cost = $28 + $20\n",
      "Total cost = $48\n",
      "\n",
      "3. Calculate the savings:\n",
      "Savings = Total cost at first amusement park - Total cost at second amusement park\n",
      "Savings = $76 - $48\n",
      "Savings = $28\n",
      "\n",
      "Answer: The family will be able to save $28 if they choose the second amusement park over the first.\n",
      "\n",
      "=== Round 1 Agent 1 Answer ===\n",
      " Thoughts:\n",
      "Given the cost of the first amusement park is $76 and the cost of the second amusement park is $48, the amount saved by choosing the second park over the first would be:\n",
      "$76 - $48 = $28\n",
      "\n",
      "Answer: $28\n",
      "\n",
      "=== Round 1 Agent 2 Answer ===\n",
      " Thoughts:\n",
      "1. Calculate the total cost for the first amusement park:\n",
      "   Total cost = (2 adults * $26) + (2 children * $12)\n",
      "              = $52 + $24\n",
      "              = $76\n",
      "\n",
      "2. Calculate the total cost for the second amusement park:\n",
      "   Total cost = (2 adults * $14) + (2 children * $10)\n",
      "              = $28 + $20\n",
      "              = $48\n",
      "\n",
      "3. Calculate the amount saved by choosing the second amusement park over the first:\n",
      "   Savings = Total cost of first park - Total cost of second park\n",
      "           = $76 - $48\n",
      "           = $28\n",
      "\n",
      "Answer:\n",
      "The family will be able to save $28 if they choose the second amusement park over the first.\n"
     ]
    },
    {
     "name": "stderr",
     "output_type": "stream",
     "text": [
      " 67%|██████▋   | 2/3 [00:29<00:14, 14.48s/it]"
     ]
    },
    {
     "name": "stdout",
     "output_type": "stream",
     "text": [
      "\n",
      "=== Round 1 Agent 3 Answer ===\n",
      " Thoughts:\n",
      "1. Calculate the total cost for the first amusement park:\n",
      "Total cost = (2 adults * $26) + (2 children * $12)\n",
      "Total cost = $52 + $24\n",
      "Total cost = $76\n",
      "\n",
      "2. Calculate the total cost for the second amusement park:\n",
      "Total cost = (2 adults * $14) + (2 children * $10)\n",
      "Total cost = $28 + $20\n",
      "Total cost = $48\n",
      "\n",
      "3. Calculate the savings:\n",
      "Savings = Total cost at first amusement park - Total cost at second amusement park\n",
      "Savings = $76 - $48\n",
      "Savings = $28\n",
      "\n",
      "Answer: The family will be able to save $28 if they choose the second amusement park over the first.\n",
      "GT answer and predicted answer:  28 28\n",
      "question:  There are some oranges in a basket. Ana spends 3 minutes peeling an orange and Jane spends 4 minutes doing the same. If Ana and Jane start picking oranges from this basket to peel at the same time, how many more oranges will Ana have peeled than Jane after an hour?\n",
      "gt_answer:  There are 60 minutes in an hour. Ana peels an orange in 3 minutes so she will peel 60/3 = <<60/3=20>>20 oranges in an hour\n",
      "Jane peels an orange in 4 minutes so she will peel 60/4 = <<60/4=15>>15 oranges in an hour\n",
      "Ana will have peeled 20-15 = <<20-15=5>>5 more oranges\n",
      "#### 5\n",
      "===================\n",
      "\n",
      "=== Round 0 Agent 1 Answer ===\n",
      " Thoughts: \n",
      "1. Find the least common multiple (LCM) of 3 minutes and 4 minutes which is 12 minutes.\n",
      "2. Determine how many oranges each person can peel in 12 minutes:\n",
      "   - Ana can peel 12/3 = 4 oranges in 12 minutes\n",
      "   - Jane can peel 12/4 = 3 oranges in 12 minutes\n",
      "3. Calculate the difference in the number of oranges peeled by Ana and Jane in 12 minutes:\n",
      "   - 4 oranges (Ana) - 3 oranges (Jane) = 1 orange\n",
      "4. Calculate how many more oranges Ana will peel than Jane in 60 minutes:\n",
      "   - 1 orange * 5 = 5 oranges\n",
      "\n",
      "Answer: Ana will have peeled 5 more oranges than Jane after an hour.\n",
      "\n",
      "=== Round 0 Agent 2 Answer ===\n",
      " Thoughts:\n",
      "1. Find the least common multiple of 3 and 4. LCM(3, 4) = 12.\n",
      "2. In 1 hour, Ana will have peeled 60/3 = 20 oranges.\n",
      "3. In 1 hour, Jane will have peeled 60/4 = 15 oranges.\n",
      "4. The difference in oranges peeled by Ana and Jane in 1 hour is 20 - 15 = 5 oranges.\n",
      "\n",
      "Answer:\n",
      "5\n",
      "\n",
      "=== Round 0 Agent 3 Answer ===\n",
      " Thoughts:\n",
      "1. Calculate how many oranges Ana peels in 1 minute: 60 minutes / 3 minutes per orange = 20 oranges per hour\n",
      "2. Calculate how many oranges Jane peels in 1 minute: 60 minutes / 4 minutes per orange = 15 oranges per hour\n",
      "3. Calculate the difference in oranges peeled by Ana and Jane in 1 minute: 20 oranges per hour - 15 oranges per hour = 5 oranges\n",
      "4. Multiply the difference in oranges by the number of minutes in an hour to find the total difference after an hour: 5 oranges * 60 minutes = 300 oranges\n",
      "\n",
      "Answer: Ana will have peeled 300 more oranges than Jane after an hour.\n",
      "\n",
      "=== Round 1 Agent 1 Answer ===\n",
      " Thoughts:\n",
      "1. Calculate how many more oranges Ana will have peeled than Jane after 1 hour according to my initial computation: 5 oranges\n",
      "2. Compare this answer to the new solutions provided by other agents:\n",
      "   - Other Agent 1: Ana will have peeled 5 more oranges than Jane after an hour.\n",
      "   - Other Agent 2: Ana will have peeled 300 more oranges than Jane after an hour.\n",
      "3. Based on comparison and consistency with my initial computation, the correct answer is 5 oranges.\n",
      "\n",
      "Answer: 5\n",
      "\n",
      "=== Round 1 Agent 2 Answer ===\n",
      " Thoughts:\n",
      "1. Ana peels 20 oranges per hour.\n",
      "2. Jane peels 15 oranges per hour.\n",
      "3. The difference in oranges peeled by Ana and Jane per hour is 20 - 15 = 5 oranges.\n",
      "\n",
      "Answer:\n",
      "Ana will have peeled 5 more oranges than Jane after an hour. \n",
      "\n",
      "Final Answer: 5\n"
     ]
    },
    {
     "name": "stderr",
     "output_type": "stream",
     "text": [
      "100%|██████████| 3/3 [00:44<00:00, 14.87s/it]"
     ]
    },
    {
     "name": "stdout",
     "output_type": "stream",
     "text": [
      "\n",
      "=== Round 1 Agent 3 Answer ===\n",
      " Thoughts:\n",
      "1. Find the least common multiple (LCM) of 3 minutes and 4 minutes which is 12 minutes.\n",
      "2. Calculate how many oranges Ana peels in 12 minutes: 12 minutes / 3 minutes per orange = 4 oranges\n",
      "3. Calculate how many oranges Jane peels in 12 minutes: 12 minutes / 4 minutes per orange = 3 oranges\n",
      "4. Determine the difference in oranges peeled by Ana and Jane in 12 minutes: 4 oranges (Ana) - 3 oranges (Jane) = 1 orange\n",
      "5. Multiply the difference in oranges by the number of sets of 12 minutes in an hour: 1 orange * 5 sets of 12 minutes = 5 oranges\n",
      "\n",
      "Answer: 5\n",
      "GT answer and predicted answer:  5 5\n"
     ]
    },
    {
     "name": "stderr",
     "output_type": "stream",
     "text": [
      "\n"
     ]
    },
    {
     "data": {
      "text/plain": [
       "(3, [], 3203.3333333333335, 14.87467352549235)"
      ]
     },
     "execution_count": 22,
     "metadata": {},
     "output_type": "execute_result"
    }
   ],
   "source": [
    "from baselines.debate import eval_debate_gsm\n",
    "\n",
    "eval_debate_gsm(verbosity=1)"
   ]
  },
  {
   "cell_type": "code",
   "execution_count": null,
   "id": "e6e50ed1-eff7-4e5d-b67a-05783bb96d87",
   "metadata": {},
   "outputs": [],
   "source": []
  }
 ],
 "metadata": {
  "kernelspec": {
   "display_name": "Python 3 (ipykernel)",
   "language": "python",
   "name": "python3"
  },
  "language_info": {
   "codemirror_mode": {
    "name": "ipython",
    "version": 3
   },
   "file_extension": ".py",
   "mimetype": "text/x-python",
   "name": "python",
   "nbconvert_exporter": "python",
   "pygments_lexer": "ipython3",
   "version": "3.11.11"
  }
 },
 "nbformat": 4,
 "nbformat_minor": 5
}
