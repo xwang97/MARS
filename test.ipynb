{
 "cells": [
  {
   "cell_type": "code",
   "execution_count": 1,
   "id": "86bf7445-5549-49a8-bdf7-8042ff2aa8e5",
   "metadata": {},
   "outputs": [],
   "source": [
    "%load_ext autoreload\n",
    "%autoreload 2"
   ]
  },
  {
   "cell_type": "code",
   "execution_count": 7,
   "id": "9a1ced3e-dd32-43b8-8b3a-66902cbb097a",
   "metadata": {},
   "outputs": [
    {
     "name": "stderr",
     "output_type": "stream",
     "text": [
      "  0%|          | 0/100 [00:00<?, ?it/s]"
     ]
    },
    {
     "name": "stdout",
     "output_type": "stream",
     "text": [
      "question:  The degree to which corporate decisions, policies, activities and impacts are acknowledged and made visible to relevant stakeholders is known as ________: A) Corporate Opaqueness, B) Corporate Transparency, C) Corporate Openness, D) Corporate Visibility\n",
      "gt_answer:  B\n",
      "===================\n",
      "\n",
      "=== Author's Answer ===\n",
      " Thoughts: The question is asking about the degree to which corporate decisions, policies, activities, and impacts are acknowledged and made visible to relevant stakeholders. This concept is often associated with the idea of openness and honesty in business practices. Transparency is a key aspect of corporate governance and is considered essential for building trust with stakeholders, including investors, customers, and employees. It involves providing clear and accurate information about a company's operations, financial performance, and social and environmental impacts.\n",
      "\n",
      "Answer: B\n",
      "\n",
      "--- Reviewer_1 Review ---\n",
      "Decision: right  \n",
      "Confidence: 5  \n",
      "Justification: The author's response accurately describes the concept of transparency in the context of corporate governance. The definition provided aligns with the general understanding of transparency in business practices, emphasizing the importance of openness and honesty in providing clear and accurate information to stakeholders. The author correctly identifies transparency as the key concept related to the degree to which corporate decisions, policies, activities, and impacts are acknowledged and made visible to relevant stakeholders.\n",
      "\n",
      "--- Reviewer_2 Review ---\n",
      "Decision: right  \n",
      "Confidence: 5  \n",
      "Justification: The author's response accurately describes the concept of transparency in the context of corporate governance. The definition provided aligns with the general understanding of transparency in business practices, emphasizing the importance of openness and honesty in providing clear and accurate information to stakeholders. The author correctly identifies transparency as the key concept related to the degree to which corporate decisions, policies, activities, and impacts are acknowledged and made visible to relevant stakeholders.\n",
      "\n",
      "--- Reviewer_3 Review ---\n",
      "Decision: right  \n",
      "Confidence: 5  \n",
      "Justification: The author's response accurately describes the concept of transparency in the context of corporate governance. The definition provided aligns with the general understanding of transparency in business practices, emphasizing the importance of openness and honesty in providing clear and accurate information to stakeholders. The author correctly identifies transparency as the key concept related to the degree to which corporate decisions, policies, activities, and impacts are acknowledged and made visible to relevant stakeholders.\n"
     ]
    },
    {
     "name": "stderr",
     "output_type": "stream",
     "text": [
      "  1%|          | 1/100 [00:26<43:15, 26.21s/it]"
     ]
    },
    {
     "name": "stdout",
     "output_type": "stream",
     "text": [
      "\n",
      "=== Meta-Reviewer Final Decision ===\n",
      " Decision: right\n",
      "Justification: Based on my own knowledge, the concept described in the question aligns with the general understanding of transparency in business practices. The idea of making corporate decisions, policies, activities, and impacts visible to relevant stakeholders is a fundamental aspect of transparency. The reviewers' feedback also consistently supports this conclusion, with all reviewers agreeing that the author's response accurately describes the concept of transparency in the context of corporate governance. The definition provided by the author emphasizes the importance of openness and honesty in providing clear and accurate information to stakeholders, which is a key characteristic of transparency.\n",
      "\n",
      "Suggestions: None, the answer is accurate and well-supported by the reviewers' feedback.\n",
      "\n",
      "\n",
      "GT, single-agent, and multi-agent answer:  B B None\n",
      "question:  Which of the following molecules does not form part of DNA?: A) Purine, B) Pyrimidine, C) Deoxyribose, D) Amino acid\n",
      "gt_answer:  D\n",
      "===================\n",
      "\n",
      "=== Author's Answer ===\n",
      " Thoughts: To determine which of the given options does not form part of DNA, we need to analyze each option. \n",
      "- Purine (A) is a type of nitrogenous base found in DNA, specifically adenine and guanine.\n",
      "- Pyrimidine (B) is also a type of nitrogenous base found in DNA, specifically cytosine and thymine.\n",
      "- Deoxyribose (C) is a type of sugar found in DNA, which forms the backbone of the DNA molecule.\n",
      "- Amino acid (D) is a type of molecule that forms proteins, not DNA.\n",
      "\n",
      "Considering the roles of each option in DNA, it's clear that amino acids are not part of DNA, but rather a component of proteins.\n",
      "\n",
      "Answer: D\n",
      "\n",
      "--- Reviewer_1 Review ---\n",
      "Decision: right  \n",
      "Confidence: 5  \n",
      "Justification: The author's response is accurate and consistent with the facts about DNA composition. They correctly identify the roles of purine, pyrimidine, and deoxyribose in DNA, and correctly state that amino acids are not part of DNA but rather a component of proteins. The explanation is clear and concise, and the conclusion is logically sound.\n",
      "\n",
      "--- Reviewer_2 Review ---\n",
      "Decision: right  \n",
      "Confidence: 5  \n",
      "Justification: The author's response is accurate and consistent with the facts about DNA composition. They correctly identify the roles of purine, pyrimidine, and deoxyribose in DNA, and correctly state that amino acids are not part of DNA but rather a component of proteins. The explanation is clear and concise, and the conclusion is logically sound.\n",
      "\n",
      "--- Reviewer_3 Review ---\n",
      "Decision: right  \n",
      "Confidence: 5  \n",
      "Justification: The author's response is accurate and consistent with the facts about DNA composition. They correctly identify the roles of purine, pyrimidine, and deoxyribose in DNA, and correctly state that amino acids are not part of DNA but rather a component of proteins. The explanation is clear and concise, and the conclusion is logically sound.\n"
     ]
    },
    {
     "name": "stderr",
     "output_type": "stream",
     "text": [
      "  2%|▏         | 2/100 [00:51<41:42, 25.53s/it]"
     ]
    },
    {
     "name": "stdout",
     "output_type": "stream",
     "text": [
      "\n",
      "=== Meta-Reviewer Final Decision ===\n",
      " Decision: right\n",
      "Justification: Based on my own knowledge, the answer provided is accurate. The explanation correctly identifies the roles of purine, pyrimidine, and deoxyribose in DNA, and correctly states that amino acids are not part of DNA but rather a component of proteins. The explanation is clear and concise, and the conclusion is logically sound. The consistency of the reviewer feedback further supports the correctness of the answer.\n",
      "\n",
      "Suggestions: None, the answer is well-written and accurate.\n",
      "\n",
      "\n",
      "GT, single-agent, and multi-agent answer:  D D None\n",
      "question:  Approximately how many kJ of energy are expended if an athlete's steady-rate oxygen uptake averages 3.0 l/min for 5 minutes of exercise?: A) 60 kJ, B) 150 kJ, C) 300 kJ, D) 500 kJ\n",
      "gt_answer:  C\n",
      "===================\n",
      "\n",
      "=== Author's Answer ===\n",
      " Thoughts: To solve this problem, we need to know the energy expenditure per liter of oxygen consumed. The energy expenditure per liter of oxygen is approximately 20 kJ. We are given the athlete's steady-rate oxygen uptake as 3.0 l/min for 5 minutes. First, we need to calculate the total oxygen consumed in 5 minutes. Since the rate is given per minute, we multiply the rate by the time in minutes. So, 3.0 l/min * 5 min = 15 l. Now, we can multiply the total oxygen consumed by the energy expenditure per liter of oxygen to get the total energy expended. 15 l * 20 kJ/l = 300 kJ.\n",
      "\n",
      "Answer: C\n",
      "\n",
      "--- Reviewer_1 Review ---\n",
      "Decision: right  \n",
      "Confidence: 5  \n",
      "Justification: The author's response is consistent with the given information and the known facts about energy expenditure per liter of oxygen. They correctly calculated the total oxygen consumed by multiplying the rate by the time and then multiplied the total oxygen consumed by the energy expenditure per liter of oxygen to get the total energy expended. The final answer of 300 kJ matches the calculation.\n",
      "\n",
      "--- Reviewer_2 Review ---\n",
      "Decision: right  \n",
      "Confidence: 5  \n",
      "Justification: The author's response is consistent with the given information and the known facts about energy expenditure per liter of oxygen. They correctly calculated the total oxygen consumed by multiplying the rate by the time and then multiplied the total oxygen consumed by the energy expenditure per liter of oxygen to get the total energy expended. The final answer of 300 kJ matches the calculation.\n",
      "\n",
      "--- Reviewer_3 Review ---\n",
      "Decision: right  \n",
      "Confidence: 5  \n",
      "Justification: The author's response is consistent with the given information and the known facts about energy expenditure per liter of oxygen. They correctly calculated the total oxygen consumed by multiplying the rate by the time and then multiplied the total oxygen consumed by the energy expenditure per liter of oxygen to get the total energy expended. The final answer of 300 kJ matches the calculation.\n"
     ]
    },
    {
     "name": "stderr",
     "output_type": "stream",
     "text": [
      "  3%|▎         | 3/100 [01:17<41:51, 25.89s/it]"
     ]
    },
    {
     "name": "stdout",
     "output_type": "stream",
     "text": [
      "\n",
      "=== Meta-Reviewer Final Decision ===\n",
      " Decision: right\n",
      "Justification: The author's response is consistent with the given information and the known facts about energy expenditure per liter of oxygen. They correctly calculated the total oxygen consumed by multiplying the rate by the time and then multiplied the total oxygen consumed by the energy expenditure per liter of oxygen to get the total energy expended. The final answer of 300 kJ matches the calculation. The reviewers' feedback is also consistent, with all three reviewers agreeing that the answer is correct with a high level of confidence.\n",
      "\n",
      "Suggestions: None. The answer is correct and consistent with the given information and the known facts about energy expenditure per liter of oxygen.\n",
      "\n",
      "\n",
      "GT, single-agent, and multi-agent answer:  C C None\n",
      "question:  Which muscle is the most active during a right lateral excursion of the mandible?: A) Left lateral pterygoid muscle, B) Right lateral pterygoid muscle, C) Left medial pterygoid muscle, D) Right medial pterygoid muscle\n",
      "gt_answer:  A\n",
      "===================\n",
      "\n",
      "=== Author's Answer ===\n",
      " Thoughts: The question is asking about the muscle that is most active during a right lateral excursion of the mandible. This means we are looking for the muscle that helps move the mandible (lower jawbone) to the right side. The lateral pterygoid muscles are involved in the movement of the mandible, specifically in its lateral (side-to-side) movement. The medial pterygoid muscles, on the other hand, are involved in the elevation and protrusion of the mandible. Given that we are looking for the muscle involved in a right lateral excursion, we can eliminate the medial pterygoid muscles. Between the two lateral pterygoid muscles, the right lateral pterygoid muscle would be the one involved in a right lateral excursion of the mandible.\n",
      "\n",
      "Answer: B\n",
      "\n",
      "--- Reviewer_1 Review ---\n",
      "Decision: right  \n",
      "Confidence: 5  \n",
      "Justification: The author's response is consistent with the anatomy of the muscles involved in mandibular movement. The lateral pterygoid muscles are indeed responsible for the lateral movement of the mandible, and the right lateral pterygoid muscle would be the one involved in a right lateral excursion. The author correctly eliminates the medial pterygoid muscles, which are involved in elevation and protrusion, not lateral movement. The explanation is clear and logical, and the answer choice is correct.\n",
      "\n",
      "--- Reviewer_2 Review ---\n",
      "Decision: right  \n",
      "Confidence: 5  \n",
      "Justification: The author's response is consistent with the anatomy of the muscles involved in mandibular movement. The lateral pterygoid muscles are indeed responsible for the lateral movement of the mandible, and the right lateral pterygoid muscle would be the one involved in a right lateral excursion. The author correctly eliminates the medial pterygoid muscles, which are involved in elevation and protrusion, not lateral movement. The explanation is clear and logical, and the answer choice is correct.\n",
      "\n",
      "--- Reviewer_3 Review ---\n",
      "Decision: right  \n",
      "Confidence: 5  \n",
      "Justification: The author's response is consistent with the anatomy of the muscles involved in mandibular movement. The lateral pterygoid muscles are indeed responsible for the lateral movement of the mandible, and the right lateral pterygoid muscle would be the one involved in a right lateral excursion. The author correctly eliminates the medial pterygoid muscles, which are involved in elevation and protrusion, not lateral movement. The explanation is clear and logical, and the answer choice is correct.\n"
     ]
    },
    {
     "name": "stderr",
     "output_type": "stream",
     "text": [
      "  4%|▍         | 4/100 [02:48<1:22:39, 51.66s/it]"
     ]
    },
    {
     "name": "stdout",
     "output_type": "stream",
     "text": [
      "\n",
      "=== Meta-Reviewer Final Decision ===\n",
      " Decision: right\n",
      "Justification: Based on my knowledge of anatomy, the lateral pterygoid muscles are responsible for the lateral movement of the mandible, and the right lateral pterygoid muscle would be the one involved in a right lateral excursion. The explanation provided by the author is clear and logical, and it correctly eliminates the medial pterygoid muscles, which are involved in elevation and protrusion, not lateral movement. The consistency of the reviewers' feedback also supports the correctness of the answer.\n",
      "\n",
      "Suggestions: The answer is clear and concise, but it could be improved by adding a brief explanation of why the lateral pterygoid muscles are responsible for lateral movement of the mandible, and how they work in conjunction with other muscles to achieve this movement. This would provide a more comprehensive understanding of the anatomy involved.\n",
      "\n",
      "\n",
      "GT, single-agent, and multi-agent answer:  A B None\n",
      "question:  Which of the following is (are) true about virtual memory systems that use pages?\n",
      "I. The virtual address space can be larger than the amount of physical memory.\n",
      "II. Programs must be resident in main memory throughout their execution.\n",
      "III. Pages correspond to semantic characteristics of the program.: A) I only, B) II only, C) I and II, D) I and III\n",
      "gt_answer:  A\n",
      "===================\n",
      "\n",
      "=== Author's Answer ===\n",
      " Thoughts: Virtual memory systems that use pages allow for a larger virtual address space than the physical memory available. This is because the operating system can use secondary storage (such as hard disk) to store pages that are not currently in use, effectively increasing the available memory. This makes statement I true. However, statement II is false because programs do not need to be resident in main memory throughout their execution. In a virtual memory system, pages can be swapped in and out of main memory as needed, allowing programs to run even if they exceed the available physical memory. Statement III is also false because pages typically correspond to physical characteristics of the program, such as the size of the program or the amount of memory it requires, rather than semantic characteristics.\n",
      "\n",
      "Answer: A\n",
      "\n",
      "--- Reviewer_1 Review ---\n",
      "Decision: right  \n",
      "Confidence: 5  \n",
      "Justification: The author's response accurately explains the concept of virtual memory systems that use pages. They correctly state that virtual memory systems can have a larger virtual address space than physical memory (I) because the operating system can use secondary storage to store pages not in use. They also correctly identify statement II as false, as programs do not need to be resident in main memory throughout their execution in a virtual memory system. Additionally, they correctly identify statement III as false, as pages typically correspond to physical characteristics of the program, not semantic characteristics. The author's response is well-reasoned and consistent with the facts about virtual memory systems.\n",
      "\n",
      "--- Reviewer_2 Review ---\n",
      "Decision: right  \n",
      "Confidence: 5  \n",
      "Justification: The author's response accurately explains the concept of virtual memory systems that use pages. They correctly state that virtual memory systems can have a larger virtual address space than physical memory (I) because the operating system can use secondary storage to store pages not in use. They also correctly identify statement II as false, as programs do not need to be resident in main memory throughout their execution in a virtual memory system. Additionally, they correctly identify statement III as false, as pages typically correspond to physical characteristics of the program, not semantic characteristics. The author's response is well-reasoned and consistent with the facts about virtual memory systems.\n",
      "\n",
      "--- Reviewer_3 Review ---\n",
      "Decision: right  \n",
      "Confidence: 5  \n",
      "Justification: The author's response accurately explains the concept of virtual memory systems that use pages. They correctly state that virtual memory systems can have a larger virtual address space than physical memory (I) because the operating system can use secondary storage to store pages not in use. They also correctly identify statement II as false, as programs do not need to be resident in main memory throughout their execution in a virtual memory system. Additionally, they correctly identify statement III as false, as pages typically correspond to physical characteristics of the program, not semantic characteristics. The author's response is well-reasoned and consistent with the facts about virtual memory systems.\n"
     ]
    },
    {
     "name": "stderr",
     "output_type": "stream",
     "text": [
      "  5%|▌         | 5/100 [03:26<1:13:38, 46.51s/it]"
     ]
    },
    {
     "name": "stdout",
     "output_type": "stream",
     "text": [
      "\n",
      "=== Meta-Reviewer Final Decision ===\n",
      " Decision: right\n",
      "Justification: Based on my own knowledge, the author's explanation of virtual memory systems that use pages is accurate. The concept of virtual memory allows for a larger virtual address space than physical memory by utilizing secondary storage to store pages not in use. This is a fundamental principle of virtual memory systems. Additionally, the author correctly identifies statement II as false, as programs do not need to be resident in main memory throughout their execution in a virtual memory system. The ability to swap pages in and out of main memory is a key feature of virtual memory systems. Furthermore, the author correctly identifies statement III as false, as pages typically correspond to physical characteristics of the program, such as size or memory requirements, rather than semantic characteristics. The author's response is well-reasoned and consistent with the facts about virtual memory systems.\n",
      "\n",
      "Suggestions: The answer is clear and concise, and the author provides a good explanation of the concept of virtual memory systems that use pages. However, it may be beneficial to provide more specific examples or scenarios to illustrate how virtual memory systems work in practice. This could help to make the explanation more engaging and easier to understand for readers who may not be familiar with the concept. Additionally, the author could consider providing more information about the trade-offs and limitations of virtual memory systems, such as the potential for page faults and the impact on system performance.\n",
      "\n",
      "\n",
      "GT, single-agent, and multi-agent answer:  A A None\n",
      "question:  Let x and y be positive integers such that 3x + 7y is divisible by 11. Which of the following must also be divisible by 11?: A) 4x + 6y, B) x + y + 5, C) 9x + 4y, D) 4x - 9y\n",
      "gt_answer:  D\n",
      "===================\n"
     ]
    },
    {
     "name": "stderr",
     "output_type": "stream",
     "text": [
      "  5%|▌         | 5/100 [04:32<1:26:24, 54.57s/it]\n"
     ]
    },
    {
     "data": {
      "text/html": [
       "<pre style=\"white-space:pre;overflow-x:auto;line-height:normal;font-family:Menlo,'DejaVu Sans Mono',consolas,'Courier New',monospace\"><span style=\"color: #ff0000; text-decoration-color: #ff0000\">╭─────────────────────────────── </span><span style=\"color: #ff0000; text-decoration-color: #ff0000; font-weight: bold\">Traceback </span><span style=\"color: #ff7f7f; text-decoration-color: #ff7f7f; font-weight: bold\">(most recent call last)</span><span style=\"color: #ff0000; text-decoration-color: #ff0000\"> ────────────────────────────────╮</span>\n",
       "<span style=\"color: #ff0000; text-decoration-color: #ff0000\">│</span> in <span style=\"color: #00ff00; text-decoration-color: #00ff00\">&lt;module&gt;</span>:<span style=\"color: #0000ff; text-decoration-color: #0000ff\">4</span>                                                                                    <span style=\"color: #ff0000; text-decoration-color: #ff0000\">│</span>\n",
       "<span style=\"color: #ff0000; text-decoration-color: #ff0000\">│</span>                                                                                                  <span style=\"color: #ff0000; text-decoration-color: #ff0000\">│</span>\n",
       "<span style=\"color: #ff0000; text-decoration-color: #ff0000\">│</span>   <span style=\"color: #7f7f7f; text-decoration-color: #7f7f7f\">1 </span><span style=\"color: #0000ff; text-decoration-color: #0000ff\">from</span><span style=\"color: #808080; text-decoration-color: #808080\"> </span><span style=\"color: #00ffff; text-decoration-color: #00ffff; text-decoration: underline\">evaluation</span><span style=\"color: #808080; text-decoration-color: #808080\"> </span><span style=\"color: #0000ff; text-decoration-color: #0000ff\">import</span> eval_marvel                                                           <span style=\"color: #ff0000; text-decoration-color: #ff0000\">│</span>\n",
       "<span style=\"color: #ff0000; text-decoration-color: #ff0000\">│</span>   <span style=\"color: #7f7f7f; text-decoration-color: #7f7f7f\">2 </span><span style=\"color: #0000ff; text-decoration-color: #0000ff\">import</span><span style=\"color: #808080; text-decoration-color: #808080\"> </span><span style=\"color: #00ffff; text-decoration-color: #00ffff; text-decoration: underline\">numpy</span><span style=\"color: #808080; text-decoration-color: #808080\"> </span><span style=\"color: #0000ff; text-decoration-color: #0000ff\">as</span><span style=\"color: #808080; text-decoration-color: #808080\"> </span><span style=\"color: #00ffff; text-decoration-color: #00ffff; text-decoration: underline\">np</span>                                                                           <span style=\"color: #ff0000; text-decoration-color: #ff0000\">│</span>\n",
       "<span style=\"color: #ff0000; text-decoration-color: #ff0000\">│</span>   <span style=\"color: #7f7f7f; text-decoration-color: #7f7f7f\">3 </span>                                                                                             <span style=\"color: #ff0000; text-decoration-color: #ff0000\">│</span>\n",
       "<span style=\"color: #ff0000; text-decoration-color: #ff0000\">│</span> <span style=\"color: #800000; text-decoration-color: #800000\">❱ </span>4 single_score, multi_score, wrong_ids, rectified_ids, avg_tokens, avg_time = <span style=\"font-weight: bold; text-decoration: underline\">eval_marvel(</span>     <span style=\"color: #ff0000; text-decoration-color: #ff0000\">│</span>\n",
       "<span style=\"color: #ff0000; text-decoration-color: #ff0000\">│</span>   <span style=\"color: #7f7f7f; text-decoration-color: #7f7f7f\">5 </span>np.savetxt(<span style=\"color: #808000; text-decoration-color: #808000\">\"data/mmlu/hard.txt\"</span>, wrong_ids)                                                  <span style=\"color: #ff0000; text-decoration-color: #ff0000\">│</span>\n",
       "<span style=\"color: #ff0000; text-decoration-color: #ff0000\">│</span>   <span style=\"color: #7f7f7f; text-decoration-color: #7f7f7f\">6 </span>np.savetxt(<span style=\"color: #808000; text-decoration-color: #808000\">\"data/mmlu/corrected.txt\"</span>, rectified_ids)                                         <span style=\"color: #ff0000; text-decoration-color: #ff0000\">│</span>\n",
       "<span style=\"color: #ff0000; text-decoration-color: #ff0000\">│</span>   <span style=\"color: #7f7f7f; text-decoration-color: #7f7f7f\">7 </span>                                                                                             <span style=\"color: #ff0000; text-decoration-color: #ff0000\">│</span>\n",
       "<span style=\"color: #ff0000; text-decoration-color: #ff0000\">│</span>                                                                                                  <span style=\"color: #ff0000; text-decoration-color: #ff0000\">│</span>\n",
       "<span style=\"color: #ff0000; text-decoration-color: #ff0000\">│</span> <span style=\"color: #bfbf7f; text-decoration-color: #bfbf7f\">/home/sagemaker-user/MultiAgents/MARVEL/</span><span style=\"color: #808000; text-decoration-color: #808000; font-weight: bold\">evaluation.py</span>:<span style=\"color: #0000ff; text-decoration-color: #0000ff\">40</span> in <span style=\"color: #00ff00; text-decoration-color: #00ff00\">eval_marvel</span>                          <span style=\"color: #ff0000; text-decoration-color: #ff0000\">│</span>\n",
       "<span style=\"color: #ff0000; text-decoration-color: #ff0000\">│</span>                                                                                                  <span style=\"color: #ff0000; text-decoration-color: #ff0000\">│</span>\n",
       "<span style=\"color: #ff0000; text-decoration-color: #ff0000\">│</span>   <span style=\"color: #7f7f7f; text-decoration-color: #7f7f7f\"> 37 </span><span style=\"color: #7f7f7f; text-decoration-color: #7f7f7f\">│   │   </span>answer = extract_answer(gt_answer, task)                                           <span style=\"color: #ff0000; text-decoration-color: #ff0000\">│</span>\n",
       "<span style=\"color: #ff0000; text-decoration-color: #ff0000\">│</span>   <span style=\"color: #7f7f7f; text-decoration-color: #7f7f7f\"> 38 </span><span style=\"color: #7f7f7f; text-decoration-color: #7f7f7f\">│   │   </span><span style=\"color: #7f7f7f; text-decoration-color: #7f7f7f\"># Run MARVEL pipeline</span>                                                              <span style=\"color: #ff0000; text-decoration-color: #ff0000\">│</span>\n",
       "<span style=\"color: #ff0000; text-decoration-color: #ff0000\">│</span>   <span style=\"color: #7f7f7f; text-decoration-color: #7f7f7f\"> 39 </span><span style=\"color: #7f7f7f; text-decoration-color: #7f7f7f\">│   │   </span>runner = PipelineRunner(task=task)                                                 <span style=\"color: #ff0000; text-decoration-color: #ff0000\">│</span>\n",
       "<span style=\"color: #ff0000; text-decoration-color: #ff0000\">│</span> <span style=\"color: #800000; text-decoration-color: #800000\">❱ </span> 40 <span style=\"color: #7f7f7f; text-decoration-color: #7f7f7f\">│   │   </span>review_history = <span style=\"font-weight: bold; text-decoration: underline\">runner.run_marvel_pipeline(question, n_reviewers=n_reviewers, v</span>   <span style=\"color: #ff0000; text-decoration-color: #ff0000\">│</span>\n",
       "<span style=\"color: #ff0000; text-decoration-color: #ff0000\">│</span>   <span style=\"color: #7f7f7f; text-decoration-color: #7f7f7f\"> 41 </span><span style=\"color: #7f7f7f; text-decoration-color: #7f7f7f\">│   │   </span>single_agent_answer = extract_pred_answer(review_history[<span style=\"color: #808000; text-decoration-color: #808000\">'author_response'</span>], tas   <span style=\"color: #ff0000; text-decoration-color: #ff0000\">│</span>\n",
       "<span style=\"color: #ff0000; text-decoration-color: #ff0000\">│</span>   <span style=\"color: #7f7f7f; text-decoration-color: #7f7f7f\"> 42 </span><span style=\"color: #7f7f7f; text-decoration-color: #7f7f7f\">│   │   </span>multi_agent_answer = extract_pred_answer_majority(review_history, n_reviewers, t   <span style=\"color: #ff0000; text-decoration-color: #ff0000\">│</span>\n",
       "<span style=\"color: #ff0000; text-decoration-color: #ff0000\">│</span>   <span style=\"color: #7f7f7f; text-decoration-color: #7f7f7f\"> 43 </span><span style=\"color: #7f7f7f; text-decoration-color: #7f7f7f\">│   │   </span><span style=\"color: #0000ff; text-decoration-color: #0000ff\">if</span> single_agent_answer == answer:                                                  <span style=\"color: #ff0000; text-decoration-color: #ff0000\">│</span>\n",
       "<span style=\"color: #ff0000; text-decoration-color: #ff0000\">│</span>                                                                                                  <span style=\"color: #ff0000; text-decoration-color: #ff0000\">│</span>\n",
       "<span style=\"color: #ff0000; text-decoration-color: #ff0000\">│</span> <span style=\"color: #bfbf7f; text-decoration-color: #bfbf7f\">/home/sagemaker-user/MultiAgents/MARVEL/</span><span style=\"color: #808000; text-decoration-color: #808000; font-weight: bold\">pipelines.py</span>:<span style=\"color: #0000ff; text-decoration-color: #0000ff\">23</span> in <span style=\"color: #00ff00; text-decoration-color: #00ff00\">run_marvel_pipeline</span>                   <span style=\"color: #ff0000; text-decoration-color: #ff0000\">│</span>\n",
       "<span style=\"color: #ff0000; text-decoration-color: #ff0000\">│</span>                                                                                                  <span style=\"color: #ff0000; text-decoration-color: #ff0000\">│</span>\n",
       "<span style=\"color: #ff0000; text-decoration-color: #ff0000\">│</span>   <span style=\"color: #7f7f7f; text-decoration-color: #7f7f7f\"> 20 </span><span style=\"color: #7f7f7f; text-decoration-color: #7f7f7f\">│   │   </span><span style=\"color: #7f7f7f; text-decoration-color: #7f7f7f\"># Step 1: Author answers</span>                                                           <span style=\"color: #ff0000; text-decoration-color: #ff0000\">│</span>\n",
       "<span style=\"color: #ff0000; text-decoration-color: #ff0000\">│</span>   <span style=\"color: #7f7f7f; text-decoration-color: #7f7f7f\"> 21 </span><span style=\"color: #7f7f7f; text-decoration-color: #7f7f7f\">│   │   </span>author_input = <span style=\"color: #00ffff; text-decoration-color: #00ffff\">self</span>.templates.construct_author_prompt(user_query)                  <span style=\"color: #ff0000; text-decoration-color: #ff0000\">│</span>\n",
       "<span style=\"color: #ff0000; text-decoration-color: #ff0000\">│</span>   <span style=\"color: #7f7f7f; text-decoration-color: #7f7f7f\"> 22 </span><span style=\"color: #7f7f7f; text-decoration-color: #7f7f7f\">│   │   </span>author_history.append(author_input)                                                <span style=\"color: #ff0000; text-decoration-color: #ff0000\">│</span>\n",
       "<span style=\"color: #ff0000; text-decoration-color: #ff0000\">│</span> <span style=\"color: #800000; text-decoration-color: #800000\">❱ </span> 23 <span style=\"color: #7f7f7f; text-decoration-color: #7f7f7f\">│   │   </span>author_response = <span style=\"font-weight: bold; text-decoration: underline\">author.run(author_history)</span>                                       <span style=\"color: #ff0000; text-decoration-color: #ff0000\">│</span>\n",
       "<span style=\"color: #ff0000; text-decoration-color: #ff0000\">│</span>   <span style=\"color: #7f7f7f; text-decoration-color: #7f7f7f\"> 24 </span><span style=\"color: #7f7f7f; text-decoration-color: #7f7f7f\">│   │   </span>author_history.append(author_response)                                             <span style=\"color: #ff0000; text-decoration-color: #ff0000\">│</span>\n",
       "<span style=\"color: #ff0000; text-decoration-color: #ff0000\">│</span>   <span style=\"color: #7f7f7f; text-decoration-color: #7f7f7f\"> 25 </span><span style=\"color: #7f7f7f; text-decoration-color: #7f7f7f\">│   │   </span><span style=\"color: #0000ff; text-decoration-color: #0000ff\">if</span> verbosity:                                                                      <span style=\"color: #ff0000; text-decoration-color: #ff0000\">│</span>\n",
       "<span style=\"color: #ff0000; text-decoration-color: #ff0000\">│</span>   <span style=\"color: #7f7f7f; text-decoration-color: #7f7f7f\"> 26 </span><span style=\"color: #7f7f7f; text-decoration-color: #7f7f7f\">│   │   │   </span><span style=\"color: #00ffff; text-decoration-color: #00ffff\">print</span>(<span style=\"color: #808000; text-decoration-color: #808000\">\"\\n=== Author's Answer ===\\n\"</span>, author_response[<span style=\"color: #808000; text-decoration-color: #808000\">\"content\"</span>])               <span style=\"color: #ff0000; text-decoration-color: #ff0000\">│</span>\n",
       "<span style=\"color: #ff0000; text-decoration-color: #ff0000\">│</span>                                                                                                  <span style=\"color: #ff0000; text-decoration-color: #ff0000\">│</span>\n",
       "<span style=\"color: #ff0000; text-decoration-color: #ff0000\">│</span> <span style=\"color: #bfbf7f; text-decoration-color: #bfbf7f\">/home/sagemaker-user/MultiAgents/MARVEL/</span><span style=\"color: #808000; text-decoration-color: #808000; font-weight: bold\">custom_agents.py</span>:<span style=\"color: #0000ff; text-decoration-color: #0000ff\">64</span> in <span style=\"color: #00ff00; text-decoration-color: #00ff00\">run</span>                               <span style=\"color: #ff0000; text-decoration-color: #ff0000\">│</span>\n",
       "<span style=\"color: #ff0000; text-decoration-color: #ff0000\">│</span>                                                                                                  <span style=\"color: #ff0000; text-decoration-color: #ff0000\">│</span>\n",
       "<span style=\"color: #ff0000; text-decoration-color: #ff0000\">│</span>   <span style=\"color: #7f7f7f; text-decoration-color: #7f7f7f\"> 61 </span><span style=\"color: #7f7f7f; text-decoration-color: #7f7f7f\">│   │   │   </span>messages = [{<span style=\"color: #808000; text-decoration-color: #808000\">\"role\"</span>: <span style=\"color: #808000; text-decoration-color: #808000\">\"user\"</span>, <span style=\"color: #808000; text-decoration-color: #808000\">\"content\"</span>: prompt}]                               <span style=\"color: #ff0000; text-decoration-color: #ff0000\">│</span>\n",
       "<span style=\"color: #ff0000; text-decoration-color: #ff0000\">│</span>   <span style=\"color: #7f7f7f; text-decoration-color: #7f7f7f\"> 62 </span><span style=\"color: #7f7f7f; text-decoration-color: #7f7f7f\">│   │   │   </span><span style=\"color: #0000ff; text-decoration-color: #0000ff\">return</span> <span style=\"color: #00ffff; text-decoration-color: #00ffff\">self</span>._call_aws(messages)[<span style=\"color: #808000; text-decoration-color: #808000\">\"content\"</span>]  <span style=\"color: #7f7f7f; text-decoration-color: #7f7f7f\"># for compatibility</span>                <span style=\"color: #ff0000; text-decoration-color: #ff0000\">│</span>\n",
       "<span style=\"color: #ff0000; text-decoration-color: #ff0000\">│</span>   <span style=\"color: #7f7f7f; text-decoration-color: #7f7f7f\"> 63 </span><span style=\"color: #7f7f7f; text-decoration-color: #7f7f7f\">│   │   </span><span style=\"color: #0000ff; text-decoration-color: #0000ff\">elif</span> <span style=\"color: #00ffff; text-decoration-color: #00ffff\">isinstance</span>(prompt, <span style=\"color: #00ffff; text-decoration-color: #00ffff\">list</span>):                                                     <span style=\"color: #ff0000; text-decoration-color: #ff0000\">│</span>\n",
       "<span style=\"color: #ff0000; text-decoration-color: #ff0000\">│</span> <span style=\"color: #800000; text-decoration-color: #800000\">❱ </span> 64 <span style=\"color: #7f7f7f; text-decoration-color: #7f7f7f\">│   │   │   </span><span style=\"color: #0000ff; text-decoration-color: #0000ff\">return</span> <span style=\"color: #00ffff; text-decoration-color: #00ffff; font-weight: bold; text-decoration: underline\">self</span><span style=\"font-weight: bold; text-decoration: underline\">._call_aws(prompt)</span>  <span style=\"color: #7f7f7f; text-decoration-color: #7f7f7f\"># chat-style list[dict]</span>                         <span style=\"color: #ff0000; text-decoration-color: #ff0000\">│</span>\n",
       "<span style=\"color: #ff0000; text-decoration-color: #ff0000\">│</span>   <span style=\"color: #7f7f7f; text-decoration-color: #7f7f7f\"> 65 </span><span style=\"color: #7f7f7f; text-decoration-color: #7f7f7f\">│   </span>                                                                                       <span style=\"color: #ff0000; text-decoration-color: #ff0000\">│</span>\n",
       "<span style=\"color: #ff0000; text-decoration-color: #ff0000\">│</span>   <span style=\"color: #7f7f7f; text-decoration-color: #7f7f7f\"> 66 </span><span style=\"color: #7f7f7f; text-decoration-color: #7f7f7f\">│   </span><span style=\"color: #0000ff; text-decoration-color: #0000ff\">def</span><span style=\"color: #808080; text-decoration-color: #808080\"> </span><span style=\"color: #00ff00; text-decoration-color: #00ff00\">_call_aws</span>(<span style=\"color: #00ffff; text-decoration-color: #00ffff\">self</span>, messages: <span style=\"color: #00ffff; text-decoration-color: #00ffff\">list</span>[<span style=\"color: #00ffff; text-decoration-color: #00ffff\">dict</span>]) -&gt; <span style=\"color: #00ffff; text-decoration-color: #00ffff\">dict</span>:                                     <span style=\"color: #ff0000; text-decoration-color: #ff0000\">│</span>\n",
       "<span style=\"color: #ff0000; text-decoration-color: #ff0000\">│</span>   <span style=\"color: #7f7f7f; text-decoration-color: #7f7f7f\"> 67 </span><span style=\"color: #7f7f7f; text-decoration-color: #7f7f7f\">│   │   </span>formatted_input = <span style=\"color: #00ffff; text-decoration-color: #00ffff\">self</span>.tokenizer.apply_chat_template(messages, tokenize=<span style=\"color: #0000ff; text-decoration-color: #0000ff\">False</span>, a   <span style=\"color: #ff0000; text-decoration-color: #ff0000\">│</span>\n",
       "<span style=\"color: #ff0000; text-decoration-color: #ff0000\">│</span>                                                                                                  <span style=\"color: #ff0000; text-decoration-color: #ff0000\">│</span>\n",
       "<span style=\"color: #ff0000; text-decoration-color: #ff0000\">│</span> <span style=\"color: #bfbf7f; text-decoration-color: #bfbf7f\">/home/sagemaker-user/MultiAgents/MARVEL/</span><span style=\"color: #808000; text-decoration-color: #808000; font-weight: bold\">custom_agents.py</span>:<span style=\"color: #0000ff; text-decoration-color: #0000ff\">76</span> in <span style=\"color: #00ff00; text-decoration-color: #00ff00\">_call_aws</span>                         <span style=\"color: #ff0000; text-decoration-color: #ff0000\">│</span>\n",
       "<span style=\"color: #ff0000; text-decoration-color: #ff0000\">│</span>                                                                                                  <span style=\"color: #ff0000; text-decoration-color: #ff0000\">│</span>\n",
       "<span style=\"color: #ff0000; text-decoration-color: #ff0000\">│</span>   <span style=\"color: #7f7f7f; text-decoration-color: #7f7f7f\"> 73 </span><span style=\"color: #7f7f7f; text-decoration-color: #7f7f7f\">│   │   │   │   </span><span style=\"color: #808000; text-decoration-color: #808000\">\"decoder_input_details\"</span>: <span style=\"color: #0000ff; text-decoration-color: #0000ff\">True</span>                                              <span style=\"color: #ff0000; text-decoration-color: #ff0000\">│</span>\n",
       "<span style=\"color: #ff0000; text-decoration-color: #ff0000\">│</span>   <span style=\"color: #7f7f7f; text-decoration-color: #7f7f7f\"> 74 </span><span style=\"color: #7f7f7f; text-decoration-color: #7f7f7f\">│   │   │   </span>}                                                                              <span style=\"color: #ff0000; text-decoration-color: #ff0000\">│</span>\n",
       "<span style=\"color: #ff0000; text-decoration-color: #ff0000\">│</span>   <span style=\"color: #7f7f7f; text-decoration-color: #7f7f7f\"> 75 </span><span style=\"color: #7f7f7f; text-decoration-color: #7f7f7f\">│   │   </span>}                                                                                  <span style=\"color: #ff0000; text-decoration-color: #ff0000\">│</span>\n",
       "<span style=\"color: #ff0000; text-decoration-color: #ff0000\">│</span> <span style=\"color: #800000; text-decoration-color: #800000\">❱ </span> 76 <span style=\"color: #7f7f7f; text-decoration-color: #7f7f7f\">│   │   </span>response = <span style=\"color: #00ffff; text-decoration-color: #00ffff; font-weight: bold; text-decoration: underline\">self</span><span style=\"font-weight: bold; text-decoration: underline\">.predictor.predict(payload)</span>                                         <span style=\"color: #ff0000; text-decoration-color: #ff0000\">│</span>\n",
       "<span style=\"color: #ff0000; text-decoration-color: #ff0000\">│</span>   <span style=\"color: #7f7f7f; text-decoration-color: #7f7f7f\"> 77 </span><span style=\"color: #7f7f7f; text-decoration-color: #7f7f7f\">│   │   </span>                                                                                   <span style=\"color: #ff0000; text-decoration-color: #ff0000\">│</span>\n",
       "<span style=\"color: #ff0000; text-decoration-color: #ff0000\">│</span>   <span style=\"color: #7f7f7f; text-decoration-color: #7f7f7f\"> 78 </span><span style=\"color: #7f7f7f; text-decoration-color: #7f7f7f\">│   │   </span>input_tokens = <span style=\"color: #00ffff; text-decoration-color: #00ffff\">len</span>(response[<span style=\"color: #808000; text-decoration-color: #808000\">'details'</span>][<span style=\"color: #808000; text-decoration-color: #808000\">'prefill'</span>])                                 <span style=\"color: #ff0000; text-decoration-color: #ff0000\">│</span>\n",
       "<span style=\"color: #ff0000; text-decoration-color: #ff0000\">│</span>   <span style=\"color: #7f7f7f; text-decoration-color: #7f7f7f\"> 79 </span><span style=\"color: #7f7f7f; text-decoration-color: #7f7f7f\">│   │   </span>output_tokens = response[<span style=\"color: #808000; text-decoration-color: #808000\">\"details\"</span>][<span style=\"color: #808000; text-decoration-color: #808000\">\"generated_tokens\"</span>]                            <span style=\"color: #ff0000; text-decoration-color: #ff0000\">│</span>\n",
       "<span style=\"color: #ff0000; text-decoration-color: #ff0000\">│</span>                                                                                                  <span style=\"color: #ff0000; text-decoration-color: #ff0000\">│</span>\n",
       "<span style=\"color: #ff0000; text-decoration-color: #ff0000\">│</span> <span style=\"color: #bfbf7f; text-decoration-color: #bfbf7f\">/opt/conda/lib/python3.11/site-packages/sagemaker/</span><span style=\"color: #808000; text-decoration-color: #808000; font-weight: bold\">base_predictor.py</span>:<span style=\"color: #0000ff; text-decoration-color: #0000ff\">212</span> in <span style=\"color: #00ff00; text-decoration-color: #00ff00\">predict</span>               <span style=\"color: #ff0000; text-decoration-color: #ff0000\">│</span>\n",
       "<span style=\"color: #ff0000; text-decoration-color: #ff0000\">│</span>                                                                                                  <span style=\"color: #ff0000; text-decoration-color: #ff0000\">│</span>\n",
       "<span style=\"color: #ff0000; text-decoration-color: #ff0000\">│</span>   <span style=\"color: #7f7f7f; text-decoration-color: #7f7f7f\">209 </span><span style=\"color: #7f7f7f; text-decoration-color: #7f7f7f\">│   │   </span><span style=\"color: #0000ff; text-decoration-color: #0000ff\">if</span> inference_component_name:                                                       <span style=\"color: #ff0000; text-decoration-color: #ff0000\">│</span>\n",
       "<span style=\"color: #ff0000; text-decoration-color: #ff0000\">│</span>   <span style=\"color: #7f7f7f; text-decoration-color: #7f7f7f\">210 </span><span style=\"color: #7f7f7f; text-decoration-color: #7f7f7f\">│   │   │   </span>request_args[<span style=\"color: #808000; text-decoration-color: #808000\">\"InferenceComponentName\"</span>] = inference_component_name              <span style=\"color: #ff0000; text-decoration-color: #ff0000\">│</span>\n",
       "<span style=\"color: #ff0000; text-decoration-color: #ff0000\">│</span>   <span style=\"color: #7f7f7f; text-decoration-color: #7f7f7f\">211 </span><span style=\"color: #7f7f7f; text-decoration-color: #7f7f7f\">│   │   </span>                                                                                   <span style=\"color: #ff0000; text-decoration-color: #ff0000\">│</span>\n",
       "<span style=\"color: #ff0000; text-decoration-color: #ff0000\">│</span> <span style=\"color: #800000; text-decoration-color: #800000\">❱ </span>212 <span style=\"color: #7f7f7f; text-decoration-color: #7f7f7f\">│   │   </span>response = <span style=\"color: #00ffff; text-decoration-color: #00ffff; font-weight: bold; text-decoration: underline\">self</span><span style=\"font-weight: bold; text-decoration: underline\">.sagemaker_session.sagemaker_runtime_client.invoke_endpoint(**req</span>   <span style=\"color: #ff0000; text-decoration-color: #ff0000\">│</span>\n",
       "<span style=\"color: #ff0000; text-decoration-color: #ff0000\">│</span>   <span style=\"color: #7f7f7f; text-decoration-color: #7f7f7f\">213 </span><span style=\"color: #7f7f7f; text-decoration-color: #7f7f7f\">│   │   </span><span style=\"color: #0000ff; text-decoration-color: #0000ff\">return</span> <span style=\"color: #00ffff; text-decoration-color: #00ffff\">self</span>._handle_response(response)                                             <span style=\"color: #ff0000; text-decoration-color: #ff0000\">│</span>\n",
       "<span style=\"color: #ff0000; text-decoration-color: #ff0000\">│</span>   <span style=\"color: #7f7f7f; text-decoration-color: #7f7f7f\">214 </span><span style=\"color: #7f7f7f; text-decoration-color: #7f7f7f\">│   </span>                                                                                       <span style=\"color: #ff0000; text-decoration-color: #ff0000\">│</span>\n",
       "<span style=\"color: #ff0000; text-decoration-color: #ff0000\">│</span>   <span style=\"color: #7f7f7f; text-decoration-color: #7f7f7f\">215 </span><span style=\"color: #7f7f7f; text-decoration-color: #7f7f7f\">│   </span><span style=\"color: #0000ff; text-decoration-color: #0000ff\">def</span><span style=\"color: #808080; text-decoration-color: #808080\"> </span><span style=\"color: #00ff00; text-decoration-color: #00ff00\">_handle_response</span>(<span style=\"color: #00ffff; text-decoration-color: #00ffff\">self</span>, response):                                                  <span style=\"color: #ff0000; text-decoration-color: #ff0000\">│</span>\n",
       "<span style=\"color: #ff0000; text-decoration-color: #ff0000\">│</span>                                                                                                  <span style=\"color: #ff0000; text-decoration-color: #ff0000\">│</span>\n",
       "<span style=\"color: #ff0000; text-decoration-color: #ff0000\">│</span> <span style=\"color: #bfbf7f; text-decoration-color: #bfbf7f\">/opt/conda/lib/python3.11/site-packages/botocore/</span><span style=\"color: #808000; text-decoration-color: #808000; font-weight: bold\">client.py</span>:<span style=\"color: #0000ff; text-decoration-color: #0000ff\">569</span> in <span style=\"color: #00ff00; text-decoration-color: #00ff00\">_api_call</span>                      <span style=\"color: #ff0000; text-decoration-color: #ff0000\">│</span>\n",
       "<span style=\"color: #ff0000; text-decoration-color: #ff0000\">│</span>                                                                                                  <span style=\"color: #ff0000; text-decoration-color: #ff0000\">│</span>\n",
       "<span style=\"color: #ff0000; text-decoration-color: #ff0000\">│</span>   <span style=\"color: #7f7f7f; text-decoration-color: #7f7f7f\"> 566 </span><span style=\"color: #7f7f7f; text-decoration-color: #7f7f7f\">│   │   │   │   │   </span><span style=\"color: #808000; text-decoration-color: #808000\">f\"{</span>py_operation_name<span style=\"color: #808000; text-decoration-color: #808000\">}() only accepts keyword arguments.\"</span>              <span style=\"color: #ff0000; text-decoration-color: #ff0000\">│</span>\n",
       "<span style=\"color: #ff0000; text-decoration-color: #ff0000\">│</span>   <span style=\"color: #7f7f7f; text-decoration-color: #7f7f7f\"> 567 </span><span style=\"color: #7f7f7f; text-decoration-color: #7f7f7f\">│   │   │   │   </span>)                                                                         <span style=\"color: #ff0000; text-decoration-color: #ff0000\">│</span>\n",
       "<span style=\"color: #ff0000; text-decoration-color: #ff0000\">│</span>   <span style=\"color: #7f7f7f; text-decoration-color: #7f7f7f\"> 568 </span><span style=\"color: #7f7f7f; text-decoration-color: #7f7f7f\">│   │   │   </span><span style=\"color: #7f7f7f; text-decoration-color: #7f7f7f\"># The \"self\" in this scope is referring to the BaseClient.</span>                    <span style=\"color: #ff0000; text-decoration-color: #ff0000\">│</span>\n",
       "<span style=\"color: #ff0000; text-decoration-color: #ff0000\">│</span> <span style=\"color: #800000; text-decoration-color: #800000\">❱ </span> 569 <span style=\"color: #7f7f7f; text-decoration-color: #7f7f7f\">│   │   │   </span><span style=\"color: #0000ff; text-decoration-color: #0000ff\">return</span> <span style=\"color: #00ffff; text-decoration-color: #00ffff; font-weight: bold; text-decoration: underline\">self</span><span style=\"font-weight: bold; text-decoration: underline\">._make_api_call(operation_name, kwargs)</span>                            <span style=\"color: #ff0000; text-decoration-color: #ff0000\">│</span>\n",
       "<span style=\"color: #ff0000; text-decoration-color: #ff0000\">│</span>   <span style=\"color: #7f7f7f; text-decoration-color: #7f7f7f\"> 570 </span><span style=\"color: #7f7f7f; text-decoration-color: #7f7f7f\">│   │   </span>                                                                                  <span style=\"color: #ff0000; text-decoration-color: #ff0000\">│</span>\n",
       "<span style=\"color: #ff0000; text-decoration-color: #ff0000\">│</span>   <span style=\"color: #7f7f7f; text-decoration-color: #7f7f7f\"> 571 </span><span style=\"color: #7f7f7f; text-decoration-color: #7f7f7f\">│   │   </span>_api_call.<span style=\"color: #ff0000; text-decoration-color: #ff0000\">__name__</span> = <span style=\"color: #00ffff; text-decoration-color: #00ffff\">str</span>(py_operation_name)                                       <span style=\"color: #ff0000; text-decoration-color: #ff0000\">│</span>\n",
       "<span style=\"color: #ff0000; text-decoration-color: #ff0000\">│</span>   <span style=\"color: #7f7f7f; text-decoration-color: #7f7f7f\"> 572 </span>                                                                                          <span style=\"color: #ff0000; text-decoration-color: #ff0000\">│</span>\n",
       "<span style=\"color: #ff0000; text-decoration-color: #ff0000\">│</span>                                                                                                  <span style=\"color: #ff0000; text-decoration-color: #ff0000\">│</span>\n",
       "<span style=\"color: #ff0000; text-decoration-color: #ff0000\">│</span> <span style=\"color: #bfbf7f; text-decoration-color: #bfbf7f\">/opt/conda/lib/python3.11/site-packages/botocore/</span><span style=\"color: #808000; text-decoration-color: #808000; font-weight: bold\">client.py</span>:<span style=\"color: #0000ff; text-decoration-color: #0000ff\">1023</span> in <span style=\"color: #00ff00; text-decoration-color: #00ff00\">_make_api_call</span>                <span style=\"color: #ff0000; text-decoration-color: #ff0000\">│</span>\n",
       "<span style=\"color: #ff0000; text-decoration-color: #ff0000\">│</span>                                                                                                  <span style=\"color: #ff0000; text-decoration-color: #ff0000\">│</span>\n",
       "<span style=\"color: #ff0000; text-decoration-color: #ff0000\">│</span>   <span style=\"color: #7f7f7f; text-decoration-color: #7f7f7f\">1020 </span><span style=\"color: #7f7f7f; text-decoration-color: #7f7f7f\">│   │   │   │   </span><span style=\"color: #808000; text-decoration-color: #808000\">\"Code\"</span>                                                                    <span style=\"color: #ff0000; text-decoration-color: #ff0000\">│</span>\n",
       "<span style=\"color: #ff0000; text-decoration-color: #ff0000\">│</span>   <span style=\"color: #7f7f7f; text-decoration-color: #7f7f7f\">1021 </span><span style=\"color: #7f7f7f; text-decoration-color: #7f7f7f\">│   │   │   </span>)                                                                             <span style=\"color: #ff0000; text-decoration-color: #ff0000\">│</span>\n",
       "<span style=\"color: #ff0000; text-decoration-color: #ff0000\">│</span>   <span style=\"color: #7f7f7f; text-decoration-color: #7f7f7f\">1022 </span><span style=\"color: #7f7f7f; text-decoration-color: #7f7f7f\">│   │   │   </span>error_class = <span style=\"color: #00ffff; text-decoration-color: #00ffff\">self</span>.exceptions.from_code(error_code)                           <span style=\"color: #ff0000; text-decoration-color: #ff0000\">│</span>\n",
       "<span style=\"color: #ff0000; text-decoration-color: #ff0000\">│</span> <span style=\"color: #800000; text-decoration-color: #800000\">❱ </span>1023 <span style=\"color: #7f7f7f; text-decoration-color: #7f7f7f\">│   │   │   </span><span style=\"color: #0000ff; text-decoration-color: #0000ff; font-weight: bold; text-decoration: underline\">raise</span><span style=\"font-weight: bold; text-decoration: underline\"> error_class(parsed_response, operation_name)</span>                            <span style=\"color: #ff0000; text-decoration-color: #ff0000\">│</span>\n",
       "<span style=\"color: #ff0000; text-decoration-color: #ff0000\">│</span>   <span style=\"color: #7f7f7f; text-decoration-color: #7f7f7f\">1024 </span><span style=\"color: #7f7f7f; text-decoration-color: #7f7f7f\">│   │   </span><span style=\"color: #0000ff; text-decoration-color: #0000ff\">else</span>:                                                                             <span style=\"color: #ff0000; text-decoration-color: #ff0000\">│</span>\n",
       "<span style=\"color: #ff0000; text-decoration-color: #ff0000\">│</span>   <span style=\"color: #7f7f7f; text-decoration-color: #7f7f7f\">1025 </span><span style=\"color: #7f7f7f; text-decoration-color: #7f7f7f\">│   │   │   </span><span style=\"color: #0000ff; text-decoration-color: #0000ff\">return</span> parsed_response                                                        <span style=\"color: #ff0000; text-decoration-color: #ff0000\">│</span>\n",
       "<span style=\"color: #ff0000; text-decoration-color: #ff0000\">│</span>   <span style=\"color: #7f7f7f; text-decoration-color: #7f7f7f\">1026 </span>                                                                                          <span style=\"color: #ff0000; text-decoration-color: #ff0000\">│</span>\n",
       "<span style=\"color: #ff0000; text-decoration-color: #ff0000\">╰──────────────────────────────────────────────────────────────────────────────────────────────────╯</span>\n",
       "<span style=\"color: #ff0000; text-decoration-color: #ff0000; font-weight: bold\">ModelError: </span>An error occurred <span style=\"font-weight: bold\">(</span>ModelError<span style=\"font-weight: bold\">)</span> when calling the InvokeEndpoint operation: Received server error <span style=\"font-weight: bold\">(</span><span style=\"color: #008080; text-decoration-color: #008080; font-weight: bold\">0</span><span style=\"font-weight: bold\">)</span> \n",
       "from primary with message <span style=\"color: #008700; text-decoration-color: #008700\">\"Connection reset by peer for the jumpstart-dft-llama-3-1-8b-instruct-20250626-200453 </span>\n",
       "<span style=\"color: #008700; text-decoration-color: #008700\">endpoint. Please retry.\"</span>. See \n",
       "<span style=\"color: #0069ff; text-decoration-color: #0069ff; text-decoration: underline\">https://us-west-2.console.aws.amazon.com/cloudwatch/home?</span><span style=\"color: #0069ff; text-decoration-color: #0069ff; text-decoration: underline\">region</span><span style=\"color: #0069ff; text-decoration-color: #0069ff; text-decoration: underline\">=</span><span style=\"color: #0069ff; text-decoration-color: #0069ff; text-decoration: underline\">us</span><span style=\"color: #0069ff; text-decoration-color: #0069ff; text-decoration: underline\">-west-2#logEventViewer:</span><span style=\"color: #0069ff; text-decoration-color: #0069ff; text-decoration: underline\">group</span><span style=\"color: #0069ff; text-decoration-color: #0069ff; text-decoration: underline\">=/aws/sagemaker/Endpo</span>\n",
       "<span style=\"color: #0069ff; text-decoration-color: #0069ff; text-decoration: underline\">ints/jumpstart-dft-llama-3-1-8b-instruct-20250626-200453</span> in account <span style=\"color: #008080; text-decoration-color: #008080; font-weight: bold\">713881792736</span> for more information.\n",
       "</pre>\n"
      ],
      "text/plain": [
       "\u001b[38;2;255;0;0m╭─\u001b[0m\u001b[38;2;255;0;0m──────────────────────────────\u001b[0m\u001b[38;2;255;0;0m \u001b[0m\u001b[1;38;2;255;0;0mTraceback \u001b[0m\u001b[1;2;38;2;255;0;0m(most recent call last)\u001b[0m\u001b[38;2;255;0;0m \u001b[0m\u001b[38;2;255;0;0m───────────────────────────────\u001b[0m\u001b[38;2;255;0;0m─╮\u001b[0m\n",
       "\u001b[38;2;255;0;0m│\u001b[0m in \u001b[92m<module>\u001b[0m:\u001b[94m4\u001b[0m                                                                                    \u001b[38;2;255;0;0m│\u001b[0m\n",
       "\u001b[38;2;255;0;0m│\u001b[0m                                                                                                  \u001b[38;2;255;0;0m│\u001b[0m\n",
       "\u001b[38;2;255;0;0m│\u001b[0m   \u001b[2m1 \u001b[0m\u001b[94mfrom\u001b[0m\u001b[90m \u001b[0m\u001b[4;96mevaluation\u001b[0m\u001b[90m \u001b[0m\u001b[94mimport\u001b[0m eval_marvel                                                           \u001b[38;2;255;0;0m│\u001b[0m\n",
       "\u001b[38;2;255;0;0m│\u001b[0m   \u001b[2m2 \u001b[0m\u001b[94mimport\u001b[0m\u001b[90m \u001b[0m\u001b[4;96mnumpy\u001b[0m\u001b[90m \u001b[0m\u001b[94mas\u001b[0m\u001b[90m \u001b[0m\u001b[4;96mnp\u001b[0m                                                                           \u001b[38;2;255;0;0m│\u001b[0m\n",
       "\u001b[38;2;255;0;0m│\u001b[0m   \u001b[2m3 \u001b[0m                                                                                             \u001b[38;2;255;0;0m│\u001b[0m\n",
       "\u001b[38;2;255;0;0m│\u001b[0m \u001b[31m❱ \u001b[0m4 single_score, multi_score, wrong_ids, rectified_ids, avg_tokens, avg_time = \u001b[1;4meval_marvel(\u001b[0m     \u001b[38;2;255;0;0m│\u001b[0m\n",
       "\u001b[38;2;255;0;0m│\u001b[0m   \u001b[2m5 \u001b[0mnp.savetxt(\u001b[33m\"\u001b[0m\u001b[33mdata/mmlu/hard.txt\u001b[0m\u001b[33m\"\u001b[0m, wrong_ids)                                                  \u001b[38;2;255;0;0m│\u001b[0m\n",
       "\u001b[38;2;255;0;0m│\u001b[0m   \u001b[2m6 \u001b[0mnp.savetxt(\u001b[33m\"\u001b[0m\u001b[33mdata/mmlu/corrected.txt\u001b[0m\u001b[33m\"\u001b[0m, rectified_ids)                                         \u001b[38;2;255;0;0m│\u001b[0m\n",
       "\u001b[38;2;255;0;0m│\u001b[0m   \u001b[2m7 \u001b[0m                                                                                             \u001b[38;2;255;0;0m│\u001b[0m\n",
       "\u001b[38;2;255;0;0m│\u001b[0m                                                                                                  \u001b[38;2;255;0;0m│\u001b[0m\n",
       "\u001b[38;2;255;0;0m│\u001b[0m \u001b[2;33m/home/sagemaker-user/MultiAgents/MARVEL/\u001b[0m\u001b[1;33mevaluation.py\u001b[0m:\u001b[94m40\u001b[0m in \u001b[92meval_marvel\u001b[0m                          \u001b[38;2;255;0;0m│\u001b[0m\n",
       "\u001b[38;2;255;0;0m│\u001b[0m                                                                                                  \u001b[38;2;255;0;0m│\u001b[0m\n",
       "\u001b[38;2;255;0;0m│\u001b[0m   \u001b[2m 37 \u001b[0m\u001b[2m│   │   \u001b[0manswer = extract_answer(gt_answer, task)                                           \u001b[38;2;255;0;0m│\u001b[0m\n",
       "\u001b[38;2;255;0;0m│\u001b[0m   \u001b[2m 38 \u001b[0m\u001b[2m│   │   \u001b[0m\u001b[2m# Run MARVEL pipeline\u001b[0m                                                              \u001b[38;2;255;0;0m│\u001b[0m\n",
       "\u001b[38;2;255;0;0m│\u001b[0m   \u001b[2m 39 \u001b[0m\u001b[2m│   │   \u001b[0mrunner = PipelineRunner(task=task)                                                 \u001b[38;2;255;0;0m│\u001b[0m\n",
       "\u001b[38;2;255;0;0m│\u001b[0m \u001b[31m❱ \u001b[0m 40 \u001b[2m│   │   \u001b[0mreview_history = \u001b[1;4mrunner.run_marvel_pipeline(question, n_reviewers=n_reviewers, v\u001b[0m   \u001b[38;2;255;0;0m│\u001b[0m\n",
       "\u001b[38;2;255;0;0m│\u001b[0m   \u001b[2m 41 \u001b[0m\u001b[2m│   │   \u001b[0msingle_agent_answer = extract_pred_answer(review_history[\u001b[33m'\u001b[0m\u001b[33mauthor_response\u001b[0m\u001b[33m'\u001b[0m], tas   \u001b[38;2;255;0;0m│\u001b[0m\n",
       "\u001b[38;2;255;0;0m│\u001b[0m   \u001b[2m 42 \u001b[0m\u001b[2m│   │   \u001b[0mmulti_agent_answer = extract_pred_answer_majority(review_history, n_reviewers, t   \u001b[38;2;255;0;0m│\u001b[0m\n",
       "\u001b[38;2;255;0;0m│\u001b[0m   \u001b[2m 43 \u001b[0m\u001b[2m│   │   \u001b[0m\u001b[94mif\u001b[0m single_agent_answer == answer:                                                  \u001b[38;2;255;0;0m│\u001b[0m\n",
       "\u001b[38;2;255;0;0m│\u001b[0m                                                                                                  \u001b[38;2;255;0;0m│\u001b[0m\n",
       "\u001b[38;2;255;0;0m│\u001b[0m \u001b[2;33m/home/sagemaker-user/MultiAgents/MARVEL/\u001b[0m\u001b[1;33mpipelines.py\u001b[0m:\u001b[94m23\u001b[0m in \u001b[92mrun_marvel_pipeline\u001b[0m                   \u001b[38;2;255;0;0m│\u001b[0m\n",
       "\u001b[38;2;255;0;0m│\u001b[0m                                                                                                  \u001b[38;2;255;0;0m│\u001b[0m\n",
       "\u001b[38;2;255;0;0m│\u001b[0m   \u001b[2m 20 \u001b[0m\u001b[2m│   │   \u001b[0m\u001b[2m# Step 1: Author answers\u001b[0m                                                           \u001b[38;2;255;0;0m│\u001b[0m\n",
       "\u001b[38;2;255;0;0m│\u001b[0m   \u001b[2m 21 \u001b[0m\u001b[2m│   │   \u001b[0mauthor_input = \u001b[96mself\u001b[0m.templates.construct_author_prompt(user_query)                  \u001b[38;2;255;0;0m│\u001b[0m\n",
       "\u001b[38;2;255;0;0m│\u001b[0m   \u001b[2m 22 \u001b[0m\u001b[2m│   │   \u001b[0mauthor_history.append(author_input)                                                \u001b[38;2;255;0;0m│\u001b[0m\n",
       "\u001b[38;2;255;0;0m│\u001b[0m \u001b[31m❱ \u001b[0m 23 \u001b[2m│   │   \u001b[0mauthor_response = \u001b[1;4mauthor.run(author_history)\u001b[0m                                       \u001b[38;2;255;0;0m│\u001b[0m\n",
       "\u001b[38;2;255;0;0m│\u001b[0m   \u001b[2m 24 \u001b[0m\u001b[2m│   │   \u001b[0mauthor_history.append(author_response)                                             \u001b[38;2;255;0;0m│\u001b[0m\n",
       "\u001b[38;2;255;0;0m│\u001b[0m   \u001b[2m 25 \u001b[0m\u001b[2m│   │   \u001b[0m\u001b[94mif\u001b[0m verbosity:                                                                      \u001b[38;2;255;0;0m│\u001b[0m\n",
       "\u001b[38;2;255;0;0m│\u001b[0m   \u001b[2m 26 \u001b[0m\u001b[2m│   │   │   \u001b[0m\u001b[96mprint\u001b[0m(\u001b[33m\"\u001b[0m\u001b[33m\\n\u001b[0m\u001b[33m=== Author\u001b[0m\u001b[33m'\u001b[0m\u001b[33ms Answer ===\u001b[0m\u001b[33m\\n\u001b[0m\u001b[33m\"\u001b[0m, author_response[\u001b[33m\"\u001b[0m\u001b[33mcontent\u001b[0m\u001b[33m\"\u001b[0m])               \u001b[38;2;255;0;0m│\u001b[0m\n",
       "\u001b[38;2;255;0;0m│\u001b[0m                                                                                                  \u001b[38;2;255;0;0m│\u001b[0m\n",
       "\u001b[38;2;255;0;0m│\u001b[0m \u001b[2;33m/home/sagemaker-user/MultiAgents/MARVEL/\u001b[0m\u001b[1;33mcustom_agents.py\u001b[0m:\u001b[94m64\u001b[0m in \u001b[92mrun\u001b[0m                               \u001b[38;2;255;0;0m│\u001b[0m\n",
       "\u001b[38;2;255;0;0m│\u001b[0m                                                                                                  \u001b[38;2;255;0;0m│\u001b[0m\n",
       "\u001b[38;2;255;0;0m│\u001b[0m   \u001b[2m 61 \u001b[0m\u001b[2m│   │   │   \u001b[0mmessages = [{\u001b[33m\"\u001b[0m\u001b[33mrole\u001b[0m\u001b[33m\"\u001b[0m: \u001b[33m\"\u001b[0m\u001b[33muser\u001b[0m\u001b[33m\"\u001b[0m, \u001b[33m\"\u001b[0m\u001b[33mcontent\u001b[0m\u001b[33m\"\u001b[0m: prompt}]                               \u001b[38;2;255;0;0m│\u001b[0m\n",
       "\u001b[38;2;255;0;0m│\u001b[0m   \u001b[2m 62 \u001b[0m\u001b[2m│   │   │   \u001b[0m\u001b[94mreturn\u001b[0m \u001b[96mself\u001b[0m._call_aws(messages)[\u001b[33m\"\u001b[0m\u001b[33mcontent\u001b[0m\u001b[33m\"\u001b[0m]  \u001b[2m# for compatibility\u001b[0m                \u001b[38;2;255;0;0m│\u001b[0m\n",
       "\u001b[38;2;255;0;0m│\u001b[0m   \u001b[2m 63 \u001b[0m\u001b[2m│   │   \u001b[0m\u001b[94melif\u001b[0m \u001b[96misinstance\u001b[0m(prompt, \u001b[96mlist\u001b[0m):                                                     \u001b[38;2;255;0;0m│\u001b[0m\n",
       "\u001b[38;2;255;0;0m│\u001b[0m \u001b[31m❱ \u001b[0m 64 \u001b[2m│   │   │   \u001b[0m\u001b[94mreturn\u001b[0m \u001b[1;4;96mself\u001b[0m\u001b[1;4m._call_aws(prompt)\u001b[0m  \u001b[2m# chat-style list[dict]\u001b[0m                         \u001b[38;2;255;0;0m│\u001b[0m\n",
       "\u001b[38;2;255;0;0m│\u001b[0m   \u001b[2m 65 \u001b[0m\u001b[2m│   \u001b[0m                                                                                       \u001b[38;2;255;0;0m│\u001b[0m\n",
       "\u001b[38;2;255;0;0m│\u001b[0m   \u001b[2m 66 \u001b[0m\u001b[2m│   \u001b[0m\u001b[94mdef\u001b[0m\u001b[90m \u001b[0m\u001b[92m_call_aws\u001b[0m(\u001b[96mself\u001b[0m, messages: \u001b[96mlist\u001b[0m[\u001b[96mdict\u001b[0m]) -> \u001b[96mdict\u001b[0m:                                     \u001b[38;2;255;0;0m│\u001b[0m\n",
       "\u001b[38;2;255;0;0m│\u001b[0m   \u001b[2m 67 \u001b[0m\u001b[2m│   │   \u001b[0mformatted_input = \u001b[96mself\u001b[0m.tokenizer.apply_chat_template(messages, tokenize=\u001b[94mFalse\u001b[0m, a   \u001b[38;2;255;0;0m│\u001b[0m\n",
       "\u001b[38;2;255;0;0m│\u001b[0m                                                                                                  \u001b[38;2;255;0;0m│\u001b[0m\n",
       "\u001b[38;2;255;0;0m│\u001b[0m \u001b[2;33m/home/sagemaker-user/MultiAgents/MARVEL/\u001b[0m\u001b[1;33mcustom_agents.py\u001b[0m:\u001b[94m76\u001b[0m in \u001b[92m_call_aws\u001b[0m                         \u001b[38;2;255;0;0m│\u001b[0m\n",
       "\u001b[38;2;255;0;0m│\u001b[0m                                                                                                  \u001b[38;2;255;0;0m│\u001b[0m\n",
       "\u001b[38;2;255;0;0m│\u001b[0m   \u001b[2m 73 \u001b[0m\u001b[2m│   │   │   │   \u001b[0m\u001b[33m\"\u001b[0m\u001b[33mdecoder_input_details\u001b[0m\u001b[33m\"\u001b[0m: \u001b[94mTrue\u001b[0m                                              \u001b[38;2;255;0;0m│\u001b[0m\n",
       "\u001b[38;2;255;0;0m│\u001b[0m   \u001b[2m 74 \u001b[0m\u001b[2m│   │   │   \u001b[0m}                                                                              \u001b[38;2;255;0;0m│\u001b[0m\n",
       "\u001b[38;2;255;0;0m│\u001b[0m   \u001b[2m 75 \u001b[0m\u001b[2m│   │   \u001b[0m}                                                                                  \u001b[38;2;255;0;0m│\u001b[0m\n",
       "\u001b[38;2;255;0;0m│\u001b[0m \u001b[31m❱ \u001b[0m 76 \u001b[2m│   │   \u001b[0mresponse = \u001b[1;4;96mself\u001b[0m\u001b[1;4m.predictor.predict(payload)\u001b[0m                                         \u001b[38;2;255;0;0m│\u001b[0m\n",
       "\u001b[38;2;255;0;0m│\u001b[0m   \u001b[2m 77 \u001b[0m\u001b[2m│   │   \u001b[0m                                                                                   \u001b[38;2;255;0;0m│\u001b[0m\n",
       "\u001b[38;2;255;0;0m│\u001b[0m   \u001b[2m 78 \u001b[0m\u001b[2m│   │   \u001b[0minput_tokens = \u001b[96mlen\u001b[0m(response[\u001b[33m'\u001b[0m\u001b[33mdetails\u001b[0m\u001b[33m'\u001b[0m][\u001b[33m'\u001b[0m\u001b[33mprefill\u001b[0m\u001b[33m'\u001b[0m])                                 \u001b[38;2;255;0;0m│\u001b[0m\n",
       "\u001b[38;2;255;0;0m│\u001b[0m   \u001b[2m 79 \u001b[0m\u001b[2m│   │   \u001b[0moutput_tokens = response[\u001b[33m\"\u001b[0m\u001b[33mdetails\u001b[0m\u001b[33m\"\u001b[0m][\u001b[33m\"\u001b[0m\u001b[33mgenerated_tokens\u001b[0m\u001b[33m\"\u001b[0m]                            \u001b[38;2;255;0;0m│\u001b[0m\n",
       "\u001b[38;2;255;0;0m│\u001b[0m                                                                                                  \u001b[38;2;255;0;0m│\u001b[0m\n",
       "\u001b[38;2;255;0;0m│\u001b[0m \u001b[2;33m/opt/conda/lib/python3.11/site-packages/sagemaker/\u001b[0m\u001b[1;33mbase_predictor.py\u001b[0m:\u001b[94m212\u001b[0m in \u001b[92mpredict\u001b[0m               \u001b[38;2;255;0;0m│\u001b[0m\n",
       "\u001b[38;2;255;0;0m│\u001b[0m                                                                                                  \u001b[38;2;255;0;0m│\u001b[0m\n",
       "\u001b[38;2;255;0;0m│\u001b[0m   \u001b[2m209 \u001b[0m\u001b[2m│   │   \u001b[0m\u001b[94mif\u001b[0m inference_component_name:                                                       \u001b[38;2;255;0;0m│\u001b[0m\n",
       "\u001b[38;2;255;0;0m│\u001b[0m   \u001b[2m210 \u001b[0m\u001b[2m│   │   │   \u001b[0mrequest_args[\u001b[33m\"\u001b[0m\u001b[33mInferenceComponentName\u001b[0m\u001b[33m\"\u001b[0m] = inference_component_name              \u001b[38;2;255;0;0m│\u001b[0m\n",
       "\u001b[38;2;255;0;0m│\u001b[0m   \u001b[2m211 \u001b[0m\u001b[2m│   │   \u001b[0m                                                                                   \u001b[38;2;255;0;0m│\u001b[0m\n",
       "\u001b[38;2;255;0;0m│\u001b[0m \u001b[31m❱ \u001b[0m212 \u001b[2m│   │   \u001b[0mresponse = \u001b[1;4;96mself\u001b[0m\u001b[1;4m.sagemaker_session.sagemaker_runtime_client.invoke_endpoint(**req\u001b[0m   \u001b[38;2;255;0;0m│\u001b[0m\n",
       "\u001b[38;2;255;0;0m│\u001b[0m   \u001b[2m213 \u001b[0m\u001b[2m│   │   \u001b[0m\u001b[94mreturn\u001b[0m \u001b[96mself\u001b[0m._handle_response(response)                                             \u001b[38;2;255;0;0m│\u001b[0m\n",
       "\u001b[38;2;255;0;0m│\u001b[0m   \u001b[2m214 \u001b[0m\u001b[2m│   \u001b[0m                                                                                       \u001b[38;2;255;0;0m│\u001b[0m\n",
       "\u001b[38;2;255;0;0m│\u001b[0m   \u001b[2m215 \u001b[0m\u001b[2m│   \u001b[0m\u001b[94mdef\u001b[0m\u001b[90m \u001b[0m\u001b[92m_handle_response\u001b[0m(\u001b[96mself\u001b[0m, response):                                                  \u001b[38;2;255;0;0m│\u001b[0m\n",
       "\u001b[38;2;255;0;0m│\u001b[0m                                                                                                  \u001b[38;2;255;0;0m│\u001b[0m\n",
       "\u001b[38;2;255;0;0m│\u001b[0m \u001b[2;33m/opt/conda/lib/python3.11/site-packages/botocore/\u001b[0m\u001b[1;33mclient.py\u001b[0m:\u001b[94m569\u001b[0m in \u001b[92m_api_call\u001b[0m                      \u001b[38;2;255;0;0m│\u001b[0m\n",
       "\u001b[38;2;255;0;0m│\u001b[0m                                                                                                  \u001b[38;2;255;0;0m│\u001b[0m\n",
       "\u001b[38;2;255;0;0m│\u001b[0m   \u001b[2m 566 \u001b[0m\u001b[2m│   │   │   │   │   \u001b[0m\u001b[33mf\u001b[0m\u001b[33m\"\u001b[0m\u001b[33m{\u001b[0mpy_operation_name\u001b[33m}\u001b[0m\u001b[33m() only accepts keyword arguments.\u001b[0m\u001b[33m\"\u001b[0m              \u001b[38;2;255;0;0m│\u001b[0m\n",
       "\u001b[38;2;255;0;0m│\u001b[0m   \u001b[2m 567 \u001b[0m\u001b[2m│   │   │   │   \u001b[0m)                                                                         \u001b[38;2;255;0;0m│\u001b[0m\n",
       "\u001b[38;2;255;0;0m│\u001b[0m   \u001b[2m 568 \u001b[0m\u001b[2m│   │   │   \u001b[0m\u001b[2m# The \"self\" in this scope is referring to the BaseClient.\u001b[0m                    \u001b[38;2;255;0;0m│\u001b[0m\n",
       "\u001b[38;2;255;0;0m│\u001b[0m \u001b[31m❱ \u001b[0m 569 \u001b[2m│   │   │   \u001b[0m\u001b[94mreturn\u001b[0m \u001b[1;4;96mself\u001b[0m\u001b[1;4m._make_api_call(operation_name, kwargs)\u001b[0m                            \u001b[38;2;255;0;0m│\u001b[0m\n",
       "\u001b[38;2;255;0;0m│\u001b[0m   \u001b[2m 570 \u001b[0m\u001b[2m│   │   \u001b[0m                                                                                  \u001b[38;2;255;0;0m│\u001b[0m\n",
       "\u001b[38;2;255;0;0m│\u001b[0m   \u001b[2m 571 \u001b[0m\u001b[2m│   │   \u001b[0m_api_call.\u001b[91m__name__\u001b[0m = \u001b[96mstr\u001b[0m(py_operation_name)                                       \u001b[38;2;255;0;0m│\u001b[0m\n",
       "\u001b[38;2;255;0;0m│\u001b[0m   \u001b[2m 572 \u001b[0m                                                                                          \u001b[38;2;255;0;0m│\u001b[0m\n",
       "\u001b[38;2;255;0;0m│\u001b[0m                                                                                                  \u001b[38;2;255;0;0m│\u001b[0m\n",
       "\u001b[38;2;255;0;0m│\u001b[0m \u001b[2;33m/opt/conda/lib/python3.11/site-packages/botocore/\u001b[0m\u001b[1;33mclient.py\u001b[0m:\u001b[94m1023\u001b[0m in \u001b[92m_make_api_call\u001b[0m                \u001b[38;2;255;0;0m│\u001b[0m\n",
       "\u001b[38;2;255;0;0m│\u001b[0m                                                                                                  \u001b[38;2;255;0;0m│\u001b[0m\n",
       "\u001b[38;2;255;0;0m│\u001b[0m   \u001b[2m1020 \u001b[0m\u001b[2m│   │   │   │   \u001b[0m\u001b[33m\"\u001b[0m\u001b[33mCode\u001b[0m\u001b[33m\"\u001b[0m                                                                    \u001b[38;2;255;0;0m│\u001b[0m\n",
       "\u001b[38;2;255;0;0m│\u001b[0m   \u001b[2m1021 \u001b[0m\u001b[2m│   │   │   \u001b[0m)                                                                             \u001b[38;2;255;0;0m│\u001b[0m\n",
       "\u001b[38;2;255;0;0m│\u001b[0m   \u001b[2m1022 \u001b[0m\u001b[2m│   │   │   \u001b[0merror_class = \u001b[96mself\u001b[0m.exceptions.from_code(error_code)                           \u001b[38;2;255;0;0m│\u001b[0m\n",
       "\u001b[38;2;255;0;0m│\u001b[0m \u001b[31m❱ \u001b[0m1023 \u001b[2m│   │   │   \u001b[0m\u001b[1;4;94mraise\u001b[0m\u001b[1;4m error_class(parsed_response, operation_name)\u001b[0m                            \u001b[38;2;255;0;0m│\u001b[0m\n",
       "\u001b[38;2;255;0;0m│\u001b[0m   \u001b[2m1024 \u001b[0m\u001b[2m│   │   \u001b[0m\u001b[94melse\u001b[0m:                                                                             \u001b[38;2;255;0;0m│\u001b[0m\n",
       "\u001b[38;2;255;0;0m│\u001b[0m   \u001b[2m1025 \u001b[0m\u001b[2m│   │   │   \u001b[0m\u001b[94mreturn\u001b[0m parsed_response                                                        \u001b[38;2;255;0;0m│\u001b[0m\n",
       "\u001b[38;2;255;0;0m│\u001b[0m   \u001b[2m1026 \u001b[0m                                                                                          \u001b[38;2;255;0;0m│\u001b[0m\n",
       "\u001b[38;2;255;0;0m╰──────────────────────────────────────────────────────────────────────────────────────────────────╯\u001b[0m\n",
       "\u001b[1;91mModelError: \u001b[0mAn error occurred \u001b[1m(\u001b[0mModelError\u001b[1m)\u001b[0m when calling the InvokeEndpoint operation: Received server error \u001b[1m(\u001b[0m\u001b[1;36m0\u001b[0m\u001b[1m)\u001b[0m \n",
       "from primary with message \u001b[38;2;0;135;0m\"Connection reset by peer for the jumpstart-dft-llama-3-1-8b-instruct-20250626-200453 \u001b[0m\n",
       "\u001b[38;2;0;135;0mendpoint. Please retry.\"\u001b[0m. See \n",
       "\u001b[4;38;2;0;105;255mhttps://us-west-2.console.aws.amazon.com/cloudwatch/home?\u001b[0m\u001b[4;38;2;0;105;255mregion\u001b[0m\u001b[4;38;2;0;105;255m=\u001b[0m\u001b[4;38;2;0;105;255mus\u001b[0m\u001b[4;38;2;0;105;255m-west-2#logEventViewer:\u001b[0m\u001b[4;38;2;0;105;255mgroup\u001b[0m\u001b[4;38;2;0;105;255m=/aws/sagemaker/Endpo\u001b[0m\n",
       "\u001b[4;38;2;0;105;255mints/jumpstart-dft-llama-3-1-8b-instruct-20250626-200453\u001b[0m in account \u001b[1;36m713881792736\u001b[0m for more information.\n"
      ]
     },
     "metadata": {},
     "output_type": "display_data"
    }
   ],
   "source": [
    "from evaluation import eval_marvel\n",
    "import numpy as np\n",
    "\n",
    "single_score, multi_score, wrong_ids, rectified_ids, avg_tokens, avg_time = eval_marvel(task=\"mmlu\", n_problems=100, selected=True, n_reviewers=3, verbosity=1)\n",
    "np.savetxt(\"data/mmlu/hard.txt\", wrong_ids)\n",
    "np.savetxt(\"data/mmlu/corrected.txt\", rectified_ids)"
   ]
  },
  {
   "cell_type": "code",
   "execution_count": 14,
   "id": "6f158c8c-1fee-40d1-82d3-f70ba9a8767e",
   "metadata": {},
   "outputs": [
    {
     "data": {
      "text/plain": [
       "(68, 67, [], 1619.1, 4.518335514068603)"
      ]
     },
     "execution_count": 14,
     "metadata": {},
     "output_type": "execute_result"
    }
   ],
   "source": [
    "single_score, multi_score, rectified_ids, avg_tokens, avg_time"
   ]
  },
  {
   "cell_type": "code",
   "execution_count": 13,
   "id": "abb6ed59-db05-478c-b8bb-c0382fe41a3a",
   "metadata": {},
   "outputs": [
    {
     "name": "stderr",
     "output_type": "stream",
     "text": [
      "100%|██████████| 100/100 [03:02<00:00,  1.83s/it]\n"
     ]
    }
   ],
   "source": [
    "from evaluation import eval_self_reflection\n",
    "\n",
    "single_score, score, wrong_ids, avg_tokens, avg_time = eval_self_reflection(task=\"mmlu\", verbosity=0)"
   ]
  },
  {
   "cell_type": "code",
   "execution_count": 14,
   "id": "228f5a0f-b10f-4b6f-aa2d-68f47744b518",
   "metadata": {},
   "outputs": [
    {
     "data": {
      "text/plain": [
       "(68, 67, 628.42, 1.826026906967163)"
      ]
     },
     "execution_count": 14,
     "metadata": {},
     "output_type": "execute_result"
    }
   ],
   "source": [
    "single_score, score, avg_tokens, avg_time"
   ]
  },
  {
   "cell_type": "code",
   "execution_count": 15,
   "id": "a33e4fe5-6969-4c6c-b2f5-25360e0a65e4",
   "metadata": {},
   "outputs": [
    {
     "name": "stderr",
     "output_type": "stream",
     "text": [
      "100%|██████████| 100/100 [13:44<00:00,  8.25s/it]\n"
     ]
    }
   ],
   "source": [
    "from evaluation import eval_debate\n",
    "\n",
    "score, wrong_ids, avg_tokens, avg_time = eval_debate(task=\"mmlu\", verbosity=0)"
   ]
  },
  {
   "cell_type": "code",
   "execution_count": 16,
   "id": "e6e50ed1-eff7-4e5d-b67a-05783bb96d87",
   "metadata": {},
   "outputs": [
    {
     "data": {
      "text/plain": [
       "(73, 3268.23, 8.247733538150788)"
      ]
     },
     "execution_count": 16,
     "metadata": {},
     "output_type": "execute_result"
    }
   ],
   "source": [
    "score, avg_tokens, avg_time"
   ]
  },
  {
   "cell_type": "code",
   "execution_count": null,
   "id": "61ad68c4-35b4-465e-bd33-4138120744c7",
   "metadata": {},
   "outputs": [],
   "source": []
  }
 ],
 "metadata": {
  "kernelspec": {
   "display_name": "Python 3 (ipykernel)",
   "language": "python",
   "name": "python3"
  },
  "language_info": {
   "codemirror_mode": {
    "name": "ipython",
    "version": 3
   },
   "file_extension": ".py",
   "mimetype": "text/x-python",
   "name": "python",
   "nbconvert_exporter": "python",
   "pygments_lexer": "ipython3",
   "version": "3.11.11"
  }
 },
 "nbformat": 4,
 "nbformat_minor": 5
}
