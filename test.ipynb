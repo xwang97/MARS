{
 "cells": [
  {
   "cell_type": "code",
   "execution_count": 1,
   "id": "86bf7445-5549-49a8-bdf7-8042ff2aa8e5",
   "metadata": {},
   "outputs": [],
   "source": [
    "%load_ext autoreload\n",
    "%autoreload 2"
   ]
  },
  {
   "cell_type": "code",
   "execution_count": 7,
   "id": "9a1ced3e-dd32-43b8-8b3a-66902cbb097a",
   "metadata": {},
   "outputs": [
    {
     "name": "stderr",
     "output_type": "stream",
     "text": [
      "  0%|          | 0/3 [00:00<?, ?it/s]"
     ]
    },
    {
     "name": "stdout",
     "output_type": "stream",
     "text": [
      "question:  A restaurant has 40 tables with 4 legs and 50 tables with 3 legs. Calculate the total number of legs the restaurant's tables have.\n",
      "gt_answer:  The total number of legs which the tables with four legs have is 40*4 = <<40*4=160>>160 legs\n",
      "The three-legged tables have a total of 50*3 = <<50*3=150>>150 legs.\n",
      "The total number of legs that the restaurant's table have is 150+160 = <<150+160=310>>310\n",
      "#### 310\n",
      "===================\n",
      "\n",
      "=== Author's Answer ===\n",
      " Thoughts: \n",
      "1. Calculate the total number of legs for the tables with 4 legs: 40 tables * 4 legs per table = 160 legs\n",
      "2. Calculate the total number of legs for the tables with 3 legs: 50 tables * 3 legs per table = 150 legs\n",
      "3. Add the total number of legs from the tables with 4 legs to the total number of legs from the tables with 3 legs: 160 legs + 150 legs = 310 legs\n",
      "\n",
      "Answer: 310\n",
      "\n",
      "--- Reviewer_1 Review ---\n",
      "Decision: Right  \n",
      "Confidence: 5  \n",
      "Justification: The author correctly calculated the total number of legs for each type of table and added them together to find the total number of legs for all the tables in the restaurant. The calculations are accurate and the final answer of 310 legs is correct.\n"
     ]
    },
    {
     "name": "stderr",
     "output_type": "stream",
     "text": [
      " 33%|███▎      | 1/3 [00:03<00:06,  3.32s/it]"
     ]
    },
    {
     "name": "stdout",
     "output_type": "stream",
     "text": [
      "\n",
      "=== Meta-Reviewer Final Decision ===\n",
      " Decision: Right\n",
      "Justification: The answer provided by the author is correct and supported by the calculations for the total number of legs for each type of table as well as the addition to find the overall total. \n",
      "Suggestions: None, the answer is accurate as is.\n",
      "\n",
      "\n",
      "GT answer and predicted answer:  310 310\n",
      "\n",
      "\n",
      "question:  April is donating plant pots to a local school for their new garden. They ask for 30 plant pots for the daisies, and twice as many for the roses. April had already bought 100 plant pots from the garden center before she knew how many she needed. How many plant pots does April have left over?\n",
      "gt_answer:  For the roses, the school wants 30 * 2 = <<30*2=60>>60 plant pots.\n",
      "This means she is giving the school 60 plant pots for roses + 30 plant pots for daisies = <<60+30=90>>90 plant pots.\n",
      "So in total, Alice has 100 – 90 = <<100-90=10>>10 plant pots left over.\n",
      "#### 10\n",
      "===================\n",
      "\n",
      "=== Author's Answer ===\n",
      " Thoughts: \n",
      "1. The school needs 30 plant pots for the daisies, and twice as many for the roses, which means they need 30 x 2 = 60 plant pots for the roses.\n",
      "2. So, the total number of plant pots needed by the school is 30 (for daisies) + 60 (for roses) = 90 plant pots.\n",
      "3. April had already bought 100 plant pots before she knew the number needed by the school.\n",
      "4. To find out how many plant pots April has left, we need to subtract the total number needed by the school (90) from the plant pots she already bought (100).\n",
      "\n",
      "Answer: April has 100 - 90 = 10 plant pots left over.\n",
      "\n",
      "--- Reviewer_1 Review ---\n",
      "Decision: Right  \n",
      "Confidence: 5  \n",
      "Justification: The author correctly calculated the number of plant pots needed by the school (90) and subtracted it from the number of pots April already had (100) to determine the correct answer of 10 plant pots left over. The calculations and reasoning provided are accurate.\n"
     ]
    },
    {
     "name": "stderr",
     "output_type": "stream",
     "text": [
      " 67%|██████▋   | 2/3 [00:08<00:04,  4.41s/it]"
     ]
    },
    {
     "name": "stdout",
     "output_type": "stream",
     "text": [
      "\n",
      "=== Meta-Reviewer Final Decision ===\n",
      " Decision: Right\n",
      "Justification: The author's calculations and reasoning are correct. They accurately determined the total number of plant pots needed by the school and subtracted it from the number April already had to find the correct answer.\n",
      "Suggestions: None, the answer is well-explained and accurate.\n",
      "\n",
      "\n",
      "GT answer and predicted answer:  10 10\n",
      "\n",
      "\n",
      "question:  An electronics seller bought 5 phones for $700 each and gives the seller $4000 in dollar bills. How much will the seller give back in change?\n",
      "gt_answer:  The seller bought the 5 phones for $700 * 5 = $<<700*5=3500>>3500.\n",
      "So the seller gives back $4000-$3500 = $<<4000-3500=500>>500.\n",
      "#### 500\n",
      "===================\n",
      "\n",
      "=== Author's Answer ===\n",
      " Thoughts:\n",
      "1. Cost of 5 phones = 5 * $700 = $3500\n",
      "2. Amount given by the seller = $4000\n",
      "3. Change to be given = $4000 - $3500\n",
      "\n",
      "Answer:\n",
      "Change to be given = $4000 - $3500 = $500\n",
      "\n",
      "Therefore, the seller will give back $500 in change.\n",
      "\n",
      "--- Reviewer_1 Review ---\n",
      "Decision: Right  \n",
      "Confidence: 5  \n",
      "Justification: The author has correctly calculated the cost of 5 phones, the amount given by the seller, and subtracted the cost from the amount given to determine the change to be given. The final answer of $500 is accurate.\n"
     ]
    },
    {
     "name": "stderr",
     "output_type": "stream",
     "text": [
      "100%|██████████| 3/3 [00:11<00:00,  3.94s/it]"
     ]
    },
    {
     "name": "stdout",
     "output_type": "stream",
     "text": [
      "\n",
      "=== Meta-Reviewer Final Decision ===\n",
      " Decision: Right\n",
      "Justification: The reviewer accurately analyzed the answer provided by the author and confirmed that all calculations were correct, leading to the accurate final answer of $500.\n",
      "Suggestions: None needed.\n",
      "\n",
      "\n",
      "GT answer and predicted answer:  500 500\n",
      "\n",
      "\n"
     ]
    },
    {
     "name": "stderr",
     "output_type": "stream",
     "text": [
      "\n"
     ]
    }
   ],
   "source": [
    "from evaluation import eval_marvel\n",
    "import numpy as np\n",
    "\n",
    "single_score, multi_score, wrong_ids, rectified_ids, avg_tokens, avg_time = eval_marvel(task=\"gsm\", n_problems=3, selected=False, n_reviewers=1, verbosity=1)\n",
    "np.savetxt(\"data/gsm/hard.txt\", wrong_ids)\n",
    "np.savetxt(\"data/gsm/corrected.txt\", rectified_ids)"
   ]
  },
  {
   "cell_type": "code",
   "execution_count": 8,
   "id": "6f158c8c-1fee-40d1-82d3-f70ba9a8767e",
   "metadata": {},
   "outputs": [
    {
     "data": {
      "text/plain": [
       "(3, 3, [], 923.3333333333334, 3.938846985499064)"
      ]
     },
     "execution_count": 8,
     "metadata": {},
     "output_type": "execute_result"
    }
   ],
   "source": [
    "single_score, multi_score, rectified_ids, avg_tokens, avg_time"
   ]
  },
  {
   "cell_type": "code",
   "execution_count": 10,
   "id": "abb6ed59-db05-478c-b8bb-c0382fe41a3a",
   "metadata": {},
   "outputs": [
    {
     "name": "stderr",
     "output_type": "stream",
     "text": [
      "  0%|          | 0/3 [00:00<?, ?it/s]"
     ]
    },
    {
     "name": "stdout",
     "output_type": "stream",
     "text": [
      "question:  A restaurant has 40 tables with 4 legs and 50 tables with 3 legs. Calculate the total number of legs the restaurant's tables have.\n",
      "gt_answer:  The total number of legs which the tables with four legs have is 40*4 = <<40*4=160>>160 legs\n",
      "The three-legged tables have a total of 50*3 = <<50*3=150>>150 legs.\n",
      "The total number of legs that the restaurant's table have is 150+160 = <<150+160=310>>310\n",
      "#### 310\n",
      "===================\n",
      "\n",
      "=== Initial Answer ===\n",
      " Thoughts:\n",
      "1. For tables with 4 legs: 40 tables * 4 legs per table = 160 total legs\n",
      "2. For tables with 3 legs: 50 tables * 3 legs per table = 150 total legs\n",
      "3. Add the total number of legs from both types of tables: 160 + 150 = 310 total legs\n",
      "\n",
      "Answer:\n",
      "310\n"
     ]
    },
    {
     "name": "stderr",
     "output_type": "stream",
     "text": [
      " 33%|███▎      | 1/3 [00:03<00:06,  3.04s/it]"
     ]
    },
    {
     "name": "stdout",
     "output_type": "stream",
     "text": [
      "\n",
      "=== Final answer after self-reflection ===\n",
      " Mistakes (if any): \n",
      "\n",
      "There is a calculation error in the total number of legs from tables with 3 legs. It should be 50 tables * 3 legs per table = 150 total legs, not 160.\n",
      "\n",
      "Answer: 310\n",
      "GT answer and predicted answer:  310 310\n",
      "question:  April is donating plant pots to a local school for their new garden. They ask for 30 plant pots for the daisies, and twice as many for the roses. April had already bought 100 plant pots from the garden center before she knew how many she needed. How many plant pots does April have left over?\n",
      "gt_answer:  For the roses, the school wants 30 * 2 = <<30*2=60>>60 plant pots.\n",
      "This means she is giving the school 60 plant pots for roses + 30 plant pots for daisies = <<60+30=90>>90 plant pots.\n",
      "So in total, Alice has 100 – 90 = <<100-90=10>>10 plant pots left over.\n",
      "#### 10\n",
      "===================\n",
      "\n",
      "=== Initial Answer ===\n",
      " Thoughts: \n",
      "1. April needed 30 plant pots for the daisies and twice as many for the roses, which means 30 * 2 = 60 plant pots for the roses.\n",
      "2. In total, April needed 30 (daisies) + 60 (roses) = 90 plant pots.\n",
      "3. Since April already bought 100 plant pots, she has 100 - 90 = 10 plant pots left over.\n",
      "\n",
      "Answer: 10\n"
     ]
    },
    {
     "name": "stderr",
     "output_type": "stream",
     "text": [
      " 67%|██████▋   | 2/3 [00:05<00:02,  2.48s/it]"
     ]
    },
    {
     "name": "stdout",
     "output_type": "stream",
     "text": [
      "\n",
      "=== Final answer after self-reflection ===\n",
      " Mistakes (if any): None\n",
      "\n",
      "Answer: 10\n",
      "GT answer and predicted answer:  10 10\n",
      "question:  An electronics seller bought 5 phones for $700 each and gives the seller $4000 in dollar bills. How much will the seller give back in change?\n",
      "gt_answer:  The seller bought the 5 phones for $700 * 5 = $<<700*5=3500>>3500.\n",
      "So the seller gives back $4000-$3500 = $<<4000-3500=500>>500.\n",
      "#### 500\n",
      "===================\n",
      "\n",
      "=== Initial Answer ===\n",
      " Thoughts:\n",
      "1. Cost per phone = $700\n",
      "2. Total cost for 5 phones = 5 * $700 = $3500\n",
      "3. Amount given by the buyer = $4000\n",
      "4. Change to be given back = Amount given by the buyer - Total cost = $4000 - $3500 = $500\n",
      "\n",
      "Answer:\n",
      "The seller will give back $500 in change.\n"
     ]
    },
    {
     "name": "stderr",
     "output_type": "stream",
     "text": [
      "100%|██████████| 3/3 [00:07<00:00,  2.38s/it]"
     ]
    },
    {
     "name": "stdout",
     "output_type": "stream",
     "text": [
      "\n",
      "=== Final answer after self-reflection ===\n",
      " Mistakes (if any):\n",
      "None\n",
      "\n",
      "Answer: The seller will give back $500 in change.\n",
      "GT answer and predicted answer:  500 500\n"
     ]
    },
    {
     "name": "stderr",
     "output_type": "stream",
     "text": [
      "\n"
     ]
    }
   ],
   "source": [
    "from evaluation import eval_self_reflection\n",
    "\n",
    "score, wrong_ids, avg_tokens, avg_time = eval_self_reflection(task=\"gsm\", verbosity=1)"
   ]
  },
  {
   "cell_type": "code",
   "execution_count": 11,
   "id": "228f5a0f-b10f-4b6f-aa2d-68f47744b518",
   "metadata": {},
   "outputs": [
    {
     "data": {
      "text/plain": [
       "(3, 452.0, 2.382092555363973)"
      ]
     },
     "execution_count": 11,
     "metadata": {},
     "output_type": "execute_result"
    }
   ],
   "source": [
    "score, avg_tokens, avg_time"
   ]
  },
  {
   "cell_type": "code",
   "execution_count": 16,
   "id": "a33e4fe5-6969-4c6c-b2f5-25360e0a65e4",
   "metadata": {},
   "outputs": [
    {
     "name": "stderr",
     "output_type": "stream",
     "text": [
      "  0%|          | 0/3 [00:00<?, ?it/s]"
     ]
    },
    {
     "name": "stdout",
     "output_type": "stream",
     "text": [
      "question:  A restaurant has 40 tables with 4 legs and 50 tables with 3 legs. Calculate the total number of legs the restaurant's tables have.\n",
      "gt_answer:  The total number of legs which the tables with four legs have is 40*4 = <<40*4=160>>160 legs\n",
      "The three-legged tables have a total of 50*3 = <<50*3=150>>150 legs.\n",
      "The total number of legs that the restaurant's table have is 150+160 = <<150+160=310>>310\n",
      "#### 310\n",
      "===================\n",
      "\n",
      "=== Round 0 Agent 1 Answer ===\n",
      " Thoughts:\n",
      "1. Calculate total legs for tables with 4 legs: 40 tables * 4 legs = 160 legs\n",
      "2. Calculate total legs for tables with 3 legs: 50 tables * 3 legs = 150 legs\n",
      "3. Add the total legs for tables with 4 legs and 3 legs together: 160 legs + 150 legs = 310 legs\n",
      "\n",
      "Answer: 310 legs\n",
      "\n",
      "=== Round 0 Agent 2 Answer ===\n",
      " Thoughts:\n",
      "1. Number of legs on tables with 4 legs = 40 tables * 4 legs = 160 legs\n",
      "2. Number of legs on tables with 3 legs = 50 tables * 3 legs = 150 legs\n",
      "3. Total number of legs = 160 legs + 150 legs = 310 legs\n",
      "\n",
      "Answer: 310\n",
      "\n",
      "=== Round 0 Agent 3 Answer ===\n",
      " Thoughts: \n",
      "1. Calculate the total number of legs for the 40 tables with 4 legs: 40 tables * 4 legs = 160 legs\n",
      "2. Calculate the total number of legs for the 50 tables with 3 legs: 50 tables * 3 legs = 150 legs\n",
      "3. Add the number of legs from step 1 and step 2 to find the total number of legs: 160 legs + 150 legs = 310 legs\n",
      "\n",
      "Answer: The restaurant's tables have a total of 310 legs.\n",
      "\n",
      "=== Round 1 Agent 1 Answer ===\n",
      " Thoughts:\n",
      "I agree with the previous agents' steps in calculating the total number of legs for tables with 4 legs and tables with 3 legs. The computations are:\n",
      "- Tables with 4 legs: 40 tables * 4 legs = 160 legs\n",
      "- Tables with 3 legs: 50 tables * 3 legs = 150 legs\n",
      "By adding these two values, we get the total number of legs.\n",
      "\n",
      "Answer: The restaurant's tables have a total of 310 legs.\n",
      "\n",
      "=== Round 1 Agent 2 Answer ===\n",
      " Thoughts:\n",
      "1. Compute total legs on tables with 4 legs: 40 tables * 4 legs = 160 legs\n",
      "2. Calculate total legs on tables with 3 legs: 50 tables * 3 legs = 150 legs\n",
      "3. Add the total legs for tables with 4 legs and 3 legs: 160 legs + 150 legs = 310 legs\n",
      "\n",
      "Answer: 310\n"
     ]
    },
    {
     "name": "stderr",
     "output_type": "stream",
     "text": [
      " 33%|███▎      | 1/3 [00:10<00:21, 10.72s/it]"
     ]
    },
    {
     "name": "stdout",
     "output_type": "stream",
     "text": [
      "\n",
      "=== Round 1 Agent 3 Answer ===\n",
      " Thoughts: \n",
      "1. Calculate total legs for tables with 4 legs: 40 tables * 4 legs = 160 legs\n",
      "2. Calculate total legs for tables with 3 legs: 50 tables * 3 legs = 150 legs\n",
      "3. Add the total legs for tables with 4 legs and 3 legs together: 160 legs + 150 legs = 310 legs\n",
      "\n",
      "Answer: 310 legs\n",
      "GT answer and predicted answer:  310 310\n",
      "question:  April is donating plant pots to a local school for their new garden. They ask for 30 plant pots for the daisies, and twice as many for the roses. April had already bought 100 plant pots from the garden center before she knew how many she needed. How many plant pots does April have left over?\n",
      "gt_answer:  For the roses, the school wants 30 * 2 = <<30*2=60>>60 plant pots.\n",
      "This means she is giving the school 60 plant pots for roses + 30 plant pots for daisies = <<60+30=90>>90 plant pots.\n",
      "So in total, Alice has 100 – 90 = <<100-90=10>>10 plant pots left over.\n",
      "#### 10\n",
      "===================\n",
      "\n",
      "=== Round 0 Agent 1 Answer ===\n",
      " Thoughts:\n",
      "1. The school needs 30 plant pots for the daisies and twice as many for the roses, so 30 x 2 = 60 plant pots for the roses.\n",
      "2. In total, the school needs 30 + 60 = 90 plant pots.\n",
      "3. April had already bought 100 plant pots.\n",
      "4. To find out how many plant pots April has left, we subtract the school's need from what April already has: 100 - 90 = 10 plant pots left.\n",
      "\n",
      "Answer:\n",
      "April has 10 plant pots left over.\n",
      "\n",
      "=== Round 0 Agent 2 Answer ===\n",
      " Thoughts: \n",
      "1. April needs 30 plant pots for the daisies, so she needs 30 * 2 = 60 plant pots for the roses.\n",
      "2. In total, April needs 30 + 60 = 90 plant pots for the garden.\n",
      "3. April originally bought 100 plant pots.\n",
      "4. To find out how many plant pots she has left over, we subtract the total needed from what she originally bought: 100 - 90 = 10.\n",
      "\n",
      "Answer: 10\n",
      "\n",
      "=== Round 0 Agent 3 Answer ===\n",
      " Thoughts: \n",
      "1. Calculate the number of plant pots needed for the roses: 30 x 2 = 60 plant pots\n",
      "2. Add the number of plant pots needed for the daisies and roses: 30 + 60 = 90 plant pots\n",
      "3. Subtract the number of plant pots needed from the total April bought: 100 - 90 = 10 plant pots left over\n",
      "\n",
      "Answer: 10\n",
      "\n",
      "=== Round 1 Agent 1 Answer ===\n",
      " Thoughts:\n",
      "1. The school needs 30 plant pots for the daisies and 60 plant pots for the roses.\n",
      "2. In total, the school needs 30 + 60 = 90 plant pots.\n",
      "3. April originally had 100 plant pots.\n",
      "4. To find out how many plant pots April has left, we subtract the total needed from what she originally bought: 100 - 90 = 10 plant pots left.\n",
      "\n",
      "Answer:\n",
      "April has 10 plant pots left over.\n",
      "\n",
      "=== Round 1 Agent 2 Answer ===\n",
      " Thoughts:\n",
      "1. Calculate the number of plant pots needed for the roses: 30 x 2 = 60 plant pots.\n",
      "2. Add the number of plant pots needed for the daisies and roses: 30 + 60 = 90 plant pots.\n",
      "3. April originally bought 100 plant pots.\n",
      "4. To find out how many plant pots April has left, subtract the total needed from what April originally bought: 100 - 90 = 10 plant pots left over.\n",
      "\n",
      "Answer: 10\n"
     ]
    },
    {
     "name": "stderr",
     "output_type": "stream",
     "text": [
      " 67%|██████▋   | 2/3 [00:26<00:13, 13.64s/it]"
     ]
    },
    {
     "name": "stdout",
     "output_type": "stream",
     "text": [
      "\n",
      "=== Round 1 Agent 3 Answer ===\n",
      " Thoughts: \n",
      "1. The school needs 30 plant pots for the daisies and 60 plant pots for the roses.\n",
      "2. In total, they need 30 + 60 = 90 plant pots.\n",
      "3. April had already bought 100 plant pots.\n",
      "4. To find the number of plant pots she has left over, subtract the total needed from what was bought: 100 - 90 = 10 plant pots left over.\n",
      "\n",
      "Answer: 10\n",
      "GT answer and predicted answer:  10 10\n",
      "question:  An electronics seller bought 5 phones for $700 each and gives the seller $4000 in dollar bills. How much will the seller give back in change?\n",
      "gt_answer:  The seller bought the 5 phones for $700 * 5 = $<<700*5=3500>>3500.\n",
      "So the seller gives back $4000-$3500 = $<<4000-3500=500>>500.\n",
      "#### 500\n",
      "===================\n",
      "\n",
      "=== Round 0 Agent 1 Answer ===\n",
      " Thoughts:\n",
      "1. Cost of 5 phones = 5 phones * $700 = $3500\n",
      "2. Amount paid by seller = $4000\n",
      "3. Change to be given = Amount paid - Cost of phones\n",
      "4. Change = $4000 - $3500 = $500\n",
      "\n",
      "Answer:\n",
      "$500\n",
      "\n",
      "=== Round 0 Agent 2 Answer ===\n",
      " Thoughts:\n",
      "1. Total cost of 5 phones = 5 * $700 = $3500\n",
      "2. Amount paid by the seller = $4000\n",
      "3. Change to be given back = Amount paid - Total cost\n",
      "4. Change = $4000 - $3500\n",
      "\n",
      "Answer:\n",
      "Change = $500\n",
      "\n",
      "=== Round 0 Agent 3 Answer ===\n",
      " Thoughts: \n",
      "1. Cost of 5 phones = 5 phones x $700 each = $3500\n",
      "2. Amount paid by the seller = $4000\n",
      "3. Change to be given back = Amount paid - Cost of phones = $4000 - $3500 = $500\n",
      "\n",
      "Answer: $500\n",
      "\n",
      "=== Round 1 Agent 1 Answer ===\n",
      " Thoughts: \n",
      "1. Cost of 5 phones = 5 phones * $700 = $3500\n",
      "2. Amount paid by seller = $4000\n",
      "3. Change to be given = Amount paid - Cost of phones\n",
      "4. Change = $4000 - $3500 = $500\n",
      "\n",
      "Answer: \n",
      "$500\n",
      "\n",
      "=== Round 1 Agent 2 Answer ===\n",
      " Thoughts:\n",
      "1. Total cost of 5 phones = 5 * $700 = $3500\n",
      "2. Amount paid by the seller = $4000\n",
      "3. Change to be given back = Amount paid - Total cost\n",
      "4. Change = $4000 - $3500\n",
      "\n",
      "Answer:\n",
      "Change = $500\n"
     ]
    },
    {
     "name": "stderr",
     "output_type": "stream",
     "text": [
      "100%|██████████| 3/3 [00:33<00:00, 11.24s/it]"
     ]
    },
    {
     "name": "stdout",
     "output_type": "stream",
     "text": [
      "\n",
      "=== Round 1 Agent 3 Answer ===\n",
      " Thoughts: \n",
      "1. Total cost of 5 phones = 5 phones x $700 = $3500\n",
      "2. Amount paid by seller = $4000\n",
      "3. Change to be given back = Amount paid - Total cost of phones\n",
      "4. Change = $4000 - $3500 = $500\n",
      "\n",
      "Answer: $500\n",
      "GT answer and predicted answer:  500 500\n"
     ]
    },
    {
     "name": "stderr",
     "output_type": "stream",
     "text": [
      "\n"
     ]
    }
   ],
   "source": [
    "from evaluation import eval_debate\n",
    "\n",
    "score, wrong_ids, avg_tokens, avg_time = eval_debate(task=\"gsm\", verbosity=1)"
   ]
  },
  {
   "cell_type": "code",
   "execution_count": 17,
   "id": "e6e50ed1-eff7-4e5d-b67a-05783bb96d87",
   "metadata": {},
   "outputs": [
    {
     "data": {
      "text/plain": [
       "(3, 2325.0, 11.245251735051474)"
      ]
     },
     "execution_count": 17,
     "metadata": {},
     "output_type": "execute_result"
    }
   ],
   "source": [
    "score, avg_tokens, avg_time"
   ]
  },
  {
   "cell_type": "code",
   "execution_count": null,
   "id": "61ad68c4-35b4-465e-bd33-4138120744c7",
   "metadata": {},
   "outputs": [],
   "source": []
  }
 ],
 "metadata": {
  "kernelspec": {
   "display_name": "Python 3 (ipykernel)",
   "language": "python",
   "name": "python3"
  },
  "language_info": {
   "codemirror_mode": {
    "name": "ipython",
    "version": 3
   },
   "file_extension": ".py",
   "mimetype": "text/x-python",
   "name": "python",
   "nbconvert_exporter": "python",
   "pygments_lexer": "ipython3",
   "version": "3.11.11"
  }
 },
 "nbformat": 4,
 "nbformat_minor": 5
}
