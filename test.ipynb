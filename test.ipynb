{
 "cells": [
  {
   "cell_type": "code",
   "execution_count": 1,
   "id": "86bf7445-5549-49a8-bdf7-8042ff2aa8e5",
   "metadata": {},
   "outputs": [],
   "source": [
    "%load_ext autoreload\n",
    "%autoreload 2"
   ]
  },
  {
   "cell_type": "code",
   "execution_count": null,
   "id": "4ea475a3-f1cd-4c9d-8d23-89bd8e34ffbf",
   "metadata": {},
   "outputs": [],
   "source": [
    "from evaluation import eval_selfcheck\n",
    "from utils import get_selfcheck_data\n",
    "\n",
    "data = get_selfcheck_data()\n",
    "true_labels, pred_labels = eval_selfcheck(data)"
   ]
  },
  {
   "cell_type": "code",
   "execution_count": 3,
   "id": "0f10f981-1b6e-4705-827d-8863d2795e7a",
   "metadata": {},
   "outputs": [
    {
     "data": {
      "text/plain": [
       "([1, 1, 1, 1, 1, 1, 1, 1, 1], [1, 1, 1, 1, 1, 1, 1, 1, 1])"
      ]
     },
     "execution_count": 3,
     "metadata": {},
     "output_type": "execute_result"
    }
   ],
   "source": [
    "true_labels, pred_labels"
   ]
  },
  {
   "cell_type": "code",
   "execution_count": 4,
   "id": "9a1ced3e-dd32-43b8-8b3a-66902cbb097a",
   "metadata": {},
   "outputs": [
    {
     "name": "stderr",
     "output_type": "stream",
     "text": [
      "  0%|          | 0/2 [00:00<?, ?it/s]"
     ]
    },
    {
     "name": "stdout",
     "output_type": "stream",
     "text": [
      "question:  Janet’s ducks lay 16 eggs per day. She eats three for breakfast every morning and bakes muffins for her friends every day with four. She sells the remainder at the farmers' market daily for $2 per fresh duck egg. How much in dollars does she make every day at the farmers' market?\n",
      "gt_answer:  Janet sells 16 - 3 - 4 = <<16-3-4=9>>9 duck eggs a day.\n",
      "She makes 9 * 2 = $<<9*2=18>>18 every day at the farmer’s market.\n",
      "#### 18\n",
      "===================\n",
      "\n",
      "=== Author's Answer ===\n",
      " Thoughts:\n",
      "1. Calculate the total number of eggs for sale by subtracting the eggs used for breakfast and baking from the total eggs laid: 16 - 3 - 4 = 9\n",
      "2. Multiply the total number of eggs for sale (9) by the price per egg ($2) to find the total amount Janet makes at the farmers' market daily.\n",
      "\n",
      "Answer: $18\n",
      "\n",
      "--- Reviewer_1 Review ---\n",
      "Decision: Right\n",
      "Confidence: 5\n",
      "Justification:\n",
      "- According to the correct calculations provided, the total amount Janet makes at the farmers' market daily is $18, as confirmed by the executed code snippet.\n",
      "- The author correctly calculated the total number of eggs for sale by subtracting eggs used for breakfast and baking from the total eggs laid and multiplied it by the price per egg to find the total amount earned at the farmers' market daily.\n",
      "\n",
      "--- Reviewer_2 Review ---\n",
      "Decision: Right\n",
      "Confidence: 5\n",
      "Justification:\n",
      "- The author correctly calculated the total number of eggs available for sale, which is 16 - 3 - 4 = 9 eggs per day.\n",
      "- The author then accurately multiplied the total number of eggs for sale (9 eggs) by the price per egg ($2) to find the total amount Janet makes at the farmers' market daily, which equals $18.\n",
      "- Therefore, the author's answer of $18 is accurate based on the calculations provided.\n",
      "\n",
      "--- Reviewer_3 Review ---\n",
      "Decision: Right\n",
      "Confidence: 5\n",
      "Justification:\n",
      "- The author correctly calculated the total number of eggs available for sale as 9 by subtracting Janet's breakfast eggs and eggs used for baking from the total number of eggs laid by the ducks.\n",
      "- The author also accurately multiplied the total number of eggs for sale (9) by the price per egg ($2) to find that Janet makes $18 at the farmers' market daily, which is the correct amount based on the given information.\n",
      "- The answer provided by the author is accurate and the calculation steps are correctly applied to determine Janet's daily earnings at the farmers' market.\n"
     ]
    },
    {
     "name": "stderr",
     "output_type": "stream",
     "text": [
      " 50%|█████     | 1/2 [00:18<00:18, 18.83s/it]"
     ]
    },
    {
     "name": "stdout",
     "output_type": "stream",
     "text": [
      "\n",
      "=== Meta-Reviewer Final Decision ===\n",
      " Decision: Right\n",
      "Justification:\n",
      "- The author correctly calculated the total number of eggs available for sale by subtracting Janet's breakfast eggs and eggs used for baking from the total number of eggs laid by the ducks.\n",
      "- The author accurately multiplied the total number of eggs for sale (9 eggs) by the price per egg ($2) to find that Janet makes $18 at the farmers' market daily, which is the correct amount based on the given information.\n",
      "- The answer provided by the author is accurate, and the calculation steps are correctly applied to determine Janet's daily earnings at the farmers' market.\n",
      "\n",
      "Suggestions: None\n",
      "\n",
      "\n",
      "GT answer and predicted answer:  18 18\n",
      "\n",
      "\n",
      "question:  A robe takes 2 bolts of blue fiber and half that much white fiber.  How many bolts in total does it take?\n",
      "gt_answer:  It takes 2/2=<<2/2=1>>1 bolt of white fiber\n",
      "So the total amount of fabric is 2+1=<<2+1=3>>3 bolts of fabric\n",
      "#### 3\n",
      "===================\n",
      "\n",
      "=== Author's Answer ===\n",
      " Thought:\n",
      "1. Given that a robe requires 2 bolts of blue fiber and half that amount of white fiber.\n",
      "2. We calculated that the white fiber needed is 1 bolt (half of blue fiber).\n",
      "3. Adding the blue fiber (2 bolts) and white fiber (1 bolt) gives the total number of bolts required.\n",
      "\n",
      "Answer: 3\n",
      "\n",
      "--- Reviewer_1 Review ---\n",
      "Decision: Right\n",
      "Confidence: 5\n",
      "Justification:\n",
      "- The author correctly deduced that a robe requires 2 bolts of blue fiber and half that amount of white fiber.\n",
      "- The calculation that the white fiber needed is 1 bolt (half of the blue fiber) is accurate.\n",
      "- Adding 2 bolts of blue fiber and 1 bolt of white fiber to get the total of 3 bolts is the correct conclusion based on the given information.\n",
      "\n",
      "--- Reviewer_2 Review ---\n",
      "Decision: Right\n",
      "Confidence: 5\n",
      "Justification:\n",
      "- The author correctly identified the requirement for 2 bolts of blue fiber and half that amount, which is 1 bolt, of white fiber.\n",
      "- The calculation and addition of the blue fiber bolts (2 bolts) and the white fiber bolts (1 bolt) to determine the total number of bolts required as 3 is accurate.\n",
      "- The explanation provided is clear, logically sound, and accurately reflects the calculation process without errors.\n",
      "\n",
      "--- Reviewer_3 Review ---\n",
      "Decision: Right\n",
      "Confidence: 5\n",
      "Justification:\n",
      "- The author correctly calculated that the robe requires 2 bolts of blue fiber and 1 bolt of white fiber (half of blue fiber), resulting in a total of 3 bolts needed, which is accurate.\n",
      "- The logical steps taken by the author to arrive at the total number of bolts required are sound and correctly followed.\n"
     ]
    },
    {
     "name": "stderr",
     "output_type": "stream",
     "text": [
      "100%|██████████| 2/2 [00:33<00:00, 16.91s/it]"
     ]
    },
    {
     "name": "stdout",
     "output_type": "stream",
     "text": [
      "\n",
      "=== Meta-Reviewer Final Decision ===\n",
      " right\n",
      "\n",
      "\n",
      "GT answer and predicted answer:  3 3\n",
      "\n",
      "\n"
     ]
    },
    {
     "name": "stderr",
     "output_type": "stream",
     "text": [
      "\n"
     ]
    }
   ],
   "source": [
    "from evaluation import eval_gsm\n",
    "import numpy as np\n",
    "\n",
    "score, wrong_ids, rectified_ids = eval_gsm(n_problems=2, selected=False)\n",
    "# np.savetxt(\"data/GSM/hard.txt\", wrong_ids)"
   ]
  },
  {
   "cell_type": "code",
   "execution_count": 6,
   "id": "6f158c8c-1fee-40d1-82d3-f70ba9a8767e",
   "metadata": {},
   "outputs": [
    {
     "data": {
      "text/plain": [
       "(20, [39, 97])"
      ]
     },
     "execution_count": 6,
     "metadata": {},
     "output_type": "execute_result"
    }
   ],
   "source": [
    "score, rectified_ids"
   ]
  },
  {
   "cell_type": "code",
   "execution_count": null,
   "id": "abb6ed59-db05-478c-b8bb-c0382fe41a3a",
   "metadata": {},
   "outputs": [],
   "source": []
  }
 ],
 "metadata": {
  "kernelspec": {
   "display_name": "Python 3 (ipykernel)",
   "language": "python",
   "name": "python3"
  },
  "language_info": {
   "codemirror_mode": {
    "name": "ipython",
    "version": 3
   },
   "file_extension": ".py",
   "mimetype": "text/x-python",
   "name": "python",
   "nbconvert_exporter": "python",
   "pygments_lexer": "ipython3",
   "version": "3.11.11"
  }
 },
 "nbformat": 4,
 "nbformat_minor": 5
}
