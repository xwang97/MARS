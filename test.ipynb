{
 "cells": [
  {
   "cell_type": "code",
   "execution_count": 1,
   "id": "86bf7445-5549-49a8-bdf7-8042ff2aa8e5",
   "metadata": {},
   "outputs": [],
   "source": [
    "%load_ext autoreload\n",
    "%autoreload 2"
   ]
  },
  {
   "cell_type": "code",
   "execution_count": 12,
   "id": "9a1ced3e-dd32-43b8-8b3a-66902cbb097a",
   "metadata": {},
   "outputs": [
    {
     "name": "stderr",
     "output_type": "stream",
     "text": [
      "100%|██████████| 100/100 [06:54<00:00,  4.14s/it]\n"
     ]
    },
    {
     "data": {
      "text/plain": [
       "(37, np.float64(704.37), 4.142380800247192)"
      ]
     },
     "execution_count": 12,
     "metadata": {},
     "output_type": "execute_result"
    }
   ],
   "source": [
    "from evaluation import eval_single_agent\n",
    "\n",
    "score, wrong_ids, avg_tokens, avg_time = eval_single_agent(task=\"gpqa\", model=\"gpt-3.5-turbo\", n_problems=100)\n",
    "score, avg_tokens, avg_time"
   ]
  },
  {
   "cell_type": "code",
   "execution_count": 13,
   "id": "96dd30e8-3b9c-4765-acb3-3a06c0617a82",
   "metadata": {},
   "outputs": [
    {
     "name": "stderr",
     "output_type": "stream",
     "text": [
      "100%|██████████| 100/100 [16:36<00:00,  9.97s/it]\n"
     ]
    }
   ],
   "source": [
    "from evaluation import eval_mars\n",
    "score, corrected_ids, avg_tokens, avg_time = eval_mars(task=\"gpqa\", model=\"gpt-3.5-turbo\", n_problems=100, n_reviewers=2, voting=True)"
   ]
  },
  {
   "cell_type": "code",
   "execution_count": 14,
   "id": "a4f77819-0563-4e91-91cd-2fae930e3d03",
   "metadata": {},
   "outputs": [
    {
     "data": {
      "text/plain": [
       "(44, [np.int64(161), np.int64(330)], np.float64(3800.08), 9.965791399478912)"
      ]
     },
     "execution_count": 14,
     "metadata": {},
     "output_type": "execute_result"
    }
   ],
   "source": [
    "score, corrected_ids, avg_tokens, avg_time"
   ]
  },
  {
   "cell_type": "code",
   "execution_count": null,
   "id": "abb6ed59-db05-478c-b8bb-c0382fe41a3a",
   "metadata": {},
   "outputs": [],
   "source": [
    "from evaluation import eval_self_reflection\n",
    "\n",
    "single_score, score, wrong_ids, avg_tokens, avg_time = eval_self_reflection(task=\"mmlu\", verbosity=0)"
   ]
  },
  {
   "cell_type": "code",
   "execution_count": 14,
   "id": "228f5a0f-b10f-4b6f-aa2d-68f47744b518",
   "metadata": {},
   "outputs": [
    {
     "data": {
      "text/plain": [
       "(68, 67, 628.42, 1.826026906967163)"
      ]
     },
     "execution_count": 14,
     "metadata": {},
     "output_type": "execute_result"
    }
   ],
   "source": [
    "single_score, score, avg_tokens, avg_time"
   ]
  },
  {
   "cell_type": "code",
   "execution_count": 35,
   "id": "a33e4fe5-6969-4c6c-b2f5-25360e0a65e4",
   "metadata": {},
   "outputs": [
    {
     "name": "stderr",
     "output_type": "stream",
     "text": [
      "100%|██████████| 100/100 [33:21<00:00, 20.02s/it]  \n"
     ]
    }
   ],
   "source": [
    "from evaluation import eval_debate\n",
    "\n",
    "score, wrong_ids, avg_tokens, avg_time = eval_debate(task=\"gpqa\", n_agents=3, verbosity=0)"
   ]
  },
  {
   "cell_type": "code",
   "execution_count": 36,
   "id": "e6e50ed1-eff7-4e5d-b67a-05783bb96d87",
   "metadata": {},
   "outputs": [
    {
     "data": {
      "text/plain": [
       "(39, 5037.62, 20.01512188434601)"
      ]
     },
     "execution_count": 36,
     "metadata": {},
     "output_type": "execute_result"
    }
   ],
   "source": [
    "score, avg_tokens, avg_time"
   ]
  },
  {
   "cell_type": "code",
   "execution_count": 1,
   "id": "c1dccc7b-4c68-4c47-b84f-35719acf1d54",
   "metadata": {
    "tags": []
   },
   "outputs": [
    {
     "name": "stdout",
     "output_type": "stream",
     "text": [
      "gpt-3.5-turbo ['gpt-3.5-turbo', 'gpt-3.5-turbo', 'gpt-3.5-turbo'] gpt-3.5-turbo\n"
     ]
    }
   ],
   "source": [
    "import yaml\n",
    "\n",
    "# Load the YAML config file\n",
    "with open(\"config.yml\", \"r\") as file:\n",
    "    config = yaml.safe_load(file)\n",
    "\n",
    "print(config['author_llm'], config['reviewer_llms'], config['meta_llm'])"
   ]
  },
  {
   "cell_type": "code",
   "execution_count": 2,
   "id": "8a39ba41-d0ea-4059-809a-d347857a48e0",
   "metadata": {},
   "outputs": [],
   "source": [
    "import json\n",
    "def read_jsonl(path: str):\n",
    "    with open(path) as fh:\n",
    "        return [json.loads(line) for line in fh.readlines() if line]\n",
    "mmlupro=read_jsonl('data/mmlupro/test.json')"
   ]
  },
  {
   "cell_type": "code",
   "execution_count": 9,
   "id": "92245249",
   "metadata": {},
   "outputs": [
    {
     "name": "stdout",
     "output_type": "stream",
     "text": [
      "Typical advertising regulatory bodies suggest, for example that adverts must not: encourage _________, cause unnecessary ________ or _____, and must not cause _______ offence. ['Safe practices, Fear, Jealousy, Trivial', 'Unsafe practices, Distress, Joy, Trivial', 'Safe practices, Wants, Jealousy, Trivial', 'Safe practices, Distress, Fear, Trivial', 'Unsafe practices, Wants, Jealousy, Serious', 'Safe practices, Distress, Jealousy, Serious', 'Safe practices, Wants, Fear, Serious', 'Unsafe practices, Wants, Fear, Trivial', 'Unsafe practices, Distress, Fear, Serious'] I\n"
     ]
    }
   ],
   "source": [
    "print(mmlupro[0]['question'], mmlupro[0]['options'], mmlupro[0]['answer'])"
   ]
  },
  {
   "cell_type": "code",
   "execution_count": 12,
   "id": "7d3b1bed",
   "metadata": {},
   "outputs": [
    {
     "name": "stdout",
     "output_type": "stream",
     "text": [
      "Typical advertising regulatory bodies suggest, for example that adverts must not: encourage _________, cause unnecessary ________ or _____, and must not cause _______ offence.: A) Safe practices, Fear, Jealousy, Trivial, B) Unsafe practices, Distress, Joy, Trivial, C) Safe practices, Wants, Jealousy, Trivial, D) Safe practices, Distress, Fear, Trivial, E) Unsafe practices, Wants, Jealousy, Serious, F) Safe practices, Distress, Jealousy, Serious, G) Safe practices, Wants, Fear, Serious, H) Unsafe practices, Wants, Fear, Trivial, I) Unsafe practices, Distress, Fear, Serious\n",
      "I\n",
      "{'question': 'Typical advertising regulatory bodies suggest, for example that adverts must not: encourage _________, cause unnecessary ________ or _____, and must not cause _______ offence.: A) Safe practices, Fear, Jealousy, Trivial, B) Unsafe practices, Distress, Joy, Trivial, C) Safe practices, Wants, Jealousy, Trivial, D) Safe practices, Distress, Fear, Trivial, E) Unsafe practices, Wants, Jealousy, Serious, F) Safe practices, Distress, Jealousy, Serious, G) Safe practices, Wants, Fear, Serious, H) Unsafe practices, Wants, Fear, Trivial, I) Unsafe practices, Distress, Fear, Serious', 'answer': 'I'}\n"
     ]
    }
   ],
   "source": [
    "sample=mmlupro[0]\n",
    "question = sample['question']\n",
    "options = sample['options']\n",
    "answer = sample['answer']\n",
    "question_op = question + \":\"\n",
    "options_str = \", \".join([f\"{chr(65+i)}) {opt}\" for i, opt in enumerate(options)])\n",
    "question_op = f\"{question_op} {options_str}\"\n",
    "print(question_op)\n",
    "print(answer)\n",
    "single_que = {\"question\": question_op, \"answer\": answer}\n",
    "print(single_que)"
   ]
  },
  {
   "cell_type": "code",
   "execution_count": 14,
   "id": "c06a6463",
   "metadata": {},
   "outputs": [
    {
     "name": "stdout",
     "output_type": "stream",
     "text": [
      "Each pack of dvds costs 76 dollars. If there is a discount of 25 dollars on each pack. How much do you have to pay to buy each pack?\n",
      "51.0\n"
     ]
    }
   ],
   "source": [
    "with open(\"data/svamp/test_all.json\", \"r\") as f:\n",
    "    data = json.load(f)\n",
    "sample = data[0]\n",
    "question = sample['problem']\n",
    "ans = sample[\"solution\"]\n",
    "print(question)\n",
    "print(ans)\n",
    "# all_questions.append({\"question\": question, \"answer\": ans})"
   ]
  }
 ],
 "metadata": {
  "kernelspec": {
   "display_name": "myenv",
   "language": "python",
   "name": "python3"
  },
  "language_info": {
   "codemirror_mode": {
    "name": "ipython",
    "version": 3
   },
   "file_extension": ".py",
   "mimetype": "text/x-python",
   "name": "python",
   "nbconvert_exporter": "python",
   "pygments_lexer": "ipython3",
   "version": "3.11.13"
  }
 },
 "nbformat": 4,
 "nbformat_minor": 5
}
