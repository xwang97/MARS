{
 "cells": [
  {
   "cell_type": "code",
   "execution_count": 1,
   "id": "86bf7445-5549-49a8-bdf7-8042ff2aa8e5",
   "metadata": {},
   "outputs": [],
   "source": [
    "%load_ext autoreload\n",
    "%autoreload 2"
   ]
  },
  {
   "cell_type": "code",
   "execution_count": 3,
   "id": "9a1ced3e-dd32-43b8-8b3a-66902cbb097a",
   "metadata": {},
   "outputs": [
    {
     "name": "stderr",
     "output_type": "stream",
     "text": [
      "100%|██████████| 100/100 [09:49<00:00,  5.89s/it]\n"
     ]
    }
   ],
   "source": [
    "from evaluation import eval_marvel\n",
    "import numpy as np\n",
    "\n",
    "single_score, multi_score, wrong_ids, rectified_ids, avg_tokens, avg_time = eval_marvel(task=\"gsm\", n_problems=100, selected=True, n_reviewers=3, verbosity=0)\n",
    "np.savetxt(\"data/gsm/hard.txt\", wrong_ids)\n",
    "np.savetxt(\"data/gsm/corrected.txt\", rectified_ids)"
   ]
  },
  {
   "cell_type": "code",
   "execution_count": 4,
   "id": "6f158c8c-1fee-40d1-82d3-f70ba9a8767e",
   "metadata": {},
   "outputs": [
    {
     "data": {
      "text/plain": [
       "(85, 85, [28, 67, 975], 1878.58, 5.8924549961090085)"
      ]
     },
     "execution_count": 4,
     "metadata": {},
     "output_type": "execute_result"
    }
   ],
   "source": [
    "single_score, multi_score, rectified_ids, avg_tokens, avg_time"
   ]
  },
  {
   "cell_type": "code",
   "execution_count": 7,
   "id": "abb6ed59-db05-478c-b8bb-c0382fe41a3a",
   "metadata": {},
   "outputs": [
    {
     "name": "stderr",
     "output_type": "stream",
     "text": [
      "100%|██████████| 100/100 [04:37<00:00,  2.78s/it]\n"
     ]
    }
   ],
   "source": [
    "from evaluation import eval_self_reflection\n",
    "\n",
    "score, wrong_ids, avg_tokens, avg_time = eval_self_reflection(task=\"gsm\", verbosity=0)"
   ]
  },
  {
   "cell_type": "code",
   "execution_count": 8,
   "id": "228f5a0f-b10f-4b6f-aa2d-68f47744b518",
   "metadata": {},
   "outputs": [
    {
     "data": {
      "text/plain": [
       "(76, 549.84, 2.7797128176689148)"
      ]
     },
     "execution_count": 8,
     "metadata": {},
     "output_type": "execute_result"
    }
   ],
   "source": [
    "score, avg_tokens, avg_time"
   ]
  },
  {
   "cell_type": "code",
   "execution_count": 9,
   "id": "a33e4fe5-6969-4c6c-b2f5-25360e0a65e4",
   "metadata": {},
   "outputs": [
    {
     "name": "stderr",
     "output_type": "stream",
     "text": [
      "100%|██████████| 100/100 [15:23<00:00,  9.24s/it]\n"
     ]
    }
   ],
   "source": [
    "from evaluation import eval_debate\n",
    "\n",
    "score, wrong_ids, avg_tokens, avg_time = eval_debate(task=\"gsm\", verbosity=0)"
   ]
  },
  {
   "cell_type": "code",
   "execution_count": 10,
   "id": "e6e50ed1-eff7-4e5d-b67a-05783bb96d87",
   "metadata": {},
   "outputs": [
    {
     "data": {
      "text/plain": [
       "(86, 2737.53, 9.239872012138367)"
      ]
     },
     "execution_count": 10,
     "metadata": {},
     "output_type": "execute_result"
    }
   ],
   "source": [
    "score, avg_tokens, avg_time"
   ]
  },
  {
   "cell_type": "code",
   "execution_count": null,
   "id": "61ad68c4-35b4-465e-bd33-4138120744c7",
   "metadata": {},
   "outputs": [],
   "source": []
  }
 ],
 "metadata": {
  "kernelspec": {
   "display_name": "Python 3 (ipykernel)",
   "language": "python",
   "name": "python3"
  },
  "language_info": {
   "codemirror_mode": {
    "name": "ipython",
    "version": 3
   },
   "file_extension": ".py",
   "mimetype": "text/x-python",
   "name": "python",
   "nbconvert_exporter": "python",
   "pygments_lexer": "ipython3",
   "version": "3.11.11"
  }
 },
 "nbformat": 4,
 "nbformat_minor": 5
}
