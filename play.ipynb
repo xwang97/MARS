{
 "cells": [
  {
   "cell_type": "code",
   "execution_count": 10,
   "id": "4756f421-2a60-4aca-8dd1-c35bb2aac315",
   "metadata": {},
   "outputs": [],
   "source": [
    "import pickle\n",
    "import numpy as np\n",
    "from scipy.stats import entropy\n",
    "from tqdm import tqdm\n",
    "from datasets import load_dataset"
   ]
  },
  {
   "cell_type": "code",
   "execution_count": 11,
   "id": "f4f8cc03-7590-45d1-a300-86015aeff011",
   "metadata": {},
   "outputs": [],
   "source": [
    "wikibio = load_dataset(\"wiki_bio\", split=\"test\")"
   ]
  },
  {
   "cell_type": "code",
   "execution_count": 1,
   "id": "e305393e-e6f5-4bf5-b118-271474349e08",
   "metadata": {},
   "outputs": [],
   "source": [
    "from utils import get_selfcheck_data\n",
    "data = get_selfcheck_data()"
   ]
  },
  {
   "cell_type": "code",
   "execution_count": 6,
   "id": "37f0a558-3262-4d0b-acab-5b0234d79162",
   "metadata": {},
   "outputs": [
    {
     "data": {
      "text/plain": [
       "\"Matthew Aylmer, 1st Baron Aylmer (1708–1794) was an Irish soldier and colonial administrator. He was born in Dublin, the son of a barrister, and was educated at Trinity College, Dublin. He joined the British Army in 1727 and served in the War of the Austrian Succession and the Seven Years' War. He was promoted to lieutenant-general in 1772 and was appointed Governor of Gibraltar in 1775. He was made a baron in 1782 and was appointed Commander-in-Chief of the British forces in North America in 1783. He was recalled in 1790 and died in London in 1794. He was buried in Westminster Abbey.\""
      ]
     },
     "execution_count": 6,
     "metadata": {},
     "output_type": "execute_result"
    }
   ],
   "source": [
    "data[1]['gpt3_text']"
   ]
  },
  {
   "cell_type": "code",
   "execution_count": 12,
   "id": "13fa21ba-dabd-48d0-992a-ae71d58c4d56",
   "metadata": {},
   "outputs": [
    {
     "data": {
      "text/plain": [
       "'matthew aylmer , 1st baron aylmer'"
      ]
     },
     "execution_count": 12,
     "metadata": {},
     "output_type": "execute_result"
    }
   ],
   "source": [
    "wiki_id = data[1]['wiki_bio_test_idx']\n",
    "concept = wikibio[wiki_id][\"input_text\"][\"context\"].strip()\n",
    "concept"
   ]
  },
  {
   "cell_type": "code",
   "execution_count": 4,
   "id": "eda93a8f-df7b-4c50-8119-ed19c9f589a4",
   "metadata": {},
   "outputs": [],
   "source": [
    "label_mapping = {\n",
    "    'accurate': 0.0,\n",
    "    'minor_inaccurate': 0.5,\n",
    "    'major_inaccurate': 1.0,\n",
    "}"
   ]
  },
  {
   "cell_type": "code",
   "execution_count": 5,
   "id": "15033089-a5e0-473a-9200-ecbc5dc20d92",
   "metadata": {},
   "outputs": [],
   "source": [
    "human_label_detect_False   = {}\n",
    "human_label_detect_False_h = {}\n",
    "human_label_detect_True    = {}\n",
    "for i_ in range(len(dataset)):\n",
    "    dataset_i = dataset[i_]\n",
    "    idx = dataset_i['wiki_bio_test_idx']\n",
    "    raw_label = np.array([label_mapping[x] for x in dataset_i['annotation']])\n",
    "    human_label_detect_False[idx] = (raw_label > 0.499).astype(np.int32).tolist()\n",
    "    human_label_detect_True[idx]  = (raw_label < 0.499).astype(np.int32).tolist()\n",
    "    average_score = np.mean(raw_label)\n",
    "    if average_score < 0.99:\n",
    "        human_label_detect_False_h[idx] = (raw_label > 0.99).astype(np.int32).tolist()"
   ]
  },
  {
   "cell_type": "code",
   "execution_count": 6,
   "id": "cd2867fe-a88a-4b87-9c10-7460f669ceb9",
   "metadata": {},
   "outputs": [
    {
     "data": {
      "text/plain": [
       "(238, 238, 206)"
      ]
     },
     "execution_count": 6,
     "metadata": {},
     "output_type": "execute_result"
    }
   ],
   "source": [
    "len(human_label_detect_False), len(human_label_detect_True), len(human_label_detect_False_h)"
   ]
  },
  {
   "cell_type": "code",
   "execution_count": 2,
   "id": "df44091e-5fbd-4131-990f-4a150bada73a",
   "metadata": {},
   "outputs": [
    {
     "data": {
      "application/vnd.jupyter.widget-view+json": {
       "model_id": "c19a22ceb4a8413c9abc31b3b9701527",
       "version_major": 2,
       "version_minor": 0
      },
      "text/plain": [
       "VBox(children=(HTML(value='<center> <img\\nsrc=https://huggingface.co/front/assets/huggingface_logo-noborder.sv…"
      ]
     },
     "metadata": {},
     "output_type": "display_data"
    }
   ],
   "source": [
    "from huggingface_hub import notebook_login\n",
    "\n",
    "notebook_login()"
   ]
  },
  {
   "cell_type": "code",
   "execution_count": 14,
   "id": "c749b98f-b9dd-4f97-9892-f69235ce6e2f",
   "metadata": {
    "scrolled": true
   },
   "outputs": [
    {
     "name": "stdout",
     "output_type": "stream",
     "text": [
      "{'id': 'chatcmpl-139705941338704', 'object': 'chat.completion', 'created': 1746388447, 'choices': [{'index': 0, 'message': {'role': 'assistant', 'reasoning_content': 'First, I need to add the numbers 10 and 1.\\n\\nStarting from 10, I add 1 to it.\\n\\nCounting up, 10 plus 1 equals 11.\\n\\nTherefore, the result of 10 + 1 is 11.\\n', 'content': '\\n\\n**Solution:**\\n\\nWe need to compute the sum of 10 and 1.\\n\\n1. **Count \\\\(10 + 1\\\\):**\\n\\n\\\\[\\n10 + 1 = 11\\n\\\\]\\n\\n2. **Final Answer:**\\n\\n\\\\[\\n\\\\boxed{11}\\n\\\\]\\n\\n<box>The result'}, 'logprobs': None, 'finish_reason': 'length'}], 'usage': {'prompt_tokens': 13, 'completion_tokens': 128, 'total_tokens': 141}}\n"
     ]
    }
   ],
   "source": [
    "from sagemaker.predictor import retrieve_default\n",
    "endpoint_name = \"jumpstart-dft-deepseek-llm-r1-disti-20250504-191212\"\n",
    "predictor = retrieve_default(endpoint_name)\n",
    "payload = {\n",
    "    \"messages\": [\n",
    "        {\n",
    "            \"role\": \"user\",\n",
    "            \"content\": \"what is 10+1.\"\n",
    "        }\n",
    "    ],\n",
    "    \"max_tokens\": 128\n",
    "}\n",
    "response = predictor.predict(payload)\n",
    "print(response)\n",
    "# payload = {\n",
    "#     \"messages\": [\n",
    "#         {\n",
    "#             \"role\": \"user\",\n",
    "#             \"content\": \"What is 1+1?\"\n",
    "#         },\n",
    "#         {\n",
    "#             \"role\": \"assistant\",\n",
    "#             \"content\": \"It's 2.\"\n",
    "#         },\n",
    "#         {\n",
    "#             \"role\": \"user\",\n",
    "#             \"content\": \"Explain more!\"\n",
    "#         }\n",
    "#     ],\n",
    "#     \"max_tokens\": 128\n",
    "# }\n",
    "# response = predictor.predict(payload)\n",
    "# print(response)\n",
    "# payload = {\n",
    "#     \"messages\": [\n",
    "#         {\n",
    "#             \"role\": \"user\",\n",
    "#             \"content\": \"Create a Flappy Bird game in Python.\"\n",
    "#         }\n",
    "#     ],\n",
    "#     \"max_tokens\": 128\n",
    "# }\n",
    "# response = predictor.predict(payload)\n",
    "# print(response)"
   ]
  },
  {
   "cell_type": "code",
   "execution_count": null,
   "id": "345d5818-d034-4fa5-af8c-94aa9d5fb557",
   "metadata": {},
   "outputs": [],
   "source": [
    "from workflow import run_review_pipeline, run_detection_pipeline\n",
    "\n",
    "# query = \"What are the main differences between GPT-3.5 and GPT-4?\"\n",
    "# run_review_pipeline(query)\n",
    "\n",
    "sentence = \"Matthew Aylmer, 1st Baron Aylmer (1708–1794) was an Irish soldier and colonial administrator.\"\n",
    "passage = \"Matthew Aylmer, 1st Baron Aylmer (1708–1794) was an Irish soldier and colonial administrator. He was born in Dublin, the son of a barrister, and was educated at Trinity College, Dublin. He joined the British Army in 1727 and served in the War of the Austrian Succession and the Seven Years' War. He was promoted to lieutenant-general in 1772 and was appointed Governor of Gibraltar in 1775. He was made a baron in 1782 and was appointed Commander-in-Chief of the British forces in North America in 1783. He was recalled in 1790 and died in London in 1794. He was buried in Westminster Abbey.\"\n",
    "run_detection_pipeline(sentence, passage)"
   ]
  }
 ],
 "metadata": {
  "kernelspec": {
   "display_name": "Python 3 (ipykernel)",
   "language": "python",
   "name": "python3"
  },
  "language_info": {
   "codemirror_mode": {
    "name": "ipython",
    "version": 3
   },
   "file_extension": ".py",
   "mimetype": "text/x-python",
   "name": "python",
   "nbconvert_exporter": "python",
   "pygments_lexer": "ipython3",
   "version": "3.11.11"
  }
 },
 "nbformat": 4,
 "nbformat_minor": 5
}
